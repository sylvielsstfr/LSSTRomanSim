{
 "cells": [
  {
   "cell_type": "markdown",
   "id": "e3837fc8-68dc-4ffa-a00a-a6c1cf9953c5",
   "metadata": {},
   "source": [
    "# Roman Throughtput from Galsim\n",
    "\n",
    "## Use the zero point to convert fluxes in magnitudes, check the ZP are corrects and merge dataframes with mags and redshifts"
   ]
  },
  {
   "cell_type": "markdown",
   "id": "fe2857fc-f6b9-48bb-ab26-b86312f5906d",
   "metadata": {},
   "source": [
    "- author : Sylvie Dagoret-Campagne\n",
    "- afflilation : IJCLab/IN2P3/CNRS\n",
    "- creation date : 2025-03-11\n",
    "- last update : 2025-03-11\n",
    "- nersc python KERNEL : desc-python, or desc-python-bleed (better)"
   ]
  },
  {
   "cell_type": "code",
   "execution_count": null,
   "id": "aeefa734-7e17-41d8-bd1d-079320fc3ad9",
   "metadata": {},
   "outputs": [],
   "source": [
    "import galsim\n",
    "import os\n",
    "import pandas as pd\n",
    "import h5py\n",
    "\n",
    "import numpy as np\n",
    "import matplotlib as mpl\n",
    "import matplotlib.pyplot as plt\n",
    "%matplotlib inline\n",
    "\n",
    "props = dict(boxstyle='round', facecolor=\"white\", alpha=0.1)\n",
    "\n",
    "\n",
    "import matplotlib.colors as colors\n",
    "import matplotlib.cm as cmx\n",
    "import seaborn as sns"
   ]
  },
  {
   "cell_type": "code",
   "execution_count": null,
   "id": "708e39e4-62a8-471f-aa40-1206d2b53bc9",
   "metadata": {},
   "outputs": [],
   "source": [
    "import galsim\n",
    "import galsim.roman as roman\n",
    "from  galsim.roman.roman_bandpass import getBandpasses"
   ]
  },
  {
   "cell_type": "code",
   "execution_count": null,
   "id": "ae7b0af0-6390-457e-a1d4-7b381aba3222",
   "metadata": {},
   "outputs": [],
   "source": [
    "plt.rcParams[\"figure.figsize\"] = (4,3)\n",
    "plt.rcParams[\"axes.labelsize\"] = 'xx-large'\n",
    "plt.rcParams['axes.titlesize'] = 'xx-large'\n",
    "plt.rcParams['xtick.labelsize']= 'xx-large'\n",
    "plt.rcParams['ytick.labelsize']= 'xx-large'"
   ]
  },
  {
   "cell_type": "code",
   "execution_count": null,
   "id": "f4fc3398-6ea9-468f-9769-7f397caa00d6",
   "metadata": {},
   "outputs": [],
   "source": [
    "datadir = \"/global/cfs/cdirs/descssim/imSim/skyCatalogs_v1.1.2\"\n",
    "throughputs_dir = \"/global/cfs/cdirs/descssim/imSim/lsst/data/throughputs_aug_2021\"\n",
    "os.environ[\"THROUGHPUTS_DIR\"] = throughputs_dir"
   ]
  },
  {
   "cell_type": "markdown",
   "id": "650a11ef-fa4b-47d2-902a-a1b924cb53aa",
   "metadata": {},
   "source": [
    "### Select one HP "
   ]
  },
  {
   "cell_type": "code",
   "execution_count": null,
   "id": "1800ccf9-30af-4a06-b443-5d6d985c3f92",
   "metadata": {},
   "outputs": [],
   "source": [
    "hpnum = 10552\n",
    "data_name = f\"skyCatalogs_v1.1.2 hp={hpnum}\"\n",
    "outputfile = f\"magszgalaxies_lsstroman_skyCatalogs_v1.1.2_hp{hpnum}.parquet\""
   ]
  },
  {
   "cell_type": "code",
   "execution_count": null,
   "id": "c96cbafa-1072-4639-acdf-3843390f187e",
   "metadata": {},
   "outputs": [],
   "source": [
    "fn_sed = f\"galaxy_sed_{hpnum}.hdf5\"\n",
    "fn_galaxy = f\"galaxy_{hpnum}.parquet\"\n",
    "fn_flux = f\"galaxy_flux_{hpnum}.parquet\""
   ]
  },
  {
   "cell_type": "markdown",
   "id": "56679f79-8d85-49a4-83aa-fc5a27678b17",
   "metadata": {},
   "source": [
    "## Read redshifts"
   ]
  },
  {
   "cell_type": "code",
   "execution_count": null,
   "id": "2d7cd9e2-0f68-4e9f-8e3b-cec63f8756fa",
   "metadata": {},
   "outputs": [],
   "source": [
    "ffn_galaxy = os.path.join(datadir,fn_galaxy)\n",
    "if not os.path.exists(ffn_galaxy) :\n",
    "    raise Exception(f\"File {ffn_galaxy} DOES NOT exists\")\n",
    "else:\n",
    "    df_g = pd.read_parquet(ffn_galaxy)"
   ]
  },
  {
   "cell_type": "code",
   "execution_count": null,
   "id": "ca088404-7a2f-4300-b703-dab086f4fba9",
   "metadata": {},
   "outputs": [],
   "source": [
    "df_g.head()"
   ]
  },
  {
   "cell_type": "code",
   "execution_count": null,
   "id": "a4943e8d-659b-437b-8b15-a67fa238fb15",
   "metadata": {},
   "outputs": [],
   "source": [
    "df_g = df_g[[\"galaxy_id\",\"ra\",\"dec\",\"redshift\"]]"
   ]
  },
  {
   "cell_type": "code",
   "execution_count": null,
   "id": "002778fb-036c-4aa6-842e-31ea92c15095",
   "metadata": {},
   "outputs": [],
   "source": [
    "df_g"
   ]
  },
  {
   "cell_type": "markdown",
   "id": "3cd0b3e8-364d-421d-8494-5b957a2182e1",
   "metadata": {},
   "source": [
    "## Read flux file"
   ]
  },
  {
   "cell_type": "code",
   "execution_count": null,
   "id": "c9104bb4-6608-4e9b-81a4-2c52f290419d",
   "metadata": {},
   "outputs": [],
   "source": [
    "ffn_flux = os.path.join(datadir,fn_flux)\n",
    "if not os.path.exists(ffn_flux):\n",
    "    raise Exception(f\"File {ffn_fluxy} DOES NOT exists\")\n",
    "else:\n",
    "    df_f = pd.read_parquet(ffn_flux)"
   ]
  },
  {
   "cell_type": "code",
   "execution_count": null,
   "id": "287ddd1f-d9bb-4673-8d21-50690f125c29",
   "metadata": {},
   "outputs": [],
   "source": [
    "df_f.head()"
   ]
  },
  {
   "cell_type": "markdown",
   "id": "f8551685-1c63-4508-b76d-5fe0fd1750dd",
   "metadata": {},
   "source": [
    "## Throughputs"
   ]
  },
  {
   "cell_type": "markdown",
   "id": "43555de6-c1e3-4a3e-a82b-3f601c0f1a13",
   "metadata": {},
   "source": [
    "### LSST Throughputs"
   ]
  },
  {
   "cell_type": "code",
   "execution_count": null,
   "id": "2e099e3b-16a9-4c6c-bec8-e439e975edc5",
   "metadata": {},
   "outputs": [],
   "source": [
    "bands = \"ugrizy\"\n",
    "lsst_ZP = {}\n",
    "for band in bands:\n",
    "    bp_file = os.path.join(os.environ['THROUGHPUTS_DIR'], 'baseline',\n",
    "                           f'total_{band}.dat')\n",
    "    lut = galsim.LookupTable.from_file(bp_file)\n",
    "    bp = galsim.Bandpass(lut, wave_type='nm')\n",
    "    bp = bp.truncate(relative_throughput=1e-3)\n",
    "    bp = bp.thin()\n",
    "    bp = bp.withZeropoint('AB')\n",
    "    lsst_ZP[band]  = bp.zeropoint"
   ]
  },
  {
   "cell_type": "code",
   "execution_count": null,
   "id": "c7f2ad0a-356a-4602-b460-387bbcf54571",
   "metadata": {},
   "outputs": [],
   "source": [
    "lsst_ZP"
   ]
  },
  {
   "cell_type": "markdown",
   "id": "6dd82a46-6e0f-4efd-ab2e-e9221b5c8d4c",
   "metadata": {},
   "source": [
    "### Roman Throughputs"
   ]
  },
  {
   "cell_type": "code",
   "execution_count": null,
   "id": "cc3015d6-4942-49cf-b3e5-26aaffa68cca",
   "metadata": {},
   "outputs": [],
   "source": [
    "#list_of_bands = [\"F062\",\"F087\",\"F106\",\"F129\",\"F158\",\"F184\",\"F146\",\"F213\"]\n",
    "list_of_bands = [\"roman_flux_R062\",\"roman_flux_Z087\",\"roman_flux_Y106\",\"roman_flux_J129\",\"roman_flux_W146\",\"roman_flux_H158\",\"roman_flux_F184\",\"roman_flux_K213\"]\n",
    "Nb = len(list_of_bands)\n",
    "colors = sns.color_palette(\"Spectral_r\", Nb)\n",
    "colors"
   ]
  },
  {
   "cell_type": "code",
   "execution_count": null,
   "id": "f47d7185-e925-45a4-9060-454881cd0cf5",
   "metadata": {},
   "outputs": [],
   "source": [
    "roman_bandpasses = roman.getBandpasses(AB_zeropoint=True)"
   ]
  },
  {
   "cell_type": "code",
   "execution_count": null,
   "id": "082974e8-4d48-406a-ac6b-886f993b5288",
   "metadata": {},
   "outputs": [],
   "source": [
    "#filters = [filter_name for filter_name in roman_filters if filter_name[0] in use_filters]\n",
    "roman_filters_names = [filter_name for filter_name in roman_bandpasses]"
   ]
  },
  {
   "cell_type": "code",
   "execution_count": null,
   "id": "e1c82d40-f6c9-44d8-bf6a-007f9ff8da03",
   "metadata": {},
   "outputs": [],
   "source": [
    "roman_filters_names"
   ]
  },
  {
   "cell_type": "code",
   "execution_count": null,
   "id": "c74304ce-2282-480d-9838-308c09db2b32",
   "metadata": {},
   "outputs": [],
   "source": [
    "Nf = len(roman_filters_names)\n",
    "colors = sns.color_palette(\"Spectral_r\", Nb)\n",
    "colors"
   ]
  },
  {
   "cell_type": "code",
   "execution_count": null,
   "id": "7ede3580-cb50-4d09-809b-0e873d10f13a",
   "metadata": {},
   "outputs": [],
   "source": [
    "roman_ZP = {}\n",
    "for filt_name in roman_filters_names:\n",
    "    roman_ZP[filt_name]  = roman_bandpasses[filt_name].zeropoint"
   ]
  },
  {
   "cell_type": "code",
   "execution_count": null,
   "id": "4ac8bd21-6452-4aa3-b7f7-13aaebdabb41",
   "metadata": {},
   "outputs": [],
   "source": [
    "roman_ZP"
   ]
  },
  {
   "cell_type": "code",
   "execution_count": null,
   "id": "ca37f7a3-8448-4009-ba1d-272462f0c5ec",
   "metadata": {},
   "outputs": [],
   "source": [
    "roman_bandpasses = galsim.roman.getBandpasses()"
   ]
  },
  {
   "cell_type": "markdown",
   "id": "d2892237-d7ed-497c-a293-cba27cb586aa",
   "metadata": {},
   "source": [
    "### Convertion in magnitudes\n",
    "- To convert from flux (which has units of #/photons/cm^2/s) in the skyCatalogs files to magnitude, do :\n",
    "\n",
    "      mag = zp - 2.5*log10(flux)\n",
    "\n",
    "\n",
    "  "
   ]
  },
  {
   "cell_type": "code",
   "execution_count": null,
   "id": "157fa899-f169-45f3-aaa1-8308364d7efd",
   "metadata": {},
   "outputs": [],
   "source": [
    "flux_cols = df_f.columns[1:]\n",
    "flux_cols"
   ]
  },
  {
   "cell_type": "code",
   "execution_count": null,
   "id": "cbc8b167-11fb-4733-aebd-30b051f49bf5",
   "metadata": {},
   "outputs": [],
   "source": [
    "df_m = pd.DataFrame()\n",
    "df_m = df_f[[\"galaxy_id\"]]"
   ]
  },
  {
   "cell_type": "code",
   "execution_count": null,
   "id": "8b9753d1-2cc4-46e3-aae8-55c6b52e2c9c",
   "metadata": {},
   "outputs": [],
   "source": [
    "df_m.head()"
   ]
  },
  {
   "cell_type": "code",
   "execution_count": null,
   "id": "f9efaf96-cf8e-4d1b-a37c-868b0e712cc0",
   "metadata": {},
   "outputs": [],
   "source": [
    "for flux_col in flux_cols:\n",
    "    split_colname = flux_col.split(\"_\")\n",
    "    instrum =   split_colname[0]\n",
    "    band = split_colname[-1]\n",
    "    mag_colname = f\"{instrum}_mag_{band}\"\n",
    "    print(mag_colname)\n",
    "    if instrum == \"lsst\":\n",
    "        df_m.loc[:,mag_colname] = lsst_ZP[band] - 2.5*(df_f[flux_col].apply(np.log10))\n",
    "    elif instrum == \"roman\":\n",
    "        df_m.loc[:,mag_colname] = roman_ZP[band] - 2.5*(df_f[flux_col].apply(np.log10))"
   ]
  },
  {
   "cell_type": "code",
   "execution_count": null,
   "id": "d708a02b-0e67-44ca-a3e2-fcbd5ab1a46d",
   "metadata": {},
   "outputs": [],
   "source": [
    "df_m"
   ]
  },
  {
   "cell_type": "code",
   "execution_count": null,
   "id": "3ffb321f-157d-4d21-a68f-42a8f563aaa0",
   "metadata": {},
   "outputs": [],
   "source": [
    "colors = sns.color_palette(\"hls\", 3)\n",
    "\n",
    "fig,axs = plt.subplots(1,3,figsize=(16,5),layout=\"constrained\")\n",
    "ax1,ax2,ax3 = axs.flatten()\n",
    "\n",
    "\n",
    "df_m.plot.scatter(x=\"lsst_mag_r\",y=\"roman_mag_R062\",ax=ax1,marker=\".\",color=colors[0])\n",
    "ax1.set_aspect('equal')\n",
    "\n",
    "df_m.plot.scatter(x=\"lsst_mag_z\",y=\"roman_mag_Z087\",ax=ax2,marker=\".\",color=colors[1])\n",
    "ax2.set_aspect('equal')\n",
    "\n",
    "\n",
    "df_m.plot.scatter(x=\"lsst_mag_y\",y=\"roman_mag_Y106\",ax=ax3,marker=\".\",color=colors[2])\n",
    "ax3.set_aspect('equal')\n",
    "\n",
    "plt.suptitle(\"Comparison magnitudes roman vs LSST\")\n",
    "\n",
    "plt.show()"
   ]
  },
  {
   "cell_type": "code",
   "execution_count": null,
   "id": "79f40670-2efe-4a1c-8a6e-6812aa474a66",
   "metadata": {},
   "outputs": [],
   "source": [
    "df_m.head()"
   ]
  },
  {
   "cell_type": "code",
   "execution_count": null,
   "id": "3893c696-ae6f-4f5a-b1be-ca73b6f1a2a7",
   "metadata": {},
   "outputs": [],
   "source": [
    "df_g.head()"
   ]
  },
  {
   "cell_type": "code",
   "execution_count": null,
   "id": "85467d19-4dc7-4436-829d-9b3426f3714f",
   "metadata": {},
   "outputs": [],
   "source": [
    "df_mag = df_m.merge(df_g, on=\"galaxy_id\")"
   ]
  },
  {
   "cell_type": "code",
   "execution_count": null,
   "id": "5ec4bb6f-4163-4a28-a8de-dc28ada6babd",
   "metadata": {},
   "outputs": [],
   "source": [
    "df_mag"
   ]
  },
  {
   "cell_type": "markdown",
   "id": "552eabc1-1200-4862-8746-ce1a3503d4da",
   "metadata": {},
   "source": [
    "## Save output file"
   ]
  },
  {
   "cell_type": "code",
   "execution_count": null,
   "id": "b8b86b1f-a372-4a93-93bc-6313f527cb20",
   "metadata": {},
   "outputs": [],
   "source": [
    "df_mag.to_parquet(outputfile)"
   ]
  },
  {
   "cell_type": "code",
   "execution_count": null,
   "id": "0746d1dc-af6f-4868-9272-78daa45230c7",
   "metadata": {},
   "outputs": [],
   "source": []
  }
 ],
 "metadata": {
  "kernelspec": {
   "display_name": "desc-python-bleed",
   "language": "python",
   "name": "desc-python-bleed"
  },
  "language_info": {
   "codemirror_mode": {
    "name": "ipython",
    "version": 3
   },
   "file_extension": ".py",
   "mimetype": "text/x-python",
   "name": "python",
   "nbconvert_exporter": "python",
   "pygments_lexer": "ipython3",
   "version": "3.12.8"
  }
 },
 "nbformat": 4,
 "nbformat_minor": 5
}
