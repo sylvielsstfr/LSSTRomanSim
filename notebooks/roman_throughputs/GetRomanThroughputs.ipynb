{
 "cells": [
  {
   "cell_type": "markdown",
   "id": "a0580e52-91a6-44fc-bb2b-5c86d5e2a3e8",
   "metadata": {},
   "source": [
    "## View Roman Throughput\n",
    "- author : Sylvie Dagoret-Campagne\n",
    "- afflilation : IJCLab/IN2P3/CNRS\n",
    "- creation date : 2025-03-10\n",
    "- last update : 2025-03-10\n",
    "- nersc python KERNEL : desc-python, or desc-python-bleed (better)"
   ]
  },
  {
   "cell_type": "code",
   "execution_count": null,
   "id": "7c9bcc9b-cad2-4e6b-9c7d-ed2bba2b433c",
   "metadata": {},
   "outputs": [],
   "source": [
    "from astropy.io import ascii\n",
    "import os,glob\n",
    "\n",
    "import numpy as np\n",
    "import matplotlib as mpl\n",
    "import matplotlib.pyplot as plt\n",
    "%matplotlib inline\n",
    "\n",
    "props = dict(boxstyle='round', facecolor=\"white\", alpha=0.1)\n",
    "\n",
    "\n",
    "import matplotlib.colors as colors\n",
    "import matplotlib.cm as cmx\n",
    "import seaborn as sns"
   ]
  },
  {
   "cell_type": "code",
   "execution_count": null,
   "id": "56550d3c-72c6-4bda-a580-ae7aab48b9e6",
   "metadata": {},
   "outputs": [],
   "source": [
    "plt.rcParams[\"figure.figsize\"] = (4,3)\n",
    "plt.rcParams[\"axes.labelsize\"] = 'xx-large'\n",
    "plt.rcParams['axes.titlesize'] = 'xx-large'\n",
    "plt.rcParams['xtick.labelsize']= 'xx-large'\n",
    "plt.rcParams['ytick.labelsize']= 'xx-large'"
   ]
  },
  {
   "cell_type": "code",
   "execution_count": null,
   "id": "d3b7511c-338d-4010-af6f-2f15f3dd4176",
   "metadata": {},
   "outputs": [],
   "source": [
    "path_data = \"Roman_effarea_tables_20240327\""
   ]
  },
  {
   "cell_type": "code",
   "execution_count": null,
   "id": "76b2a210-a5f5-4c4f-82f0-25f3098d0711",
   "metadata": {},
   "outputs": [],
   "source": [
    "list_of_thoughputfiles = glob.glob(os.path.join(path_data,\"*\"))\n",
    "list_of_thoughputfiles = sorted(list_of_thoughputfiles)"
   ]
  },
  {
   "cell_type": "code",
   "execution_count": null,
   "id": "d0dcc6cd-6a4d-4ffe-8c21-3925ff575cb9",
   "metadata": {},
   "outputs": [],
   "source": [
    "list_of_thoughputfiles"
   ]
  },
  {
   "cell_type": "code",
   "execution_count": null,
   "id": "75bcfa48-bd4d-4004-a489-15f02ca5af41",
   "metadata": {},
   "outputs": [],
   "source": [
    "index_file = 1\n",
    "throughput_file = list_of_thoughputfiles[index_file]\n",
    "t = ascii.read(throughput_file)  "
   ]
  },
  {
   "cell_type": "code",
   "execution_count": null,
   "id": "e9105216-0c80-4c9a-96b6-395de544698e",
   "metadata": {},
   "outputs": [],
   "source": [
    "t"
   ]
  },
  {
   "cell_type": "code",
   "execution_count": null,
   "id": "1664b8a3-68e7-41d8-9884-e6be76ddccc3",
   "metadata": {},
   "outputs": [],
   "source": [
    "list_of_bands = [\"F062\",\"F087\",\"F106\",\"F129\",\"F158\",\"F184\",\"F146\",\"F213\"]\n",
    "Nb = len(list_of_bands)\n",
    "colors = sns.color_palette(\"Spectral_r\", Nb)\n",
    "colors"
   ]
  },
  {
   "cell_type": "code",
   "execution_count": null,
   "id": "f97c3ccf-9a46-4f64-a250-2c80e2d987e3",
   "metadata": {},
   "outputs": [],
   "source": [
    "fig,ax = plt.subplots(1,1,figsize=(16,8))\n",
    "\n",
    "for idx, band_name in enumerate(list_of_bands):\n",
    "    ax.plot(t[\"Wave\"],t[band_name], color=colors[idx],lw=3,label=band_name)\n",
    "ax.legend()\n",
    "ax.set_title(throughput_file)\n",
    "ax.set_xlabel(\"$\\lambda$\")\n",
    "plt.show()"
   ]
  },
  {
   "cell_type": "code",
   "execution_count": null,
   "id": "e8ecb86c-c744-4614-9f05-93fe49cb3041",
   "metadata": {},
   "outputs": [],
   "source": []
  }
 ],
 "metadata": {
  "kernelspec": {
   "display_name": "desc-python-bleed",
   "language": "python",
   "name": "desc-python-bleed"
  },
  "language_info": {
   "codemirror_mode": {
    "name": "ipython",
    "version": 3
   },
   "file_extension": ".py",
   "mimetype": "text/x-python",
   "name": "python",
   "nbconvert_exporter": "python",
   "pygments_lexer": "ipython3",
   "version": "3.12.8"
  }
 },
 "nbformat": 4,
 "nbformat_minor": 5
}
