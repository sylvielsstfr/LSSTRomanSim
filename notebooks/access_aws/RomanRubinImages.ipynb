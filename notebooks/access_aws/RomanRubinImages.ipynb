{
 "cells": [
  {
   "cell_type": "markdown",
   "id": "e0a798f1-7c9d-47b6-aec6-61e1a11ea07c",
   "metadata": {},
   "source": [
    "# Using Firefly to Explore OpenUniverse2024 Data Preview Simulated Roman and Rubin Images"
   ]
  },
  {
   "cell_type": "markdown",
   "id": "7c3afca2-4100-4773-9d41-7eb8e6a148e6",
   "metadata": {},
   "source": [
    "- creation date : 2025-03-14\n",
    "- on my laptop kernel `romanlsst_py311`"
   ]
  },
  {
   "cell_type": "markdown",
   "id": "eb8c5cc1-f4ca-49dd-ad22-f97daff853cc",
   "metadata": {},
   "source": [
    "https://caltech-ipac.github.io/irsa-tutorials/tutorials/firefly/OpenUniverse2024Preview_Firefly.html"
   ]
  },
  {
   "cell_type": "markdown",
   "id": "a6efbe96-80ff-430b-a352-d6d47221bc85",
   "metadata": {},
   "source": [
    "Introduction\n",
    "\n",
    "The purpose of this tutorial is to become familiar with simulated Roman and Rubin simulated data published through the OpenUniverse 2024 data preview, and to become familiar with the Firefly JupyterLab Extension for visualizing astronomical data products.\n",
    "\n",
    "OpenUniverse2024 is a project to simulate spatially overlapping imaging surveys to be carried out by the Nancy Grace Roman Telescope and the Vera C. Rubin Observatory. The simulations were carried out on Argonne’s Theta cluster and consist of:\n",
    "\n",
    "    The LSST ELAIS-S1 Deep Drilling Field (DDF)\n",
    "\n",
    "    The Roman Time-Domain Survey (TDS) shifted to overlap the ELAIS region and LSST DDF\n",
    "\n",
    "    Overlapping LSST Wide-Fast-Deep (WFD) survey (with rolling cadence)\n",
    "\n",
    "    Overlapping Roman Wide-Area Survey (WAS) in the same region\n",
    "\n",
    "    A deep-field calibration region of the Roman WAS in the same region\n",
    "\n",
    "This data preview release consists of a subset of data from each of the five categories above. More information about data preview can be found at IRSA holding of this dataset.\n",
    "\n",
    "Firefly is an open-source web-based UI library for astronomical data archive access and visualization developed at Caltech and used by multiple space- and ground-based astrophysics archives. More information on Firefly can be found here.\n",
    "\n",
    "In addition to being used to make web applications, Firefly can be used from Python. More information on Firefly Python client can be found here.\n",
    "\n",
    "The Firefly JupyterLab Extension makes it particularly easy to use Firefly to efficiently visualize cloud-hosted astronomical data using JupyterLab instances running locally or on cloud. More information on Firefly JupyterLab Extension can be found here."
   ]
  },
  {
   "cell_type": "markdown",
   "id": "e94bf9b0-6caf-4b79-a098-a91ebdc40121",
   "metadata": {},
   "source": [
    "## Imports\n",
    "\n",
    "    astropy.io.fits for accessing FITS files\n",
    "    numpy for numerical computing\n",
    "    s3fs for browsing cloud buckets\n",
    "    matplotlib.pyplot for creating static visualizations of FITS images\n",
    "    matplotlib.patches for annotating visualizations of FITS images\n",
    "    astropy.wcs for dealing with astronomical world coordinate systems\n",
    "    astropy.units for dealing with astronomical units\n",
    "    astropy.coordinates.SkyCoord for dealing with astronomical coordinates\n",
    "    firefly_client.FireflyClient for using the Firefly python client\n",
    "    astropy.nddata.Cutout2D for making image cutouts\n",
    "    itertools.product to support looping over Roman blocks\n",
    "    reproject.reproject_interp to convert Roman coadds from STG to TAN projection\n",
    "    io.BytesIO for writing a fits file to an in-memory stream"
   ]
  },
  {
   "cell_type": "code",
   "execution_count": null,
   "id": "1d551804-723c-4896-8654-cf8cb64134e2",
   "metadata": {},
   "outputs": [],
   "source": [
    "#Uncomment the next line to install dependencies if needed.\n",
    "# !pip install numpy astropy s3fs matplotlib firefly_client reproject"
   ]
  },
  {
   "cell_type": "code",
   "execution_count": null,
   "id": "9733186e-24a8-47e0-b0c2-2c274a16ab10",
   "metadata": {},
   "outputs": [],
   "source": [
    "from astropy.io import fits\n",
    "import numpy as np\n",
    "import s3fs\n",
    "from matplotlib import pyplot as plt\n",
    "from matplotlib import patches\n",
    "from astropy import wcs\n",
    "from astropy import units as u\n",
    "from astropy.coordinates import SkyCoord\n",
    "from firefly_client import FireflyClient\n",
    "from astropy.nddata import Cutout2D\n",
    "from itertools import product\n",
    "from reproject import reproject_interp\n",
    "from io import BytesIO"
   ]
  },
  {
   "cell_type": "markdown",
   "id": "594a8082-0a5e-4c69-bd9f-458fb889c496",
   "metadata": {},
   "source": [
    "## Learn where the OpenUniverse2024 data are hosted in the cloud.\n",
    "\n",
    "The OpenUniverse2024 data preview is hosted in the cloud via Amazon Web Services (AWS). To access these data, you need to create a client to read data from Amazon’s Simple Storage Service (s3) buckets, and you need to know some information about those buckets. The OpenUniverse2024 data preview contains simulations of the Roman Wide-Area Survey (WAS) and the Roman Time Domain Survey (TDS). In this tutorial, we will focus on the WAS."
   ]
  },
  {
   "cell_type": "code",
   "execution_count": null,
   "id": "adab927d-62c8-4f4e-b40f-791f7889ad4b",
   "metadata": {},
   "outputs": [],
   "source": [
    "BUCKET_NAME = \"nasa-irsa-simulations\"\n",
    "ROMAN_PREFIX = \"openuniverse2024/roman/preview\"\n",
    "ROMAN_COADD_PATH = f\"{ROMAN_PREFIX}/RomanWAS/images/coadds\"\n",
    "TRUTH_FILES_PATH = f\"{ROMAN_PREFIX}/roman_rubin_cats_v1.1.2_faint\"\n",
    "\n",
    "RUBIN_PREFIX = \"openuniverse2024/rubin/preview\"\n",
    "RUBIN_COADD_PATH = f\"{RUBIN_PREFIX}/u/descdm/preview_data_step3_2877_19_w_2024_12/20240403T150003Z/deepCoadd_calexp/2877/19\""
   ]
  },
  {
   "cell_type": "markdown",
   "id": "4d678d92-7027-47d6-abc1-65212d3f46ed",
   "metadata": {},
   "source": [
    "### Roman Coadds\n",
    "The Nancy Grace Roman Space Telescope will carry out a wide-area survey (WAS) in the near infrared. The OpenUniverse2024 data preview includes coadded mosaics of simulated WAS data, created with the IMCOM algorithm (Rowe et al. 2011). Bands include F184, H158, J129, K213, Y106. In this section, we define some functions that make it convenient to retrieve a given cloud-hosted simulated Roman coadd based on position and filter."
   ]
  },
  {
   "cell_type": "markdown",
   "id": "48d3527f-e253-4e70-8e4a-71484465802d",
   "metadata": {},
   "source": [
    "#### Define Roman Simulated “Blocks”\n",
    "The simulated Roman coadds are arranged in 100 arcsecond blocks, as described in Hirata et al. 2024. Below we define the RA and Dec of the block centers. This cell should not be altered."
   ]
  },
  {
   "cell_type": "code",
   "execution_count": null,
   "id": "74e9fb50-4780-47e8-a8cd-94952e8a6a39",
   "metadata": {},
   "outputs": [],
   "source": [
    "#Centers of roman data preview blocks. Do not alter.\n",
    "ra_block_centers = np.array([9.76330352298415, 9.724522605135252, 9.68574158906671,\n",
    "                        9.646960496603766, 9.608179349571955, 9.56939816979703,\n",
    "                        9.530616979104877, 9.491835799321422, 9.453054652272561,\n",
    "                        9.414273559784032, 9.375492543681393, 9.336711625789874]) * u.deg\n",
    "dec_block_centers = np.array([-44.252584927082495, -44.22480733304182, -44.197029724175756,\n",
    "                            -44.16925210374898, -44.14147447502621, -44.11369684127218,\n",
    "                            -44.08591920575162, -44.05814157172923, -44.03036394246976,\n",
    "                            -44.0025863212379, -43.974808711298394, -43.94703111591591]) * u.deg\n",
    "block_size = 100 * u.arcsec # each block is 100 arcsec across"
   ]
  },
  {
   "cell_type": "markdown",
   "id": "5d952ac0-9d7f-430b-be9f-da0971b4dfcf",
   "metadata": {},
   "source": [
    "#### Define a function that returns the simulated Roman block column/row for a given RA/Dec."
   ]
  },
  {
   "cell_type": "markdown",
   "id": "fe9ebdc5-2834-4d9a-9a31-f3f3be8b8b8f",
   "metadata": {},
   "source": [
    "Blocks are arranged in a grid with axes parallel to RA and Dec. A given RA represents a column of blocks and a given Dec represents a row of blocks. This function returns the block column or row given the block centers from the cell above and a given RA or Dec, respectively."
   ]
  },
  {
   "cell_type": "code",
   "execution_count": null,
   "id": "d5f7dfa3-ab80-4d3c-8c29-693cc9bd386d",
   "metadata": {},
   "outputs": [],
   "source": [
    "def get_block_axis(block_centers, coord, ra_or_dec):\n",
    "    ra_or_dec_coord = getattr(coord, ra_or_dec)\n",
    "    block_dist_array = np.absolute(block_centers - ra_or_dec_coord)\n",
    "    closest_block_idx = block_dist_array.argmin()\n",
    "    if (ra_or_dec_coord < block_centers.min()-block_size/2 \n",
    "        or ra_or_dec_coord > block_centers.max()+block_size/2):\n",
    "        raise ValueError(f\"Chosen {ra_or_dec}: {ra_or_dec_coord} not covered by OpenUniverse 2024 data preview simulated Roman coadds\")\n",
    "    else:\n",
    "        return closest_block_idx + 12 # preview covers central 12 rows 12 columns, in a grid of 36x36 blocks"
   ]
  },
  {
   "cell_type": "markdown",
   "id": "206e1eb4-bfc6-4ba5-b373-8d426b6c1c4e",
   "metadata": {},
   "source": [
    "#### Define a function that retrieves a Roman simulated coadd given a sky position and filter\n",
    "Each of the cloud-hosted simulated Roman coadds can be accessed via a S3 filepath. This function returns the access path for the simulated Roman coadd that includes a specified position on the sky and desired filter."
   ]
  },
  {
   "cell_type": "code",
   "execution_count": null,
   "id": "e99a8841-11b6-4702-83e6-d650ce25f6ba",
   "metadata": {},
   "outputs": [],
   "source": [
    "def get_roman_coadd_fpath(coord, filter):\n",
    "    col = get_block_axis(ra_block_centers, coord, 'ra')\n",
    "    row = get_block_axis(dec_block_centers, coord, 'dec')\n",
    "    \n",
    "    # Construct the coadd filename from the chosen filter, row, and column.\n",
    "    coadd_fname_root = f\"prod_{filter[0]}_{col}_{row}_map.fits\"\n",
    "    coadd_fpath = f\"{BUCKET_NAME}/{ROMAN_COADD_PATH}/{filter}/Row{row}/{coadd_fname_root}\"\n",
    "    return coadd_fpath"
   ]
  },
  {
   "cell_type": "markdown",
   "id": "c0af8729-be7c-4835-b49e-05d080e72e36",
   "metadata": {},
   "source": [
    "Now we use this access path and prefix it with s3:// and use astropy.fits to extract a subset of it (for more info see this section of astropy docs).\n",
    "\n",
    "We use .section to retrieve just the science image data from fits HDU as a 2D numpy.array, and extract WCS information from fits header as astropy.wcs.WCS object. The following function returns a dictionary of both."
   ]
  },
  {
   "cell_type": "code",
   "execution_count": null,
   "id": "7a931b93-2176-4256-a91e-8cb5afeee515",
   "metadata": {},
   "outputs": [],
   "source": [
    "def get_roman_coadd(coord, filter):\n",
    "    # retrive fits file of block/tile from the coadd mosiac\n",
    "    coadd_s3_fpath = get_roman_coadd_fpath(coord, filter)\n",
    "    coadd_s3_uri = f\"s3://{coadd_s3_fpath}\"\n",
    "\n",
    "    with fits.open(coadd_s3_uri, fsspec_kwargs={\"anon\": True}) as hdul:\n",
    "        # retrieve science data from coadd fits\n",
    "        coadd_data = hdul[0].section[0,0, :, :]  # has (2688, 2688, 15, 1) shape, with 0th layer in the cube as science image\n",
    "\n",
    "        # make wcs using header\n",
    "        coadd_wcs = wcs.WCS(hdul[0].header, naxis=2)\n",
    "\n",
    "        return {'data': coadd_data, 'wcs': coadd_wcs}"
   ]
  },
  {
   "cell_type": "markdown",
   "id": "62fc65c2-1d87-458e-a670-e5b376968238",
   "metadata": {},
   "source": [
    "#### Inspect a simulated Roman Coadd\n",
    "Choose a filter and position that lies within the data preview region"
   ]
  },
  {
   "cell_type": "code",
   "execution_count": null,
   "id": "1b8913a8-324d-43b8-b5e2-f3ce1108e01f",
   "metadata": {},
   "outputs": [],
   "source": [
    "coord = SkyCoord(ra=9.6055383, dec=-44.1895542, unit=\"deg\")\n",
    "filter_roman = 'H158' #F184, H158, J129, K213, and Y106 are available in the data preview"
   ]
  },
  {
   "cell_type": "markdown",
   "id": "e8dde7d0-89c2-4733-bf8c-2a361235b4b1",
   "metadata": {},
   "source": [
    "Retrieve the data and header information from the simulated Roman coadd corresponding to the chosen position and filter."
   ]
  },
  {
   "cell_type": "code",
   "execution_count": null,
   "id": "ba153d7c-c003-4414-8abd-fd6b4a16e3c0",
   "metadata": {},
   "outputs": [],
   "source": [
    "coadd_roman = get_roman_coadd(coord, filter_roman)"
   ]
  },
  {
   "cell_type": "markdown",
   "id": "8b110aa0-bcf8-4373-8f34-791fa560ff6c",
   "metadata": {},
   "source": [
    "#### Understand the size of a simulated Roman coad"
   ]
  },
  {
   "cell_type": "code",
   "execution_count": null,
   "id": "74a9c1df-d0e6-4875-9a34-7ecd4b479b57",
   "metadata": {},
   "outputs": [],
   "source": [
    "# Number of pixels (Y, X)\n",
    "coadd_roman['data'].shape"
   ]
  },
  {
   "cell_type": "code",
   "execution_count": null,
   "id": "5ef8090f-c5be-4a38-a2b8-17f018c3f19f",
   "metadata": {},
   "outputs": [],
   "source": [
    "# Pixel size (scale Y, scale X) [degrees/pixel]\n",
    "coadd_roman['wcs'].proj_plane_pixel_scales()"
   ]
  },
  {
   "cell_type": "code",
   "execution_count": null,
   "id": "9090d7ec-e23d-40c5-a3d1-3c2febffe47c",
   "metadata": {},
   "outputs": [],
   "source": [
    "# Coadd size (FOV Y, FOV X)\n",
    "[(num * size).to('arcsec') for num, size in zip(\n",
    "    coadd_roman['data'].shape, coadd_roman['wcs'].proj_plane_pixel_scales())]"
   ]
  },
  {
   "cell_type": "markdown",
   "id": "7186c95f-9b0b-4c48-8a6b-57f9c76d10ea",
   "metadata": {},
   "source": [
    "The field of view of Roman coadd is ~100 arcsec."
   ]
  },
  {
   "cell_type": "markdown",
   "id": "e60b6fa0-9251-49d0-8869-94034738f6ff",
   "metadata": {},
   "source": [
    "#### Use the WCS from the Roman simulated header to convert the specified coordinate into a pixel position."
   ]
  },
  {
   "cell_type": "code",
   "execution_count": null,
   "id": "81bd0b4c-c5aa-4873-bb85-dfbd71df9d22",
   "metadata": {},
   "outputs": [],
   "source": [
    "def coord_to_xy(w, coord):\n",
    "    return w.world_to_array_index(coord)[::-1] #reverse since 0th axis is y, 1st axis is x\n",
    "\n",
    "coord_arr_idx = coord_to_xy(coadd_roman['wcs'], coord)\n",
    "coord_arr_idx"
   ]
  },
  {
   "cell_type": "markdown",
   "id": "d7d6eec8-b3df-496c-87e2-e21533542374",
   "metadata": {},
   "source": [
    "#### Use matplotlib imshow to create a static visualization of the Roman simulated coadd and overplot the selected position."
   ]
  },
  {
   "cell_type": "code",
   "execution_count": null,
   "id": "f05f98e1-1abb-4917-8427-340be3ce31df",
   "metadata": {},
   "outputs": [],
   "source": [
    "def stretch_color(data, clipPercent):\n",
    "    return np.percentile(data, (0 + clipPercent, 100 - clipPercent))\n",
    "\n",
    "plt.imshow(coadd_roman['data'], origin='lower', \n",
    "           clim=stretch_color(coadd_roman['data'], 1)\n",
    "           )\n",
    "\n",
    "plt.plot(*coord_arr_idx, 'r+', markersize=15)"
   ]
  },
  {
   "cell_type": "markdown",
   "id": "81f2a9c7-339f-4cd8-b13b-32baab8d3e5b",
   "metadata": {},
   "source": [
    "### Rubin Coadds\n",
    "The OpenUniverse2024 data preview includes coadded mosaics in the following filters: u, g, r, i, z, y. In this section, we define some functions that make it convenient to retrieve a given cloud-hosted simulated Roman coadd based on position and filter."
   ]
  },
  {
   "cell_type": "markdown",
   "id": "1caa90f3-e5ee-4814-b226-387647d049d5",
   "metadata": {},
   "source": [
    "#### Retrieve Rubin Coadds\n",
    "The OpenUniverse2024 data preview includes only one simulated Rubin coadd per filter. Below we define functions that make it convenient to retrieve the simulated Rubin coadd corresponding to the desired filter. We return data in same structure as the functions we defined above for Roman."
   ]
  },
  {
   "cell_type": "code",
   "execution_count": null,
   "id": "494431af-5857-4ee9-9add-5da489c3456d",
   "metadata": {},
   "outputs": [],
   "source": [
    "def get_rubin_coadd_fpath(filter): \n",
    "    coadd_fname_root = f\"deepCoadd_calexp_2877_19_{filter}_DC2_u_descdm_preview_data_step3_2877_19_w_2024_12_20240403T150003Z.fits\"\n",
    "    coadd_fpath = f\"{BUCKET_NAME}/{RUBIN_COADD_PATH}/{filter}/{coadd_fname_root}\"\n",
    "    return coadd_fpath"
   ]
  },
  {
   "cell_type": "code",
   "execution_count": null,
   "id": "57afc59f-4bbd-46f6-b1d0-94e91c0b5b16",
   "metadata": {},
   "outputs": [],
   "source": [
    "def get_rubin_coadd(filter):\n",
    "    coadd_s3_fpath = get_rubin_coadd_fpath(filter)\n",
    "\n",
    "    with fits.open(f\"s3://{coadd_s3_fpath}\", fsspec_kwargs={\"anon\": True}) as hdul:\n",
    "        # retrieve science data from coadd fits\n",
    "        coadd_data = hdul[1].section[:,:]\n",
    "\n",
    "        # make wcs using header\n",
    "        coadd_wcs = wcs.WCS(hdul[1].header)\n",
    "\n",
    "        return {'data': coadd_data, 'wcs': coadd_wcs}"
   ]
  },
  {
   "cell_type": "markdown",
   "id": "33f014ce-b310-4d8c-b587-7977e0665b33",
   "metadata": {},
   "source": [
    "#### Inspect a simulated Rubin Coadd\n",
    "Choose a filter and retrieve the data and header information from the simulated Rubin coadd corresponding to that filter."
   ]
  },
  {
   "cell_type": "code",
   "execution_count": null,
   "id": "12689e36-1493-4b3f-9a24-cfc9b33aff73",
   "metadata": {},
   "outputs": [],
   "source": [
    "filter_rubin = 'r'\n",
    "coadd_rubin = get_rubin_coadd(filter_rubin)"
   ]
  },
  {
   "cell_type": "markdown",
   "id": "a07faa52-0a0e-458e-a66c-039ba6963cbb",
   "metadata": {},
   "source": [
    "#### Understand the size of a simulated Rubin coadd."
   ]
  },
  {
   "cell_type": "code",
   "execution_count": null,
   "id": "b593343e-e41b-474b-81c5-bdcceab74ed9",
   "metadata": {},
   "outputs": [],
   "source": [
    "# Number of pixels (Y, X)\n",
    "coadd_rubin['data'].shape"
   ]
  },
  {
   "cell_type": "code",
   "execution_count": null,
   "id": "7db9da13-b6cf-4884-9008-c072b971a44f",
   "metadata": {},
   "outputs": [],
   "source": [
    "# Pixel size (scale Y, scale X) [degrees/pixel]\n",
    "coadd_rubin['wcs'].proj_plane_pixel_scales()"
   ]
  },
  {
   "cell_type": "code",
   "execution_count": null,
   "id": "edeeb58f-e6b9-4658-9cea-1562bd3613c1",
   "metadata": {},
   "outputs": [],
   "source": [
    "# Coadd size (FOV Y, FOV X)\n",
    "[(num * size).to('arcsec') for num, size in zip(\n",
    "    coadd_rubin['data'].shape, coadd_rubin['wcs'].proj_plane_pixel_scales())]"
   ]
  },
  {
   "cell_type": "markdown",
   "id": "ac91ca7a-109b-4cde-9fe8-a73419a9025d",
   "metadata": {},
   "source": [
    "The field of view of Rubin coadd is 840 arcsec."
   ]
  },
  {
   "cell_type": "markdown",
   "id": "bc7dc1e2-c652-4c58-9b93-c303c0c7d7f0",
   "metadata": {},
   "source": [
    "#### Use matplotlib imshow to create a static visualization of the Rubin simulated coadd and overplot the selected position."
   ]
  },
  {
   "cell_type": "code",
   "execution_count": null,
   "id": "b5dd113a-3d4e-428e-9f64-1a416b225815",
   "metadata": {},
   "outputs": [],
   "source": [
    "plt.imshow(coadd_rubin['data'], origin='lower', \n",
    "           clim=stretch_color(coadd_rubin['data'], 1)\n",
    "           )\n",
    "\n",
    "plt.plot(*coord_to_xy(coadd_rubin['wcs'], coord), 'r+', markersize=15)"
   ]
  },
  {
   "cell_type": "markdown",
   "id": "1a9852f2-8c40-4246-b666-c70f12e5a2c3",
   "metadata": {},
   "source": [
    "### Define a function that returns the URL for a given S3 filepath\n",
    "Since the OpenUniverse2024 data is available through a public S3 bucket, we can access a given S3 file using HTTPS URL as follows:"
   ]
  },
  {
   "cell_type": "code",
   "execution_count": null,
   "id": "2f5e92cc-9450-4b3a-83ca-9d43bef75757",
   "metadata": {},
   "outputs": [],
   "source": [
    "def https_url(s3_fpath):\n",
    "    s3_fpath_without_bucket = s3_fpath.split('/', 1)[1]\n",
    "    return f\"https://{BUCKET_NAME}.s3.amazonaws.com/{s3_fpath_without_bucket}\""
   ]
  },
  {
   "cell_type": "markdown",
   "id": "b787998b-b1ff-44d8-b2ac-e6cb32f001d0",
   "metadata": {},
   "source": [
    "Let’s generate URL for the Rubin coadd we plotted above. Clicking on the returned URL will allow you to download this image locally."
   ]
  },
  {
   "cell_type": "code",
   "execution_count": null,
   "id": "c1e893bf-63a3-4ee2-805c-563065b83779",
   "metadata": {},
   "outputs": [],
   "source": [
    "coadd_s3_fpath_rubin = get_rubin_coadd_fpath(filter_rubin)\n",
    "https_url(coadd_s3_fpath_rubin)"
   ]
  },
  {
   "cell_type": "markdown",
   "id": "ae2e3d4c-3c86-468d-88d9-9504947ec0e5",
   "metadata": {},
   "source": [
    "### Compare simulated Roman and Rubin cutouts for a selected position\n",
    "#### Choose cutout size"
   ]
  },
  {
   "cell_type": "code",
   "execution_count": null,
   "id": "d5d6dbac-e976-4113-b029-a53879e7dbea",
   "metadata": {},
   "outputs": [],
   "source": [
    "cutout_size = 50*u.arcsec"
   ]
  },
  {
   "cell_type": "markdown",
   "id": "8142a236-1902-4cf8-9a05-bd8d24bbbb72",
   "metadata": {},
   "source": [
    "#### Create the cutouts"
   ]
  },
  {
   "cell_type": "code",
   "execution_count": null,
   "id": "c9c43ccc-5f74-40bb-af12-a8c0b7610c2d",
   "metadata": {},
   "outputs": [],
   "source": [
    "cutout_roman = Cutout2D(coadd_roman['data'], coord, size=cutout_size, wcs=coadd_roman['wcs'])\n",
    "cutout_rubin = Cutout2D(coadd_rubin['data'], coord, size=cutout_size, wcs=coadd_rubin['wcs'])"
   ]
  },
  {
   "cell_type": "markdown",
   "id": "887171cd-0e54-4c4e-a50c-3b325038a403",
   "metadata": {},
   "source": [
    "### Use matplotlib imshow to plot static side-by-side comparisons of the cutouts"
   ]
  },
  {
   "cell_type": "code",
   "execution_count": null,
   "id": "905d7417-31ad-4a0f-80fd-7601ad2aec3e",
   "metadata": {},
   "outputs": [],
   "source": [
    "fig, axs = plt.subplots(1, 2, figsize=(12, 6))\n",
    "\n",
    "\n",
    "axs[0].imshow(cutout_roman.data, origin='lower', \n",
    "              clim=stretch_color(cutout_roman.data, .5)\n",
    "              )\n",
    "axs[0].plot(*coord_to_xy(cutout_roman.wcs, coord), 'r+', markersize=15)\n",
    "axs[0].set_title(f\"ROMAN in filter {filter_roman}\")\n",
    "\n",
    "axs[1].imshow(cutout_rubin.data, origin='lower', \n",
    "              clim=stretch_color(cutout_rubin.data, .5)\n",
    "              )\n",
    "axs[1].plot(*coord_to_xy(cutout_rubin.wcs, coord), 'r+', markersize=15)\n",
    "axs[1].set_title(f\"RUBIN in filter {filter_rubin}\")\n",
    "\n",
    "fig.suptitle(f\"Cutouts at ({coord.ra}, {coord.dec}) with {cutout_size} size\", fontsize=14)\n",
    "plt.tight_layout(rect=[0, 0, 1, 0.97])"
   ]
  },
  {
   "cell_type": "markdown",
   "id": "e5ebf416-d733-4bda-bf35-e0a34107f0a8",
   "metadata": {},
   "source": [
    "### Use Firefly to interactively identify a blended source\n",
    "Clearly, the simulated Roman coadd has higher spatial resolution than the Rubin simulated coadd. Let’s try to locate blended objects to compare in the simulated Rubin and Roman images. We will use Firefly’s interactive visualization to make this task easier."
   ]
  },
  {
   "cell_type": "markdown",
   "id": "ed9ee6d0-6c8c-41a8-a62a-e6cf5c8c8ce9",
   "metadata": {},
   "source": [
    "### Launch and initialize Firefly\n",
    "\n",
    "There are two ways to initialize a Firefly client from Python, depending on whether you’re running the notebook in JupyterLab or not. Assuming you have jupyter-firefly-extensions set up in your environment as explained here, you can use make_lab_client() in JupyterLab, which will open the Firefly viewer in a new tab within the Lab. Otherwise, you can use make_client() in a Jupyter Notebook (or even a Python shell), which will open the Firefly viewer in a new web browser tab.\n",
    "\n",
    "You also need a Firefly server to communicate with your Firefly Python client. In this notebook, we use a public Firefly server: the IRSA Viewer (https://irsa.ipac.caltech.edu/irsaviewer). However, you can also run a local Firefly server via a Firefly Docker image and access it at http://localhost:8080/firefly. The URL of the Firefly server is read by both make_client() and make_lab_client() through the environment variable FIREFLY_URL. However, make_client() also allows you to pass the URL directly as the url parameter."
   ]
  },
  {
   "cell_type": "code",
   "execution_count": null,
   "id": "e44c4d35-ea2d-46a7-b7b6-15ae3411bacd",
   "metadata": {},
   "outputs": [],
   "source": [
    "# Uncomment when using within Jupyter Lab with jupyter_firefly_extensions installed\n",
    "#fc = FireflyClient.make_lab_client()\n",
    "\n",
    "# Uncomment for contexts other than above \n",
    "fc = FireflyClient.make_client(url=\"https://irsa.ipac.caltech.edu/irsaviewer\")\n",
    "\n",
    "fc.reinit_viewer() # to clean the state, if this cell ran earlier"
   ]
  },
  {
   "cell_type": "markdown",
   "id": "5c414865-aeda-48c6-a56d-dfadb5902aae",
   "metadata": {},
   "source": [
    "### Send the simulated Rubin coadd to Firefly using show_fits.\n",
    "For displaying the FITS image of Rubin coadd in Firefly, we use show_fits"
   ]
  },
  {
   "cell_type": "code",
   "execution_count": null,
   "id": "290e1301-21e2-4490-b701-49a7844c23b4",
   "metadata": {},
   "outputs": [],
   "source": [
    "coadd_ff_id_rubin = 'rubin-coadd-filter-r'\n",
    "fc.show_fits(url=https_url(coadd_s3_fpath_rubin),\n",
    "             plot_id=coadd_ff_id_rubin,\n",
    "             Title=\"Rubin Coadd\"\n",
    "             )"
   ]
  },
  {
   "cell_type": "markdown",
   "id": "31050333-db9a-46a9-a048-a58c677e9074",
   "metadata": {},
   "source": [
    "#### Use ds9 region syntax to overplot the simulated Roman image blocks on the interactive display\n",
    "\n",
    "The Firefly client includes several methods related to controlling ds9 region overlays. To overlay a region layer on the loaded FITS images, we can use overlay_region_layer.\n",
    "\n",
    "Region data is defined in ds9 region syntax that can be found here. https://ds9.si.edu/doc/ref/region.html"
   ]
  },
  {
   "cell_type": "code",
   "execution_count": null,
   "id": "8a5297e4-5530-44a9-a7a7-a18790e8f8a5",
   "metadata": {},
   "outputs": [],
   "source": [
    "# mark the roman coadd blocks as boxes\n",
    "roman_regions = [\n",
    "    f'icrs;box {ra_block_center.value}d {dec_block_center.value}d {block_size.value}\" {block_size.value}\" 0d'\n",
    "    for (ra_block_center, dec_block_center) in product(ra_block_centers, dec_block_centers)\n",
    "]\n",
    "\n",
    "roman_regions_id = 'roman_regions'\n",
    "fc.overlay_region_layer(region_data=roman_regions,\n",
    "                        title='Roman Mosaic', \n",
    "                        region_layer_id=roman_regions_id)"
   ]
  },
  {
   "cell_type": "markdown",
   "id": "ec1d060b-7877-4be2-b9e1-b8fd0f490eb8",
   "metadata": {},
   "source": [
    "### Use Firefly’s pan and zoom capabilities to locate a region of interest (a blended source)"
   ]
  },
  {
   "cell_type": "markdown",
   "id": "4dc780d7-c45d-42ad-a79d-21f3a356073b",
   "metadata": {},
   "source": [
    "You can view the coordinates of your mouse pointer at the bottom left of the display window. To copy the coordinates for a specific coordinate:\n",
    "\n",
    "    - Toggle the “Click Lock” to “on” in the bottom right of the image display.\n",
    "    - Click on the position of interest, and notice that the coordinate display is now frozen.\n",
    "    - Click on “EQ-J2000”, the coordinate label in the bottom left of the image display. In the dialog that opens, change copy options to “[Python] Astropy SkyCoord” so that we can directly work with them in python.\n",
    "    - Close the dialog and click on the copy icon next to the coordinate values display.\n"
   ]
  },
  {
   "cell_type": "markdown",
   "id": "d62c37ae-61a9-4417-bcd0-9de94f414d5a",
   "metadata": {},
   "source": [
    "Copy the coordinates from the coordinate display to the Python notebook\n",
    "We have provided an example. You can change this based on your interests."
   ]
  },
  {
   "cell_type": "code",
   "execution_count": null,
   "id": "bb309354-f1ab-408c-87a5-801c60a12602",
   "metadata": {},
   "outputs": [],
   "source": [
    "coords_of_interest = SkyCoord('0h38m25.35s -44d00m10.1s', frame='icrs') # located and copied through UI\n",
    "coords_of_interest"
   ]
  },
  {
   "cell_type": "markdown",
   "id": "d8d79386-5429-49ad-8538-2612ccea0291",
   "metadata": {},
   "source": [
    "  - Use ds9 region syntax to overplot the selected position.\n",
    "- For this we use the id of the region layer we defined above, and add more region data using add_region_data."
   ]
  },
  {
   "cell_type": "code",
   "execution_count": null,
   "id": "a7372cc9-f935-4cbd-a347-a4ab41b2ecff",
   "metadata": {},
   "outputs": [],
   "source": [
    "point_region = f'icrs;point {coords_of_interest.ra.value}d {coords_of_interest.dec.value}d # point=cross 15 text={{Blended source}}'\n",
    "fc.add_region_data(region_data=point_region, region_layer_id=roman_regions_id)"
   ]
  },
  {
   "cell_type": "markdown",
   "id": "16a2945f-02d0-4f36-be1d-087aff70451e",
   "metadata": {},
   "source": [
    "### Plot cutouts of the identified blended source"
   ]
  },
  {
   "cell_type": "code",
   "execution_count": null,
   "id": "25b195ba-b4c5-4173-99c9-136da3383c51",
   "metadata": {},
   "outputs": [],
   "source": [
    "coadd_roman = get_roman_coadd(coords_of_interest, filter_roman)"
   ]
  },
  {
   "cell_type": "code",
   "execution_count": null,
   "id": "a3e15262-673d-43f6-972d-311cd4f27bcd",
   "metadata": {},
   "outputs": [],
   "source": [
    "cutout_size = 20*u.arcsec"
   ]
  },
  {
   "cell_type": "code",
   "execution_count": null,
   "id": "080d30f4-0d0f-483d-ae59-9a8de67a4d6f",
   "metadata": {},
   "outputs": [],
   "source": [
    "cutout_roman = Cutout2D(coadd_roman['data'], coords_of_interest, size=cutout_size, wcs=coadd_roman['wcs'])\n",
    "cutout_rubin = Cutout2D(coadd_rubin['data'], coords_of_interest, size=cutout_size, wcs=coadd_rubin['wcs'])"
   ]
  },
  {
   "cell_type": "code",
   "execution_count": null,
   "id": "f6a370f1-3d8d-4379-88c5-ef56a1962442",
   "metadata": {},
   "outputs": [],
   "source": [
    "fig, axs = plt.subplots(1, 2, figsize=(12, 6))\n",
    "\n",
    "axs[0].imshow(cutout_roman.data, origin='lower', \n",
    "              clim=stretch_color(cutout_roman.data, .5)\n",
    "              )\n",
    "axs[0].set_title(f\"ROMAN in filter {filter_roman}\")\n",
    "\n",
    "# Let's also encircle the blended source we identified \n",
    "axs[0].add_patch(patches.Circle(coord_to_xy(cutout_roman.wcs, coords_of_interest), \n",
    "                                radius=50, color='r', fill=False, linewidth=2))\n",
    "# and a bonus blended source that is close to it\n",
    "other_coords = SkyCoord(coords_of_interest.ra-9.2*u.arcsec, coords_of_interest.dec+5*u.arcsec)\n",
    "axs[0].add_patch(patches.Circle(coord_to_xy(cutout_roman.wcs, other_coords),\n",
    "                                radius=36, color='cyan', fill=False, linewidth=2))\n",
    "\n",
    "\n",
    "axs[1].imshow(cutout_rubin.data, origin='lower', \n",
    "              clim=stretch_color(cutout_rubin.data, .5)\n",
    "              )\n",
    "axs[1].set_title(f\"RUBIN in filter {filter_rubin}\")\n",
    "\n",
    "# Let's also encircle the source we identified \n",
    "axs[1].add_patch(patches.Circle(coord_to_xy(cutout_rubin.wcs, coords_of_interest),\n",
    "                                radius=10, color='r', fill=False, linewidth=2))\n",
    "axs[1].add_patch(patches.Circle(coord_to_xy(cutout_rubin.wcs, other_coords),\n",
    "                                radius=8, color='cyan', fill=False, linewidth=2))\n",
    "\n",
    "\n",
    "fig.suptitle(f\"Cutouts at ({coords_of_interest.ra:6f}, {coords_of_interest.dec:6f}) with {cutout_size} size\", fontsize=14);\n",
    "plt.tight_layout(rect=[0, 0, 1, 0.97])\n",
    "# plt.savefig(\"plot.pdf\", bbox_inches='tight', pad_inches=0.2)"
   ]
  },
  {
   "cell_type": "markdown",
   "id": "20e3bec9-b66f-404c-9a08-26ef162c958a",
   "metadata": {},
   "source": [
    "## Use Firefly to visualize the OpenUniverse2024 data preview catalogs\n",
    "\n",
    "Let’s inspect the properties of sources in the Rubin coadd image. For this we will use the input truth files present in S3 bucket.\n",
    "\n",
    "The OpenUniverse2024 data preview includes the input truth files that were used to create the simulated images. These files are in Parquet and HDF5 format, and include information about the properties of galaxies, stars, and transients.\n",
    "\n",
    "To list the available files, we use s3fs. We open a file-system like connection to AWS S3 and then simply list (ls) truth files directory:"
   ]
  },
  {
   "cell_type": "code",
   "execution_count": null,
   "id": "e194781d-98bf-43a4-bf21-aa8453bc4a96",
   "metadata": {},
   "outputs": [],
   "source": [
    "https://caltech-ipac.github.io/irsa-tutorials/tutorials/firefly/OpenUniverse2024Preview_Firefly.html"
   ]
  },
  {
   "cell_type": "code",
   "execution_count": null,
   "id": "4805f69e-703f-4f84-80d0-62edb49bfd44",
   "metadata": {},
   "outputs": [],
   "source": [
    "s3 = s3fs.S3FileSystem(anon=True) # to browse s3 bucket\n",
    "s3.ls(f\"{BUCKET_NAME}/{TRUTH_FILES_PATH}\")"
   ]
  }
 ],
 "metadata": {
  "kernelspec": {
   "display_name": "romanlsst_py311",
   "language": "python",
   "name": "romanlsst_py311"
  },
  "language_info": {
   "codemirror_mode": {
    "name": "ipython",
    "version": 3
   },
   "file_extension": ".py",
   "mimetype": "text/x-python",
   "name": "python",
   "nbconvert_exporter": "python",
   "pygments_lexer": "ipython3",
   "version": "3.11.11"
  }
 },
 "nbformat": 4,
 "nbformat_minor": 5
}
