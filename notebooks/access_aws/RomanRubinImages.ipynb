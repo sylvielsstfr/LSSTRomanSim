{
 "cells": [
  {
   "cell_type": "markdown",
   "id": "e0a798f1-7c9d-47b6-aec6-61e1a11ea07c",
   "metadata": {},
   "source": [
    "# Using Firefly to Explore OpenUniverse2024 Data Preview Simulated Roman and Rubin Images"
   ]
  },
  {
   "cell_type": "markdown",
   "id": "7c3afca2-4100-4773-9d41-7eb8e6a148e6",
   "metadata": {},
   "source": [
    "- creation date : 2025-03-14\n",
    "- on my laptop kernel `romanlsst_py311`"
   ]
  },
  {
   "cell_type": "markdown",
   "id": "eb8c5cc1-f4ca-49dd-ad22-f97daff853cc",
   "metadata": {},
   "source": [
    "https://caltech-ipac.github.io/irsa-tutorials/tutorials/firefly/OpenUniverse2024Preview_Firefly.html"
   ]
  },
  {
   "cell_type": "markdown",
   "id": "a6efbe96-80ff-430b-a352-d6d47221bc85",
   "metadata": {},
   "source": [
    "Introduction\n",
    "\n",
    "The purpose of this tutorial is to become familiar with simulated Roman and Rubin simulated data published through the OpenUniverse 2024 data preview, and to become familiar with the Firefly JupyterLab Extension for visualizing astronomical data products.\n",
    "\n",
    "OpenUniverse2024 is a project to simulate spatially overlapping imaging surveys to be carried out by the Nancy Grace Roman Telescope and the Vera C. Rubin Observatory. The simulations were carried out on Argonne’s Theta cluster and consist of:\n",
    "\n",
    "    The LSST ELAIS-S1 Deep Drilling Field (DDF)\n",
    "\n",
    "    The Roman Time-Domain Survey (TDS) shifted to overlap the ELAIS region and LSST DDF\n",
    "\n",
    "    Overlapping LSST Wide-Fast-Deep (WFD) survey (with rolling cadence)\n",
    "\n",
    "    Overlapping Roman Wide-Area Survey (WAS) in the same region\n",
    "\n",
    "    A deep-field calibration region of the Roman WAS in the same region\n",
    "\n",
    "This data preview release consists of a subset of data from each of the five categories above. More information about data preview can be found at IRSA holding of this dataset.\n",
    "\n",
    "Firefly is an open-source web-based UI library for astronomical data archive access and visualization developed at Caltech and used by multiple space- and ground-based astrophysics archives. More information on Firefly can be found here.\n",
    "\n",
    "In addition to being used to make web applications, Firefly can be used from Python. More information on Firefly Python client can be found here.\n",
    "\n",
    "The Firefly JupyterLab Extension makes it particularly easy to use Firefly to efficiently visualize cloud-hosted astronomical data using JupyterLab instances running locally or on cloud. More information on Firefly JupyterLab Extension can be found here."
   ]
  },
  {
   "cell_type": "markdown",
   "id": "e94bf9b0-6caf-4b79-a098-a91ebdc40121",
   "metadata": {},
   "source": [
    "## Imports\n",
    "\n",
    "    astropy.io.fits for accessing FITS files\n",
    "    numpy for numerical computing\n",
    "    s3fs for browsing cloud buckets\n",
    "    matplotlib.pyplot for creating static visualizations of FITS images\n",
    "    matplotlib.patches for annotating visualizations of FITS images\n",
    "    astropy.wcs for dealing with astronomical world coordinate systems\n",
    "    astropy.units for dealing with astronomical units\n",
    "    astropy.coordinates.SkyCoord for dealing with astronomical coordinates\n",
    "    firefly_client.FireflyClient for using the Firefly python client\n",
    "    astropy.nddata.Cutout2D for making image cutouts\n",
    "    itertools.product to support looping over Roman blocks\n",
    "    reproject.reproject_interp to convert Roman coadds from STG to TAN projection\n",
    "    io.BytesIO for writing a fits file to an in-memory stream"
   ]
  },
  {
   "cell_type": "code",
   "execution_count": null,
   "id": "1d551804-723c-4896-8654-cf8cb64134e2",
   "metadata": {},
   "outputs": [],
   "source": [
    "#Uncomment the next line to install dependencies if needed.\n",
    "# !pip install numpy astropy s3fs matplotlib firefly_client reproject"
   ]
  },
  {
   "cell_type": "code",
   "execution_count": null,
   "id": "9733186e-24a8-47e0-b0c2-2c274a16ab10",
   "metadata": {},
   "outputs": [],
   "source": [
    "from astropy.io import fits\n",
    "import numpy as np\n",
    "import s3fs\n",
    "from matplotlib import pyplot as plt\n",
    "from matplotlib import patches\n",
    "from astropy import wcs\n",
    "from astropy import units as u\n",
    "from astropy.coordinates import SkyCoord\n",
    "from firefly_client import FireflyClient\n",
    "from astropy.nddata import Cutout2D\n",
    "from itertools import product\n",
    "from reproject import reproject_interp\n",
    "from io import BytesIO"
   ]
  },
  {
   "cell_type": "markdown",
   "id": "594a8082-0a5e-4c69-bd9f-458fb889c496",
   "metadata": {},
   "source": [
    "## Learn where the OpenUniverse2024 data are hosted in the cloud.\n",
    "\n",
    "The OpenUniverse2024 data preview is hosted in the cloud via Amazon Web Services (AWS). To access these data, you need to create a client to read data from Amazon’s Simple Storage Service (s3) buckets, and you need to know some information about those buckets. The OpenUniverse2024 data preview contains simulations of the Roman Wide-Area Survey (WAS) and the Roman Time Domain Survey (TDS). In this tutorial, we will focus on the WAS."
   ]
  },
  {
   "cell_type": "code",
   "execution_count": null,
   "id": "adab927d-62c8-4f4e-b40f-791f7889ad4b",
   "metadata": {},
   "outputs": [],
   "source": [
    "BUCKET_NAME = \"nasa-irsa-simulations\"\n",
    "ROMAN_PREFIX = \"openuniverse2024/roman/preview\"\n",
    "ROMAN_COADD_PATH = f\"{ROMAN_PREFIX}/RomanWAS/images/coadds\"\n",
    "TRUTH_FILES_PATH = f\"{ROMAN_PREFIX}/roman_rubin_cats_v1.1.2_faint\"\n",
    "\n",
    "RUBIN_PREFIX = \"openuniverse2024/rubin/preview\"\n",
    "RUBIN_COADD_PATH = f\"{RUBIN_PREFIX}/u/descdm/preview_data_step3_2877_19_w_2024_12/20240403T150003Z/deepCoadd_calexp/2877/19\""
   ]
  },
  {
   "cell_type": "markdown",
   "id": "4d678d92-7027-47d6-abc1-65212d3f46ed",
   "metadata": {},
   "source": [
    "### Roman Coadds\n",
    "The Nancy Grace Roman Space Telescope will carry out a wide-area survey (WAS) in the near infrared. The OpenUniverse2024 data preview includes coadded mosaics of simulated WAS data, created with the IMCOM algorithm (Rowe et al. 2011). Bands include F184, H158, J129, K213, Y106. In this section, we define some functions that make it convenient to retrieve a given cloud-hosted simulated Roman coadd based on position and filter."
   ]
  },
  {
   "cell_type": "markdown",
   "id": "48d3527f-e253-4e70-8e4a-71484465802d",
   "metadata": {},
   "source": [
    "#### Define Roman Simulated “Blocks”\n",
    "The simulated Roman coadds are arranged in 100 arcsecond blocks, as described in Hirata et al. 2024. Below we define the RA and Dec of the block centers. This cell should not be altered."
   ]
  },
  {
   "cell_type": "code",
   "execution_count": null,
   "id": "74e9fb50-4780-47e8-a8cd-94952e8a6a39",
   "metadata": {},
   "outputs": [],
   "source": [
    "#Centers of roman data preview blocks. Do not alter.\n",
    "ra_block_centers = np.array([9.76330352298415, 9.724522605135252, 9.68574158906671,\n",
    "                        9.646960496603766, 9.608179349571955, 9.56939816979703,\n",
    "                        9.530616979104877, 9.491835799321422, 9.453054652272561,\n",
    "                        9.414273559784032, 9.375492543681393, 9.336711625789874]) * u.deg\n",
    "dec_block_centers = np.array([-44.252584927082495, -44.22480733304182, -44.197029724175756,\n",
    "                            -44.16925210374898, -44.14147447502621, -44.11369684127218,\n",
    "                            -44.08591920575162, -44.05814157172923, -44.03036394246976,\n",
    "                            -44.0025863212379, -43.974808711298394, -43.94703111591591]) * u.deg\n",
    "block_size = 100 * u.arcsec # each block is 100 arcsec across"
   ]
  },
  {
   "cell_type": "markdown",
   "id": "5d952ac0-9d7f-430b-be9f-da0971b4dfcf",
   "metadata": {},
   "source": [
    "#### Define a function that returns the simulated Roman block column/row for a given RA/Dec."
   ]
  },
  {
   "cell_type": "markdown",
   "id": "fe9ebdc5-2834-4d9a-9a31-f3f3be8b8b8f",
   "metadata": {},
   "source": [
    "Blocks are arranged in a grid with axes parallel to RA and Dec. A given RA represents a column of blocks and a given Dec represents a row of blocks. This function returns the block column or row given the block centers from the cell above and a given RA or Dec, respectively."
   ]
  },
  {
   "cell_type": "code",
   "execution_count": null,
   "id": "d5f7dfa3-ab80-4d3c-8c29-693cc9bd386d",
   "metadata": {},
   "outputs": [],
   "source": [
    "def get_block_axis(block_centers, coord, ra_or_dec):\n",
    "    ra_or_dec_coord = getattr(coord, ra_or_dec)\n",
    "    block_dist_array = np.absolute(block_centers - ra_or_dec_coord)\n",
    "    closest_block_idx = block_dist_array.argmin()\n",
    "    if (ra_or_dec_coord < block_centers.min()-block_size/2 \n",
    "        or ra_or_dec_coord > block_centers.max()+block_size/2):\n",
    "        raise ValueError(f\"Chosen {ra_or_dec}: {ra_or_dec_coord} not covered by OpenUniverse 2024 data preview simulated Roman coadds\")\n",
    "    else:\n",
    "        return closest_block_idx + 12 # preview covers central 12 rows 12 columns, in a grid of 36x36 blocks"
   ]
  },
  {
   "cell_type": "markdown",
   "id": "206e1eb4-bfc6-4ba5-b373-8d426b6c1c4e",
   "metadata": {},
   "source": [
    "#### Define a function that retrieves a Roman simulated coadd given a sky position and filter\n",
    "Each of the cloud-hosted simulated Roman coadds can be accessed via a S3 filepath. This function returns the access path for the simulated Roman coadd that includes a specified position on the sky and desired filter."
   ]
  },
  {
   "cell_type": "code",
   "execution_count": null,
   "id": "e99a8841-11b6-4702-83e6-d650ce25f6ba",
   "metadata": {},
   "outputs": [],
   "source": [
    "def get_roman_coadd_fpath(coord, filter):\n",
    "    col = get_block_axis(ra_block_centers, coord, 'ra')\n",
    "    row = get_block_axis(dec_block_centers, coord, 'dec')\n",
    "    \n",
    "    # Construct the coadd filename from the chosen filter, row, and column.\n",
    "    coadd_fname_root = f\"prod_{filter[0]}_{col}_{row}_map.fits\"\n",
    "    coadd_fpath = f\"{BUCKET_NAME}/{ROMAN_COADD_PATH}/{filter}/Row{row}/{coadd_fname_root}\"\n",
    "    return coadd_fpath"
   ]
  },
  {
   "cell_type": "markdown",
   "id": "c0af8729-be7c-4835-b49e-05d080e72e36",
   "metadata": {},
   "source": [
    "Now we use this access path and prefix it with s3:// and use astropy.fits to extract a subset of it (for more info see this section of astropy docs).\n",
    "\n",
    "We use .section to retrieve just the science image data from fits HDU as a 2D numpy.array, and extract WCS information from fits header as astropy.wcs.WCS object. The following function returns a dictionary of both."
   ]
  },
  {
   "cell_type": "code",
   "execution_count": null,
   "id": "7a931b93-2176-4256-a91e-8cb5afeee515",
   "metadata": {},
   "outputs": [],
   "source": [
    "def get_roman_coadd(coord, filter):\n",
    "    # retrive fits file of block/tile from the coadd mosiac\n",
    "    coadd_s3_fpath = get_roman_coadd_fpath(coord, filter)\n",
    "    coadd_s3_uri = f\"s3://{coadd_s3_fpath}\"\n",
    "\n",
    "    with fits.open(coadd_s3_uri, fsspec_kwargs={\"anon\": True}) as hdul:\n",
    "        # retrieve science data from coadd fits\n",
    "        coadd_data = hdul[0].section[0,0, :, :]  # has (2688, 2688, 15, 1) shape, with 0th layer in the cube as science image\n",
    "\n",
    "        # make wcs using header\n",
    "        coadd_wcs = wcs.WCS(hdul[0].header, naxis=2)\n",
    "\n",
    "        return {'data': coadd_data, 'wcs': coadd_wcs}"
   ]
  },
  {
   "cell_type": "markdown",
   "id": "62fc65c2-1d87-458e-a670-e5b376968238",
   "metadata": {},
   "source": [
    "#### Inspect a simulated Roman Coadd\n",
    "Choose a filter and position that lies within the data preview region"
   ]
  },
  {
   "cell_type": "code",
   "execution_count": null,
   "id": "1b8913a8-324d-43b8-b5e2-f3ce1108e01f",
   "metadata": {},
   "outputs": [],
   "source": [
    "coord = SkyCoord(ra=9.6055383, dec=-44.1895542, unit=\"deg\")\n",
    "filter_roman = 'H158' #F184, H158, J129, K213, and Y106 are available in the data preview"
   ]
  },
  {
   "cell_type": "markdown",
   "id": "e8dde7d0-89c2-4733-bf8c-2a361235b4b1",
   "metadata": {},
   "source": [
    "Retrieve the data and header information from the simulated Roman coadd corresponding to the chosen position and filter."
   ]
  },
  {
   "cell_type": "code",
   "execution_count": null,
   "id": "ba153d7c-c003-4414-8abd-fd6b4a16e3c0",
   "metadata": {},
   "outputs": [],
   "source": [
    "coadd_roman = get_roman_coadd(coord, filter_roman)"
   ]
  },
  {
   "cell_type": "markdown",
   "id": "8b110aa0-bcf8-4373-8f34-791fa560ff6c",
   "metadata": {},
   "source": [
    "#### Understand the size of a simulated Roman coad"
   ]
  },
  {
   "cell_type": "code",
   "execution_count": null,
   "id": "74a9c1df-d0e6-4875-9a34-7ecd4b479b57",
   "metadata": {},
   "outputs": [],
   "source": [
    "# Number of pixels (Y, X)\n",
    "coadd_roman['data'].shape"
   ]
  },
  {
   "cell_type": "code",
   "execution_count": null,
   "id": "5ef8090f-c5be-4a38-a2b8-17f018c3f19f",
   "metadata": {},
   "outputs": [],
   "source": [
    "# Pixel size (scale Y, scale X) [degrees/pixel]\n",
    "coadd_roman['wcs'].proj_plane_pixel_scales()"
   ]
  },
  {
   "cell_type": "code",
   "execution_count": null,
   "id": "9090d7ec-e23d-40c5-a3d1-3c2febffe47c",
   "metadata": {},
   "outputs": [],
   "source": [
    "# Coadd size (FOV Y, FOV X)\n",
    "[(num * size).to('arcsec') for num, size in zip(\n",
    "    coadd_roman['data'].shape, coadd_roman['wcs'].proj_plane_pixel_scales())]"
   ]
  },
  {
   "cell_type": "markdown",
   "id": "7186c95f-9b0b-4c48-8a6b-57f9c76d10ea",
   "metadata": {},
   "source": [
    "The field of view of Roman coadd is ~100 arcsec."
   ]
  },
  {
   "cell_type": "markdown",
   "id": "e60b6fa0-9251-49d0-8869-94034738f6ff",
   "metadata": {},
   "source": [
    "#### Use the WCS from the Roman simulated header to convert the specified coordinate into a pixel position."
   ]
  },
  {
   "cell_type": "code",
   "execution_count": null,
   "id": "81bd0b4c-c5aa-4873-bb85-dfbd71df9d22",
   "metadata": {},
   "outputs": [],
   "source": [
    "def coord_to_xy(w, coord):\n",
    "    return w.world_to_array_index(coord)[::-1] #reverse since 0th axis is y, 1st axis is x\n",
    "\n",
    "coord_arr_idx = coord_to_xy(coadd_roman['wcs'], coord)\n",
    "coord_arr_idx"
   ]
  },
  {
   "cell_type": "markdown",
   "id": "d7d6eec8-b3df-496c-87e2-e21533542374",
   "metadata": {},
   "source": [
    "#### Use matplotlib imshow to create a static visualization of the Roman simulated coadd and overplot the selected position."
   ]
  },
  {
   "cell_type": "code",
   "execution_count": null,
   "id": "f05f98e1-1abb-4917-8427-340be3ce31df",
   "metadata": {},
   "outputs": [],
   "source": [
    "def stretch_color(data, clipPercent):\n",
    "    return np.percentile(data, (0 + clipPercent, 100 - clipPercent))\n",
    "\n",
    "plt.imshow(coadd_roman['data'], origin='lower', \n",
    "           clim=stretch_color(coadd_roman['data'], 1)\n",
    "           )\n",
    "\n",
    "plt.plot(*coord_arr_idx, 'r+', markersize=15)"
   ]
  },
  {
   "cell_type": "markdown",
   "id": "81f2a9c7-339f-4cd8-b13b-32baab8d3e5b",
   "metadata": {},
   "source": [
    "### Rubin Coadds\n",
    "The OpenUniverse2024 data preview includes coadded mosaics in the following filters: u, g, r, i, z, y. In this section, we define some functions that make it convenient to retrieve a given cloud-hosted simulated Roman coadd based on position and filter."
   ]
  },
  {
   "cell_type": "markdown",
   "id": "1caa90f3-e5ee-4814-b226-387647d049d5",
   "metadata": {},
   "source": [
    "#### Retrieve Rubin Coadds\n",
    "The OpenUniverse2024 data preview includes only one simulated Rubin coadd per filter. Below we define functions that make it convenient to retrieve the simulated Rubin coadd corresponding to the desired filter. We return data in same structure as the functions we defined above for Roman."
   ]
  },
  {
   "cell_type": "code",
   "execution_count": null,
   "id": "494431af-5857-4ee9-9add-5da489c3456d",
   "metadata": {},
   "outputs": [],
   "source": [
    "def get_rubin_coadd_fpath(filter): \n",
    "    coadd_fname_root = f\"deepCoadd_calexp_2877_19_{filter}_DC2_u_descdm_preview_data_step3_2877_19_w_2024_12_20240403T150003Z.fits\"\n",
    "    coadd_fpath = f\"{BUCKET_NAME}/{RUBIN_COADD_PATH}/{filter}/{coadd_fname_root}\"\n",
    "    return coadd_fpath"
   ]
  },
  {
   "cell_type": "code",
   "execution_count": null,
   "id": "57afc59f-4bbd-46f6-b1d0-94e91c0b5b16",
   "metadata": {},
   "outputs": [],
   "source": [
    "def get_rubin_coadd(filter):\n",
    "    coadd_s3_fpath = get_rubin_coadd_fpath(filter)\n",
    "\n",
    "    with fits.open(f\"s3://{coadd_s3_fpath}\", fsspec_kwargs={\"anon\": True}) as hdul:\n",
    "        # retrieve science data from coadd fits\n",
    "        coadd_data = hdul[1].section[:,:]\n",
    "\n",
    "        # make wcs using header\n",
    "        coadd_wcs = wcs.WCS(hdul[1].header)\n",
    "\n",
    "        return {'data': coadd_data, 'wcs': coadd_wcs}"
   ]
  },
  {
   "cell_type": "markdown",
   "id": "33f014ce-b310-4d8c-b587-7977e0665b33",
   "metadata": {},
   "source": [
    "#### Inspect a simulated Rubin Coadd\n",
    "Choose a filter and retrieve the data and header information from the simulated Rubin coadd corresponding to that filter."
   ]
  },
  {
   "cell_type": "code",
   "execution_count": null,
   "id": "12689e36-1493-4b3f-9a24-cfc9b33aff73",
   "metadata": {},
   "outputs": [],
   "source": [
    "filter_rubin = 'r'\n",
    "coadd_rubin = get_rubin_coadd(filter_rubin)"
   ]
  },
  {
   "cell_type": "markdown",
   "id": "a07faa52-0a0e-458e-a66c-039ba6963cbb",
   "metadata": {},
   "source": [
    "#### Understand the size of a simulated Rubin coadd."
   ]
  },
  {
   "cell_type": "code",
   "execution_count": null,
   "id": "b593343e-e41b-474b-81c5-bdcceab74ed9",
   "metadata": {},
   "outputs": [],
   "source": [
    "# Number of pixels (Y, X)\n",
    "coadd_rubin['data'].shape"
   ]
  },
  {
   "cell_type": "code",
   "execution_count": null,
   "id": "7db9da13-b6cf-4884-9008-c072b971a44f",
   "metadata": {},
   "outputs": [],
   "source": [
    "# Pixel size (scale Y, scale X) [degrees/pixel]\n",
    "coadd_rubin['wcs'].proj_plane_pixel_scales()"
   ]
  },
  {
   "cell_type": "code",
   "execution_count": null,
   "id": "edeeb58f-e6b9-4658-9cea-1562bd3613c1",
   "metadata": {},
   "outputs": [],
   "source": [
    "# Coadd size (FOV Y, FOV X)\n",
    "[(num * size).to('arcsec') for num, size in zip(\n",
    "    coadd_rubin['data'].shape, coadd_rubin['wcs'].proj_plane_pixel_scales())]"
   ]
  },
  {
   "cell_type": "markdown",
   "id": "ac91ca7a-109b-4cde-9fe8-a73419a9025d",
   "metadata": {},
   "source": [
    "The field of view of Rubin coadd is 840 arcsec."
   ]
  },
  {
   "cell_type": "markdown",
   "id": "bc7dc1e2-c652-4c58-9b93-c303c0c7d7f0",
   "metadata": {},
   "source": [
    "#### Use matplotlib imshow to create a static visualization of the Rubin simulated coadd and overplot the selected position."
   ]
  },
  {
   "cell_type": "code",
   "execution_count": null,
   "id": "b5dd113a-3d4e-428e-9f64-1a416b225815",
   "metadata": {},
   "outputs": [],
   "source": [
    "plt.imshow(coadd_rubin['data'], origin='lower', \n",
    "           clim=stretch_color(coadd_rubin['data'], 1)\n",
    "           )\n",
    "\n",
    "plt.plot(*coord_to_xy(coadd_rubin['wcs'], coord), 'r+', markersize=15)"
   ]
  },
  {
   "cell_type": "markdown",
   "id": "1a9852f2-8c40-4246-b666-c70f12e5a2c3",
   "metadata": {},
   "source": [
    "### Define a function that returns the URL for a given S3 filepath\n",
    "Since the OpenUniverse2024 data is available through a public S3 bucket, we can access a given S3 file using HTTPS URL as follows:"
   ]
  },
  {
   "cell_type": "code",
   "execution_count": null,
   "id": "2f5e92cc-9450-4b3a-83ca-9d43bef75757",
   "metadata": {},
   "outputs": [],
   "source": [
    "def https_url(s3_fpath):\n",
    "    s3_fpath_without_bucket = s3_fpath.split('/', 1)[1]\n",
    "    return f\"https://{BUCKET_NAME}.s3.amazonaws.com/{s3_fpath_without_bucket}\""
   ]
  },
  {
   "cell_type": "markdown",
   "id": "b787998b-b1ff-44d8-b2ac-e6cb32f001d0",
   "metadata": {},
   "source": [
    "Let’s generate URL for the Rubin coadd we plotted above. Clicking on the returned URL will allow you to download this image locally."
   ]
  },
  {
   "cell_type": "code",
   "execution_count": null,
   "id": "c1e893bf-63a3-4ee2-805c-563065b83779",
   "metadata": {},
   "outputs": [],
   "source": [
    "coadd_s3_fpath_rubin = get_rubin_coadd_fpath(filter_rubin)\n",
    "https_url(coadd_s3_fpath_rubin)"
   ]
  },
  {
   "cell_type": "markdown",
   "id": "ae2e3d4c-3c86-468d-88d9-9504947ec0e5",
   "metadata": {},
   "source": [
    "### Compare simulated Roman and Rubin cutouts for a selected position\n",
    "#### Choose cutout size"
   ]
  },
  {
   "cell_type": "code",
   "execution_count": null,
   "id": "d5d6dbac-e976-4113-b029-a53879e7dbea",
   "metadata": {},
   "outputs": [],
   "source": [
    "cutout_size = 50*u.arcsec"
   ]
  },
  {
   "cell_type": "markdown",
   "id": "8142a236-1902-4cf8-9a05-bd8d24bbbb72",
   "metadata": {},
   "source": [
    "#### Create the cutouts"
   ]
  },
  {
   "cell_type": "code",
   "execution_count": null,
   "id": "c9c43ccc-5f74-40bb-af12-a8c0b7610c2d",
   "metadata": {},
   "outputs": [],
   "source": [
    "cutout_roman = Cutout2D(coadd_roman['data'], coord, size=cutout_size, wcs=coadd_roman['wcs'])\n",
    "cutout_rubin = Cutout2D(coadd_rubin['data'], coord, size=cutout_size, wcs=coadd_rubin['wcs'])"
   ]
  },
  {
   "cell_type": "markdown",
   "id": "887171cd-0e54-4c4e-a50c-3b325038a403",
   "metadata": {},
   "source": [
    "### Use matplotlib imshow to plot static side-by-side comparisons of the cutouts"
   ]
  },
  {
   "cell_type": "code",
   "execution_count": null,
   "id": "905d7417-31ad-4a0f-80fd-7601ad2aec3e",
   "metadata": {},
   "outputs": [],
   "source": [
    "fig, axs = plt.subplots(1, 2, figsize=(12, 6))\n",
    "\n",
    "\n",
    "axs[0].imshow(cutout_roman.data, origin='lower', \n",
    "              clim=stretch_color(cutout_roman.data, .5)\n",
    "              )\n",
    "axs[0].plot(*coord_to_xy(cutout_roman.wcs, coord), 'r+', markersize=15)\n",
    "axs[0].set_title(f\"ROMAN in filter {filter_roman}\")\n",
    "\n",
    "axs[1].imshow(cutout_rubin.data, origin='lower', \n",
    "              clim=stretch_color(cutout_rubin.data, .5)\n",
    "              )\n",
    "axs[1].plot(*coord_to_xy(cutout_rubin.wcs, coord), 'r+', markersize=15)\n",
    "axs[1].set_title(f\"RUBIN in filter {filter_rubin}\")\n",
    "\n",
    "fig.suptitle(f\"Cutouts at ({coord.ra}, {coord.dec}) with {cutout_size} size\", fontsize=14)\n",
    "plt.tight_layout(rect=[0, 0, 1, 0.97])"
   ]
  },
  {
   "cell_type": "markdown",
   "id": "e5ebf416-d733-4bda-bf35-e0a34107f0a8",
   "metadata": {},
   "source": [
    "### Use Firefly to interactively identify a blended source\n",
    "Clearly, the simulated Roman coadd has higher spatial resolution than the Rubin simulated coadd. Let’s try to locate blended objects to compare in the simulated Rubin and Roman images. We will use Firefly’s interactive visualization to make this task easier."
   ]
  },
  {
   "cell_type": "markdown",
   "id": "ed9ee6d0-6c8c-41a8-a62a-e6cf5c8c8ce9",
   "metadata": {},
   "source": [
    "### Launch and initialize Firefly\n",
    "\n",
    "There are two ways to initialize a Firefly client from Python, depending on whether you’re running the notebook in JupyterLab or not. Assuming you have jupyter-firefly-extensions set up in your environment as explained here, you can use make_lab_client() in JupyterLab, which will open the Firefly viewer in a new tab within the Lab. Otherwise, you can use make_client() in a Jupyter Notebook (or even a Python shell), which will open the Firefly viewer in a new web browser tab.\n",
    "\n",
    "You also need a Firefly server to communicate with your Firefly Python client. In this notebook, we use a public Firefly server: the IRSA Viewer (https://irsa.ipac.caltech.edu/irsaviewer). However, you can also run a local Firefly server via a Firefly Docker image and access it at http://localhost:8080/firefly. The URL of the Firefly server is read by both make_client() and make_lab_client() through the environment variable FIREFLY_URL. However, make_client() also allows you to pass the URL directly as the url parameter."
   ]
  },
  {
   "cell_type": "code",
   "execution_count": null,
   "id": "e44c4d35-ea2d-46a7-b7b6-15ae3411bacd",
   "metadata": {},
   "outputs": [],
   "source": [
    "# Uncomment when using within Jupyter Lab with jupyter_firefly_extensions installed\n",
    "#fc = FireflyClient.make_lab_client()\n",
    "\n",
    "# Uncomment for contexts other than above \n",
    "fc = FireflyClient.make_client(url=\"https://irsa.ipac.caltech.edu/irsaviewer\")\n",
    "\n",
    "fc.reinit_viewer() # to clean the state, if this cell ran earlier"
   ]
  },
  {
   "cell_type": "markdown",
   "id": "5c414865-aeda-48c6-a56d-dfadb5902aae",
   "metadata": {},
   "source": [
    "### Send the simulated Rubin coadd to Firefly using show_fits.\n",
    "For displaying the FITS image of Rubin coadd in Firefly, we use show_fits"
   ]
  },
  {
   "cell_type": "code",
   "execution_count": null,
   "id": "290e1301-21e2-4490-b701-49a7844c23b4",
   "metadata": {},
   "outputs": [],
   "source": [
    "coadd_ff_id_rubin = 'rubin-coadd-filter-r'\n",
    "fc.show_fits(url=https_url(coadd_s3_fpath_rubin),\n",
    "             plot_id=coadd_ff_id_rubin,\n",
    "             Title=\"Rubin Coadd\"\n",
    "             )"
   ]
  },
  {
   "cell_type": "markdown",
   "id": "31050333-db9a-46a9-a048-a58c677e9074",
   "metadata": {},
   "source": [
    "#### Use ds9 region syntax to overplot the simulated Roman image blocks on the interactive display\n",
    "\n",
    "The Firefly client includes several methods related to controlling ds9 region overlays. To overlay a region layer on the loaded FITS images, we can use overlay_region_layer.\n",
    "\n",
    "Region data is defined in ds9 region syntax that can be found here. https://ds9.si.edu/doc/ref/region.html"
   ]
  },
  {
   "cell_type": "code",
   "execution_count": null,
   "id": "8a5297e4-5530-44a9-a7a7-a18790e8f8a5",
   "metadata": {},
   "outputs": [],
   "source": [
    "# mark the roman coadd blocks as boxes\n",
    "roman_regions = [\n",
    "    f'icrs;box {ra_block_center.value}d {dec_block_center.value}d {block_size.value}\" {block_size.value}\" 0d'\n",
    "    for (ra_block_center, dec_block_center) in product(ra_block_centers, dec_block_centers)\n",
    "]\n",
    "\n",
    "roman_regions_id = 'roman_regions'\n",
    "fc.overlay_region_layer(region_data=roman_regions,\n",
    "                        title='Roman Mosaic', \n",
    "                        region_layer_id=roman_regions_id)"
   ]
  },
  {
   "cell_type": "markdown",
   "id": "ec1d060b-7877-4be2-b9e1-b8fd0f490eb8",
   "metadata": {},
   "source": [
    "### Use Firefly’s pan and zoom capabilities to locate a region of interest (a blended source)"
   ]
  },
  {
   "cell_type": "markdown",
   "id": "4dc780d7-c45d-42ad-a79d-21f3a356073b",
   "metadata": {},
   "source": [
    "You can view the coordinates of your mouse pointer at the bottom left of the display window. To copy the coordinates for a specific coordinate:\n",
    "\n",
    "    - Toggle the “Click Lock” to “on” in the bottom right of the image display.\n",
    "    - Click on the position of interest, and notice that the coordinate display is now frozen.\n",
    "    - Click on “EQ-J2000”, the coordinate label in the bottom left of the image display. In the dialog that opens, change copy options to “[Python] Astropy SkyCoord” so that we can directly work with them in python.\n",
    "    - Close the dialog and click on the copy icon next to the coordinate values display.\n"
   ]
  },
  {
   "cell_type": "markdown",
   "id": "d62c37ae-61a9-4417-bcd0-9de94f414d5a",
   "metadata": {},
   "source": [
    "Copy the coordinates from the coordinate display to the Python notebook\n",
    "We have provided an example. You can change this based on your interests."
   ]
  },
  {
   "cell_type": "code",
   "execution_count": null,
   "id": "bb309354-f1ab-408c-87a5-801c60a12602",
   "metadata": {},
   "outputs": [],
   "source": [
    "coords_of_interest = SkyCoord('0h38m25.35s -44d00m10.1s', frame='icrs') # located and copied through UI\n",
    "coords_of_interest"
   ]
  },
  {
   "cell_type": "markdown",
   "id": "d8d79386-5429-49ad-8538-2612ccea0291",
   "metadata": {},
   "source": [
    "  - Use ds9 region syntax to overplot the selected position.\n",
    "- For this we use the id of the region layer we defined above, and add more region data using add_region_data."
   ]
  },
  {
   "cell_type": "code",
   "execution_count": null,
   "id": "a7372cc9-f935-4cbd-a347-a4ab41b2ecff",
   "metadata": {},
   "outputs": [],
   "source": [
    "point_region = f'icrs;point {coords_of_interest.ra.value}d {coords_of_interest.dec.value}d # point=cross 15 text={{Blended source}}'\n",
    "fc.add_region_data(region_data=point_region, region_layer_id=roman_regions_id)"
   ]
  },
  {
   "cell_type": "markdown",
   "id": "16a2945f-02d0-4f36-be1d-087aff70451e",
   "metadata": {},
   "source": [
    "### Plot cutouts of the identified blended source"
   ]
  },
  {
   "cell_type": "code",
   "execution_count": null,
   "id": "25b195ba-b4c5-4173-99c9-136da3383c51",
   "metadata": {},
   "outputs": [],
   "source": [
    "coadd_roman = get_roman_coadd(coords_of_interest, filter_roman)"
   ]
  },
  {
   "cell_type": "code",
   "execution_count": null,
   "id": "a3e15262-673d-43f6-972d-311cd4f27bcd",
   "metadata": {},
   "outputs": [],
   "source": [
    "cutout_size = 20*u.arcsec"
   ]
  },
  {
   "cell_type": "code",
   "execution_count": null,
   "id": "080d30f4-0d0f-483d-ae59-9a8de67a4d6f",
   "metadata": {},
   "outputs": [],
   "source": [
    "cutout_roman = Cutout2D(coadd_roman['data'], coords_of_interest, size=cutout_size, wcs=coadd_roman['wcs'])\n",
    "cutout_rubin = Cutout2D(coadd_rubin['data'], coords_of_interest, size=cutout_size, wcs=coadd_rubin['wcs'])"
   ]
  },
  {
   "cell_type": "code",
   "execution_count": null,
   "id": "f6a370f1-3d8d-4379-88c5-ef56a1962442",
   "metadata": {},
   "outputs": [],
   "source": [
    "fig, axs = plt.subplots(1, 2, figsize=(12, 6))\n",
    "\n",
    "axs[0].imshow(cutout_roman.data, origin='lower', \n",
    "              clim=stretch_color(cutout_roman.data, .5)\n",
    "              )\n",
    "axs[0].set_title(f\"ROMAN in filter {filter_roman}\")\n",
    "\n",
    "# Let's also encircle the blended source we identified \n",
    "axs[0].add_patch(patches.Circle(coord_to_xy(cutout_roman.wcs, coords_of_interest), \n",
    "                                radius=50, color='r', fill=False, linewidth=2))\n",
    "# and a bonus blended source that is close to it\n",
    "other_coords = SkyCoord(coords_of_interest.ra-9.2*u.arcsec, coords_of_interest.dec+5*u.arcsec)\n",
    "axs[0].add_patch(patches.Circle(coord_to_xy(cutout_roman.wcs, other_coords),\n",
    "                                radius=36, color='cyan', fill=False, linewidth=2))\n",
    "\n",
    "\n",
    "axs[1].imshow(cutout_rubin.data, origin='lower', \n",
    "              clim=stretch_color(cutout_rubin.data, .5)\n",
    "              )\n",
    "axs[1].set_title(f\"RUBIN in filter {filter_rubin}\")\n",
    "\n",
    "# Let's also encircle the source we identified \n",
    "axs[1].add_patch(patches.Circle(coord_to_xy(cutout_rubin.wcs, coords_of_interest),\n",
    "                                radius=10, color='r', fill=False, linewidth=2))\n",
    "axs[1].add_patch(patches.Circle(coord_to_xy(cutout_rubin.wcs, other_coords),\n",
    "                                radius=8, color='cyan', fill=False, linewidth=2))\n",
    "\n",
    "\n",
    "fig.suptitle(f\"Cutouts at ({coords_of_interest.ra:6f}, {coords_of_interest.dec:6f}) with {cutout_size} size\", fontsize=14);\n",
    "plt.tight_layout(rect=[0, 0, 1, 0.97])\n",
    "# plt.savefig(\"plot.pdf\", bbox_inches='tight', pad_inches=0.2)"
   ]
  },
  {
   "cell_type": "markdown",
   "id": "20e3bec9-b66f-404c-9a08-26ef162c958a",
   "metadata": {},
   "source": [
    "## Use Firefly to visualize the OpenUniverse2024 data preview catalogs\n",
    "\n",
    "Let’s inspect the properties of sources in the Rubin coadd image. For this we will use the input truth files present in S3 bucket.\n",
    "\n",
    "The OpenUniverse2024 data preview includes the input truth files that were used to create the simulated images. These files are in Parquet and HDF5 format, and include information about the properties of galaxies, stars, and transients.\n",
    "\n",
    "To list the available files, we use s3fs. We open a file-system like connection to AWS S3 and then simply list (ls) truth files directory:"
   ]
  },
  {
   "cell_type": "markdown",
   "id": "07482028-8a42-4381-b060-13892dc5a27a",
   "metadata": {},
   "source": [
    "https://caltech-ipac.github.io/irsa-tutorials/tutorials/firefly/OpenUniverse2024Preview_Firefly.html"
   ]
  },
  {
   "cell_type": "code",
   "execution_count": null,
   "id": "4805f69e-703f-4f84-80d0-62edb49bfd44",
   "metadata": {},
   "outputs": [],
   "source": [
    "s3 = s3fs.S3FileSystem(anon=True) # to browse s3 bucket\n",
    "s3.ls(f\"{BUCKET_NAME}/{TRUTH_FILES_PATH}\")"
   ]
  },
  {
   "cell_type": "code",
   "execution_count": null,
   "id": "e99a4065-beff-4f3f-8c35-9e893ade5ed4",
   "metadata": {},
   "outputs": [],
   "source": [
    "# Catalog table of star properties (in parquet format)\n",
    "pointsource_cat_path = f\"{BUCKET_NAME}/{TRUTH_FILES_PATH}/pointsource_10307.parquet\"\n",
    "pointsource_cat_path"
   ]
  },
  {
   "cell_type": "code",
   "execution_count": null,
   "id": "5e2cf8f3-84b3-4580-9050-661773c9eb2b",
   "metadata": {},
   "outputs": [],
   "source": [
    "# Catalog table of galaxy properties (in parquet format)\n",
    "galaxy_cat_path = f\"{BUCKET_NAME}/{TRUTH_FILES_PATH}/galaxy_10307.parquet\"\n",
    "galaxy_cat_path"
   ]
  },
  {
   "cell_type": "markdown",
   "id": "1cc4ff6d-0e6c-490a-8d58-15f2786fff0f",
   "metadata": {},
   "source": [
    "### Use Firefly’s show_table to overlay the catalogs on interactive image of coadd\n",
    "\n",
    "The input truth files cover a region much larger than the data preview, so we define filters on table to constraint the sources in catalog within the ra and dec bounds of preview data. (Note: you can remove filters through the table UI if you wish to see the entire data)\n",
    "\n",
    "You can visualize catalogs interactively with Firefly using show_table. This capability can take many parameters. Here we will simply send our catalog to Firefly so that we can (a) see an interactive table; (b) see this table plotted over the image that we’ve already sent; and (c) use the GUI to quickly create exploratory plots. See if you can use the GUI to quickly determine approximately how many galaxies cover the Rubin image and what the redshift distribution of these galaxies is."
   ]
  },
  {
   "cell_type": "code",
   "execution_count": null,
   "id": "d8346c43-b248-40b1-9a01-22d6ade2754c",
   "metadata": {},
   "outputs": [],
   "source": [
    "cat_filters"
   ]
  },
  {
   "cell_type": "code",
   "execution_count": null,
   "id": "2d99205d-c846-45b8-b745-b45e70b742fd",
   "metadata": {},
   "outputs": [],
   "source": [
    "cat_filters = [\n",
    "    f'(\"ra\" >= {ra_block_centers.min().value} AND \"ra\" <= {ra_block_centers.max().value})', \n",
    "    f'(\"dec\" >= {dec_block_centers.min().value} AND \"dec\" <= {dec_block_centers.max().value})'\n",
    "]\n",
    "cat_filters"
   ]
  },
  {
   "cell_type": "code",
   "execution_count": null,
   "id": "a5a51918-910d-4f2c-8dec-ba6295725974",
   "metadata": {},
   "outputs": [],
   "source": [
    "fc.show_table(url=https_url(pointsource_cat_path),\n",
    "              title='Stars Catalog',\n",
    "              tbl_id='stars_cat',\n",
    "              filters=\" AND \".join(cat_filters))"
   ]
  },
  {
   "cell_type": "code",
   "execution_count": null,
   "id": "e0be9f2c-f1f2-4608-88bf-8acb9fbbf5ff",
   "metadata": {},
   "outputs": [],
   "source": [
    "gal_cat_tbl_id = 'galaxy_cat'\n",
    "\n",
    "# may take ~1.25min, because galaxy catalog is a big file\n",
    "fc.show_table(url=https_url(galaxy_cat_path),\n",
    "              title='Galaxy Catalog',\n",
    "              tbl_id=gal_cat_tbl_id,\n",
    "              filters=\" AND \".join(cat_filters))"
   ]
  },
  {
   "cell_type": "markdown",
   "id": "077b2306-bab9-4da2-8324-76c1732d21c5",
   "metadata": {},
   "source": [
    "For each row in the table you can notice a marker in the image. Selecting a row or marker changes the corresponding marker or row, respectively. You can click on “Details” tab in the UI to show properties of each source selected in image/table."
   ]
  },
  {
   "cell_type": "markdown",
   "id": "6ae4cd7b-2aa1-4f4c-a7b0-344da9a9cd12",
   "metadata": {},
   "source": [
    "### Use Firefly’s apply_table_filters to show only high-redshift galaxies\n",
    "\n",
    "High redshift galaxies are the most interesting, so let’s filter the table we sent to Firefly to only include z>3 galaxies. Notice how the table display and image overlay change. Notice how the chart becomes a scatterplot from a heatmap because the sources reduce. You can remove this filter or add new ones through the GUI.\n",
    "\n",
    "For filtering, we will use apply_table_filters method on the galaxy table we loaded above."
   ]
  },
  {
   "cell_type": "code",
   "execution_count": null,
   "id": "8621c5dd-9f43-4ba8-963c-e1b55cde78b4",
   "metadata": {},
   "outputs": [],
   "source": [
    "fc.apply_table_filters(tbl_id=gal_cat_tbl_id,\n",
    "                       filters=\" AND \".join(cat_filters+['\"redshift\" > 3']))"
   ]
  },
  {
   "cell_type": "markdown",
   "id": "1cde1e79-e8ff-4652-a0a1-cf4064e1923a",
   "metadata": {},
   "source": [
    "You can play with the filters directly from the UI as well. Try removing adding more filters in the tables and see how markers change."
   ]
  },
  {
   "cell_type": "markdown",
   "id": "9590be77-b60a-418f-8eb6-7874b0ca2b49",
   "metadata": {},
   "source": [
    "### Use Firefly’s show_fits_3color to create a 3 color image of the simulated Rubin images"
   ]
  },
  {
   "cell_type": "code",
   "execution_count": null,
   "id": "c7340527-1e57-4e3f-b234-06910674d17d",
   "metadata": {},
   "outputs": [],
   "source": [
    "# [R, G, B]\n",
    "ROMAN_RGB_FILTERS = ['H158', 'J129', 'Y106']\n",
    "RUBIN_RGB_FILTERS = ['r', 'g', 'u']"
   ]
  },
  {
   "cell_type": "markdown",
   "id": "afd807d8-9d7c-429c-822b-605ece3a44b8",
   "metadata": {},
   "source": [
    "We already have Rubin coadd with catalog overlaid, let’s make a 3 color image to see colors of marked objects more clearly. For this we will use show_fits_3color method:"
   ]
  },
  {
   "cell_type": "code",
   "execution_count": null,
   "id": "5aadc9e2-b456-4bf4-853a-8141b1e39007",
   "metadata": {},
   "outputs": [],
   "source": [
    "coadd_ff_id_rubin_3color = 'rubin-coadd-3color'\n",
    "threeC = [\n",
    "    dict(url=https_url(get_rubin_coadd_fpath(filter_name)),\n",
    "         Title=\"Rubin Coadd 3 color\")\n",
    "    for filter_name in RUBIN_RGB_FILTERS\n",
    "]\n",
    "\n",
    "fc.show_fits_3color(three_color_params=threeC,\n",
    "                    plot_id=coadd_ff_id_rubin_3color)\n"
   ]
  },
  {
   "cell_type": "markdown",
   "id": "ebbcde7b-e907-46ab-a429-8d10218202f6",
   "metadata": {},
   "source": [
    "## Use Firefly’s interactivity to identify a region of interest\n",
    "For example, we found a region of the sky that seems to have a high number of high redshift sources and we copy it from the image display:"
   ]
  },
  {
   "cell_type": "code",
   "execution_count": null,
   "id": "0667d2ee-6ebc-4a72-8217-ff061064cf24",
   "metadata": {},
   "outputs": [],
   "source": [
    "# located and copied through UI\n",
    "high_z_gal_coords = SkyCoord('0h38m00.77s -44d12m10.2s', frame='icrs')\n",
    "high_z_gal_coords"
   ]
  },
  {
   "cell_type": "markdown",
   "id": "432e7c31-3302-451a-b5e4-779ec3604a72",
   "metadata": {},
   "source": [
    "### let's also mark it in our region layer, so that it's easy to pinpoint later\n",
    "point_region = f'icrs;point {high_z_gal_coords.ra.value}d {high_z_gal_coords.dec.value}d # point=cross 15 text={{z>3 mock galaxies}}'\n",
    "fc.add_region_data(region_data=point_region, region_layer_id=roman_regions_id)"
   ]
  },
  {
   "cell_type": "markdown",
   "id": "ab9f7639-fddb-4dde-bda5-e93ffb0a102b",
   "metadata": {},
   "source": [
    "## Plot 3-color Roman coadd containing your region of interest"
   ]
  },
  {
   "cell_type": "code",
   "execution_count": null,
   "id": "9cd247ed-7910-4da0-9b62-393722103672",
   "metadata": {},
   "outputs": [],
   "source": [
    "coadd_roman['wcs']"
   ]
  },
  {
   "cell_type": "markdown",
   "id": "67132d03-d2a5-4335-a85d-abe220b5edfd",
   "metadata": {},
   "source": [
    "## Prepare Roman coadds for displaying in Firefly\n",
    "\n",
    "Roman coadds have STG projection which cannot be read by Firefly yet. Firefly can display any FITS image but it needs to read the WCS for overlaying catalogs and other interactive features. So unlike Rubin 3 color image where we directly passed URL of coadd files to Firefly, we will read Roman coadd files in Python, reproject them from STG to TAN, and write them back to FITS to pass them to Firefly.\n",
    "\n",
    "Let’s first define functions to do so:"
   ]
  },
  {
   "cell_type": "code",
   "execution_count": null,
   "id": "62e9d977-b7bf-4f07-8c9a-712386fbef6c",
   "metadata": {},
   "outputs": [],
   "source": [
    "def reproject_to_TAN(coadd_roman):\n",
    "    # Define a new WCS with TAN projection (in CTYPE key)\n",
    "    output_wcs = coadd_roman['wcs'].deepcopy()\n",
    "    output_wcs.wcs.ctype = [ctype.replace('STG', 'TAN') for ctype in coadd_roman['wcs'].wcs.ctype]\n",
    "    \n",
    "    # Use reproject to convert a given data and wcs, to a desired wcs and shape\n",
    "    reprojected_data, _ = reproject_interp(\n",
    "        (coadd_roman['data'], coadd_roman['wcs']),\n",
    "        output_projection=output_wcs,\n",
    "        shape_out=coadd_roman['data'].shape\n",
    "    )\n",
    "\n",
    "    return {'data': reprojected_data, 'wcs': output_wcs}"
   ]
  },
  {
   "cell_type": "code",
   "execution_count": null,
   "id": "9338857a-d251-437f-8e21-67307e3506cf",
   "metadata": {},
   "outputs": [],
   "source": [
    "def get_fits_stream(coadd_roman):\n",
    "    # Create a FITS PrimaryHDU object with the coadd data\n",
    "    hdu = fits.PrimaryHDU(data=coadd_roman['data'], header=coadd_roman['wcs'].to_header())\n",
    "\n",
    "    # Write the HDU to the in-memory stream (to save I/O time)\n",
    "    fits_stream = BytesIO()\n",
    "    hdu.writeto(fits_stream, overwrite=True)\n",
    "    fits_stream.seek(0) # to bring reading pointer to the beginning of file\n",
    "\n",
    "    return fits_stream"
   ]
  },
  {
   "cell_type": "markdown",
   "id": "a11b7440-8e0d-48d6-b5b0-a4d3a36d4cd3",
   "metadata": {},
   "source": [
    "Then we perform all 3 operations we mentioned above for the RGB filters of Roman:"
   ]
  },
  {
   "cell_type": "code",
   "execution_count": null,
   "id": "59afb3b6-8af0-4e56-b3e2-40123896b306",
   "metadata": {},
   "outputs": [],
   "source": [
    "coadds_rgb = []\n",
    "coadds_rgb_reprojected = []\n",
    "coadds_rgb_fits_stream = []\n",
    "\n",
    "for filter_name in ROMAN_RGB_FILTERS:\n",
    "    print(f'\\nFILTER: {filter_name}')\n",
    "    print('Retrieving Roman coadd...')\n",
    "    coadd_roman = get_roman_coadd(high_z_gal_coords, filter_name)\n",
    "    coadds_rgb.append(coadd_roman)\n",
    "\n",
    "    print('Reprojecting to TAN...')\n",
    "    coadd_roman_reprojected = reproject_to_TAN(coadd_roman)\n",
    "    coadds_rgb_reprojected.append(coadd_roman_reprojected)\n",
    "\n",
    "    print('Writing back to fits stream...')\n",
    "    coadd_roman_fits_stream = get_fits_stream(coadd_roman_reprojected)\n",
    "    coadds_rgb_fits_stream.append(coadd_roman_fits_stream)"
   ]
  },
  {
   "cell_type": "markdown",
   "id": "2778c571-65ff-48d8-984a-dcc91dbf5f2c",
   "metadata": {},
   "source": [
    "## Use Firefly’s show_fits_3color to create a 3 color image of Roman coadds\n",
    "Now we upload each fits stream (in-memory fits file) to firefly using upload_fits_data() and prepare color params to pass to the show_fits_3color()."
   ]
  },
  {
   "cell_type": "code",
   "execution_count": null,
   "id": "7a309559-8a4a-487e-a6cd-fa77333d08cb",
   "metadata": {},
   "outputs": [],
   "source": [
    "three_color_params = [\n",
    "    {\n",
    "        'file': fc.upload_fits_data(fits_stream),\n",
    "        'Title': \"Roman Coadd 3 color\"\n",
    "    } for fits_stream in coadds_rgb_fits_stream]"
   ]
  },
  {
   "cell_type": "code",
   "execution_count": null,
   "id": "b0e30864-fc6c-4c68-b45d-8b38ad7be2a3",
   "metadata": {},
   "outputs": [],
   "source": [
    "coadd_ff_id_roman_3color = 'roman-coadd-3color-high_z_gal'\n",
    "fc.show_fits_3color(three_color_params=three_color_params,\n",
    "                    plot_id=coadd_ff_id_roman_3color)\n",
    "\n"
   ]
  },
  {
   "cell_type": "markdown",
   "id": "c6565fee-c438-4b79-8f72-a886c0a35749",
   "metadata": {},
   "source": [
    "We can see 3 color image of Roman coadd containing the high-redshift galaxy sources. Try panning and zomming out, you can notice it spans over one block compared to the Rubin coadd which is much larger."
   ]
  },
  {
   "cell_type": "markdown",
   "id": "487cea2e-f3f9-4aab-89d3-c8d16fe90e25",
   "metadata": {},
   "source": [
    "## Use Firefly’s pan/zoom/align methods to locate high redshift sources\n",
    "\n",
    "Now, let’s pan & zoom to the region where we located high-redshift galaxy sources. Also align & lock all images being displayed by WCS. For these operations we use these 3 methods (click on them to see their documentation):\n",
    "\n",
    "    set_pan\n",
    "\n",
    "    set_zoom\n",
    "\n",
    "    align_images\n"
   ]
  },
  {
   "cell_type": "code",
   "execution_count": null,
   "id": "925581e0-d133-4f07-8323-0e2f9b160975",
   "metadata": {},
   "outputs": [],
   "source": [
    "fc.set_pan(plot_id=coadd_ff_id_roman_3color, x=high_z_gal_coords.ra.deg, y=high_z_gal_coords.dec.deg, coord='j2000')\n",
    "fc.set_zoom(plot_id=coadd_ff_id_roman_3color, factor=1)\n",
    "fc.align_images(lock_match=True)"
   ]
  },
  {
   "cell_type": "markdown",
   "id": "4b8b361f-b527-4a67-b4e3-8db28bd95940",
   "metadata": {},
   "source": [
    "## Use Firefly’s set_stretch method to change the stretch of the image display via Python\n",
    "The image has a lot of noise that obscures our high redshift sources of interest. You can use the Firefly GUI to change the stretch of the image display. We identify that squared stretch from -2 to 10 sigma highlights the colors of our sources better. You can also use the Firefly client’s set_stretch to do this via Python. This is helpful for reproducibility and for scaling up to many images."
   ]
  },
  {
   "cell_type": "code",
   "execution_count": null,
   "id": "38fcf606-a254-4591-97bf-3dd52b6dc091",
   "metadata": {},
   "outputs": [],
   "source": [
    "fc.set_stretch(plot_id=coadd_ff_id_roman_3color, stype='sigma', algorithm='squared', \n",
    "               band='ALL', lower_value=-2, upper_value=10)"
   ]
  },
  {
   "cell_type": "code",
   "execution_count": null,
   "id": "3a0c90f6-be9a-423d-8ba0-3255ae33352e",
   "metadata": {},
   "outputs": [],
   "source": []
  }
 ],
 "metadata": {
  "kernelspec": {
   "display_name": "romanlsst_py311",
   "language": "python",
   "name": "romanlsst_py311"
  },
  "language_info": {
   "codemirror_mode": {
    "name": "ipython",
    "version": 3
   },
   "file_extension": ".py",
   "mimetype": "text/x-python",
   "name": "python",
   "nbconvert_exporter": "python",
   "pygments_lexer": "ipython3",
   "version": "3.11.11"
  }
 },
 "nbformat": 4,
 "nbformat_minor": 5
}
