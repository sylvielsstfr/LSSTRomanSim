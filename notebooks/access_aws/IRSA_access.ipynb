{
 "cells": [
  {
   "cell_type": "markdown",
   "id": "49ebfd88-e63a-40e1-b003-0b99277adfef",
   "metadata": {},
   "source": [
    "# IRSA cloud access introduction\n",
    "\n",
    "- creation date : 2025-03-14\n",
    "- last update : 2025-04-24 \n",
    "- on my laptop kernel `romanlsst_py311` --> conda_py311 (april)\n",
    "\n",
    "- data access : https://caltech-ipac.github.io/irsa-tutorials/tutorials/cloud_access/cloud-access-intro.html\n",
    "- data description: https://registry.opendata.aws/openuniverse2024/\n",
    "- Tutorial : https://caltech-ipac.github.io/irsa-tutorials/tutorials/firefly/OpenUniverse2024Preview_Firefly.html#"
   ]
  },
  {
   "cell_type": "markdown",
   "id": "99b5f871-6293-4784-9147-759cc29b6351",
   "metadata": {},
   "source": [
    "    arn:aws:s3:::nasa-irsa-simulations/openuniverse2024/roman/\n",
    "    us-east-1\n",
    "    aws s3 ls --no-sign-request s3://nasa-irsa-simulations/openuniverse2024/roman/"
   ]
  },
  {
   "cell_type": "markdown",
   "id": "90127808-50c5-4b15-ba1e-a00cabbd07a3",
   "metadata": {},
   "source": [
    "    arn:aws:s3:::nasa-irsa-simulations/openuniverse2024/rubin/\n",
    "    us-east-1\n",
    "    aws s3 ls --no-sign-request s3://nasa-irsa-simulations/openuniverse2024/rubin/"
   ]
  },
  {
   "cell_type": "markdown",
   "id": "b92bbe40-a09e-4167-a5b8-f0cfb05c2a2d",
   "metadata": {},
   "source": [
    "Cloud Access Variable\n",
    "\n",
    "- Definition : BUCKET_NAME\n",
    "- AWS S3 bucket name : BUCKET_REGION\n",
    "- AWS region the bucket is in : IMAGES_PREFIX\n",
    "- S3 prefix to the base of an image set : CATALOG_PREFIX\n",
    "- S3 prefix to the base of a catalog PARQUET_NAME\n",
    "- Path to the base of the catalog’s Parquet dataset, relative to the prefix"
   ]
  },
  {
   "cell_type": "code",
   "execution_count": null,
   "id": "d8b4989f-0766-4b1c-8e4e-c787ee55dcb5",
   "metadata": {},
   "outputs": [],
   "source": [
    "import s3fs\n",
    "#Import modules\n",
    "from astropy.io import fits\n",
    "import numpy as np"
   ]
  },
  {
   "cell_type": "code",
   "execution_count": null,
   "id": "58a19c48-db43-479d-be98-c82c77bc0deb",
   "metadata": {},
   "outputs": [],
   "source": [
    "# create an S3 client\n",
    "s3 = s3fs.S3FileSystem(anon=True)"
   ]
  },
  {
   "cell_type": "code",
   "execution_count": null,
   "id": "0339f375-d8d2-4192-a6d6-70fd33995418",
   "metadata": {},
   "outputs": [],
   "source": [
    "BUCKET_NAME = \"nasa-irsa-spitzer\"\n",
    "IMAGES_PREFIX = \"spitzer/seip/seip_science/images\"\n",
    "s3.ls(f\"{BUCKET_NAME}/{IMAGES_PREFIX}/\")"
   ]
  },
  {
   "cell_type": "code",
   "execution_count": null,
   "id": "c715c60c-952a-4074-b4d0-a4f0eba59e42",
   "metadata": {},
   "outputs": [],
   "source": [
    "BUCKET_NAME1 = \"nasa-irsa-simulations/openuniverse2024/roman/preview\"\n",
    "CATALOG_PREFIX1 = \"roman_rubin_cats_v1.1.2_faint\"\n",
    "IMAGES_PREFIX1 = \"images\"\n",
    "ROMANWAS_PREFIX1  = \"RomanWAS\"\n",
    "ROMANTDS_PREFIX1  = \"RomanTDS\""
   ]
  },
  {
   "cell_type": "code",
   "execution_count": null,
   "id": "73063fa2-2b5d-4e48-aaa9-3144530a36d0",
   "metadata": {},
   "outputs": [],
   "source": [
    "s3.ls(f\"{BUCKET_NAME1}\")"
   ]
  },
  {
   "cell_type": "code",
   "execution_count": null,
   "id": "054277c2-ce6a-4283-aab9-bf2f7ca37999",
   "metadata": {},
   "outputs": [],
   "source": [
    "s3.ls(f\"{BUCKET_NAME1}/{ROMANWAS_PREFIX1}\")"
   ]
  },
  {
   "cell_type": "code",
   "execution_count": null,
   "id": "9820a76f-870d-48e3-82c1-de63cbd34f7e",
   "metadata": {},
   "outputs": [],
   "source": [
    "s3.ls(f\"{BUCKET_NAME1}/{CATALOG_PREFIX1}\")"
   ]
  },
  {
   "cell_type": "code",
   "execution_count": null,
   "id": "89733d06-f05b-4e3e-b2b7-375641663662",
   "metadata": {},
   "outputs": [],
   "source": [
    "BUCKET_NAME2 = \"nasa-irsa-simulations/openuniverse2024/rubin/preview\"\n",
    "IMAGES_PREFIX2 = \"LSSTCam/raw/all/raw\"\n",
    "CATALOG_PREFIX2 = \"u/descdm/preview_data_step3_2877_19_w_2024_12/20240403T150003Z/deepCoadd_forced_src/2877/19\""
   ]
  },
  {
   "cell_type": "code",
   "execution_count": null,
   "id": "00570ef3-8237-4f61-a1a3-4b073c6f883d",
   "metadata": {},
   "outputs": [],
   "source": [
    "s3.ls(f\"{BUCKET_NAME2}\")"
   ]
  },
  {
   "cell_type": "code",
   "execution_count": null,
   "id": "f56ae731-9ce5-4862-ae8a-cf97abc9e0b7",
   "metadata": {},
   "outputs": [],
   "source": [
    "s3.ls(f\"{BUCKET_NAME2}/{CATALOG_PREFIX2}\")"
   ]
  },
  {
   "cell_type": "code",
   "execution_count": null,
   "id": "1b1acede-0d00-4fff-9049-b649fd93e7bd",
   "metadata": {},
   "outputs": [],
   "source": [
    "s3.ls(f\"{BUCKET_NAME2}/{CATALOG_PREFIX2}/g\")"
   ]
  },
  {
   "cell_type": "code",
   "execution_count": null,
   "id": "13cbeea4-a63c-4ef7-996a-29ec637849ef",
   "metadata": {},
   "outputs": [],
   "source": [
    "filename_root = \"deepCoadd_forced_src_2877_19_g_DC2_u_descdm_preview_data_step3_2877_19_w_2024_12_20240403T150003Z.fits\""
   ]
  },
  {
   "cell_type": "code",
   "execution_count": null,
   "id": "e7214a14-01c3-4904-9d9a-f582ae2416f4",
   "metadata": {},
   "outputs": [],
   "source": [
    "s3_uri = f\"s3://{BUCKET_NAME2}/{CATALOG_PREFIX2}/g/{filename_root}\""
   ]
  },
  {
   "cell_type": "code",
   "execution_count": null,
   "id": "7a82845f-149c-4f64-8228-df0fb9b07543",
   "metadata": {},
   "outputs": [],
   "source": [
    "s3.ls(s3_uri)"
   ]
  },
  {
   "cell_type": "code",
   "execution_count": null,
   "id": "83c6c8b0-c4be-4302-871b-ca1b7c474cd3",
   "metadata": {},
   "outputs": [],
   "source": [
    "#Show a summary of extensions for this file.\n",
    "\n",
    "with fits.open(s3_uri, fsspec_kwargs={\"anon\": True}) as hdul:\n",
    "    hdul.info()\n"
   ]
  },
  {
   "cell_type": "code",
   "execution_count": null,
   "id": "da8701f3-e7d8-4153-8a29-abd261fa85b6",
   "metadata": {},
   "outputs": [],
   "source": [
    "hdul[0].header"
   ]
  },
  {
   "cell_type": "code",
   "execution_count": null,
   "id": "5a608c45-6aa5-4972-93b8-90b1e5c8542d",
   "metadata": {},
   "outputs": [],
   "source": [
    "hdul[0].data"
   ]
  },
  {
   "cell_type": "code",
   "execution_count": null,
   "id": "19080b68-1c8f-414a-a9a0-55104d3fe518",
   "metadata": {},
   "outputs": [],
   "source": [
    "#hdul[1].header"
   ]
  },
  {
   "cell_type": "code",
   "execution_count": null,
   "id": "21f13e9a-aaf9-4b54-b8f7-28e08d35863b",
   "metadata": {},
   "outputs": [],
   "source": [
    "#hdul[2].header"
   ]
  },
  {
   "cell_type": "code",
   "execution_count": null,
   "id": "3e4bb06c-155d-469d-a932-3c7716fd4ea2",
   "metadata": {},
   "outputs": [],
   "source": [
    "#hdul[3].header"
   ]
  },
  {
   "cell_type": "code",
   "execution_count": null,
   "id": "fe7e8e05-cdd5-4844-8792-ec7e3877e13f",
   "metadata": {},
   "outputs": [],
   "source": [
    "#hdul[4].header"
   ]
  },
  {
   "cell_type": "code",
   "execution_count": null,
   "id": "a3df268f-bc88-4285-9e05-eedf234fac3c",
   "metadata": {},
   "outputs": [],
   "source": [
    "#hdul[5].header"
   ]
  },
  {
   "cell_type": "code",
   "execution_count": null,
   "id": "ef64b59a-8d99-4515-89a2-c66984d20c13",
   "metadata": {},
   "outputs": [],
   "source": []
  }
 ],
 "metadata": {
  "kernelspec": {
   "display_name": "conda_py311",
   "language": "python",
   "name": "conda_py311"
  },
  "language_info": {
   "codemirror_mode": {
    "name": "ipython",
    "version": 3
   },
   "file_extension": ".py",
   "mimetype": "text/x-python",
   "name": "python",
   "nbconvert_exporter": "python",
   "pygments_lexer": "ipython3",
   "version": "3.11.12"
  }
 },
 "nbformat": 4,
 "nbformat_minor": 5
}
