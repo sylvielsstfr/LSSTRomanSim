{
 "cells": [
  {
   "cell_type": "code",
   "execution_count": null,
   "id": "23aed662-9416-4aeb-a1ab-da82e254de8e",
   "metadata": {},
   "outputs": [],
   "source": []
  },
  {
   "cell_type": "markdown",
   "id": "49ebfd88-e63a-40e1-b003-0b99277adfef",
   "metadata": {},
   "source": [
    "# IRSA cloud access introduction\n",
    "\n",
    "- data access : https://caltech-ipac.github.io/irsa-tutorials/tutorials/cloud_access/cloud-access-intro.html\n",
    "- data description: https://registry.opendata.aws/openuniverse2024/"
   ]
  },
  {
   "cell_type": "markdown",
   "id": "99b5f871-6293-4784-9147-759cc29b6351",
   "metadata": {},
   "source": [
    "    arn:aws:s3:::nasa-irsa-simulations/openuniverse2024/roman/\n",
    "    us-east-1\n",
    "    aws s3 ls --no-sign-request s3://nasa-irsa-simulations/openuniverse2024/roman/"
   ]
  },
  {
   "cell_type": "markdown",
   "id": "90127808-50c5-4b15-ba1e-a00cabbd07a3",
   "metadata": {},
   "source": [
    "    arn:aws:s3:::nasa-irsa-simulations/openuniverse2024/rubin/\n",
    "    us-east-1\n",
    "    aws s3 ls --no-sign-request s3://nasa-irsa-simulations/openuniverse2024/rubin/"
   ]
  },
  {
   "cell_type": "markdown",
   "id": "b92bbe40-a09e-4167-a5b8-f0cfb05c2a2d",
   "metadata": {},
   "source": [
    "Cloud Access Variable\n",
    "\n",
    "- Definition : BUCKET_NAME\n",
    "- AWS S3 bucket name : BUCKET_REGION\n",
    "- AWS region the bucket is in : IMAGES_PREFIX\n",
    "- S3 prefix to the base of an image set : CATALOG_PREFIX\n",
    "- S3 prefix to the base of a catalog PARQUET_NAME\n",
    "- Path to the base of the catalog’s Parquet dataset, relative to the prefix"
   ]
  },
  {
   "cell_type": "code",
   "execution_count": 50,
   "id": "d8b4989f-0766-4b1c-8e4e-c787ee55dcb5",
   "metadata": {},
   "outputs": [],
   "source": [
    "import s3fs\n",
    "#Import modules\n",
    "from astropy.io import fits\n",
    "import numpy as np"
   ]
  },
  {
   "cell_type": "code",
   "execution_count": 3,
   "id": "58a19c48-db43-479d-be98-c82c77bc0deb",
   "metadata": {},
   "outputs": [],
   "source": [
    "# create an S3 client\n",
    "s3 = s3fs.S3FileSystem(anon=True)"
   ]
  },
  {
   "cell_type": "code",
   "execution_count": 4,
   "id": "0339f375-d8d2-4192-a6d6-70fd33995418",
   "metadata": {},
   "outputs": [
    {
     "data": {
      "text/plain": [
       "['nasa-irsa-spitzer/spitzer/seip/seip_science/images/2',\n",
       " 'nasa-irsa-spitzer/spitzer/seip/seip_science/images/3',\n",
       " 'nasa-irsa-spitzer/spitzer/seip/seip_science/images/4',\n",
       " 'nasa-irsa-spitzer/spitzer/seip/seip_science/images/5',\n",
       " 'nasa-irsa-spitzer/spitzer/seip/seip_science/images/6',\n",
       " 'nasa-irsa-spitzer/spitzer/seip/seip_science/images/7']"
      ]
     },
     "execution_count": 4,
     "metadata": {},
     "output_type": "execute_result"
    }
   ],
   "source": [
    "BUCKET_NAME = \"nasa-irsa-spitzer\"\n",
    "IMAGES_PREFIX = \"spitzer/seip/seip_science/images\"\n",
    "s3.ls(f\"{BUCKET_NAME}/{IMAGES_PREFIX}/\")"
   ]
  },
  {
   "cell_type": "code",
   "execution_count": 20,
   "id": "c715c60c-952a-4074-b4d0-a4f0eba59e42",
   "metadata": {},
   "outputs": [],
   "source": [
    "BUCKET_NAME1 = \"nasa-irsa-simulations/openuniverse2024/roman/preview\"\n",
    "CATALOG_PREFIX1 = \"roman_rubin_cats_v1.1.2_faint\"\n",
    "IMAGES_PREFIX1 = \"images\"\n",
    "ROMANWAS_PREFIX1  = \"RomanWAS\"\n",
    "ROMANTDS_PREFIX1  = \"RomanTDS\""
   ]
  },
  {
   "cell_type": "code",
   "execution_count": 43,
   "id": "73063fa2-2b5d-4e48-aaa9-3144530a36d0",
   "metadata": {},
   "outputs": [
    {
     "data": {
      "text/plain": [
       "['nasa-irsa-simulations/openuniverse2024/roman/preview/RomanTDS',\n",
       " 'nasa-irsa-simulations/openuniverse2024/roman/preview/RomanWAS',\n",
       " 'nasa-irsa-simulations/openuniverse2024/roman/preview/roman_rubin_cats_v1.1.2_faint']"
      ]
     },
     "execution_count": 43,
     "metadata": {},
     "output_type": "execute_result"
    }
   ],
   "source": [
    "s3.ls(f\"{BUCKET_NAME1}\")"
   ]
  },
  {
   "cell_type": "code",
   "execution_count": 16,
   "id": "054277c2-ce6a-4283-aab9-bf2f7ca37999",
   "metadata": {},
   "outputs": [
    {
     "data": {
      "text/plain": [
       "['nasa-irsa-simulations/openuniverse2024/roman/preview/RomanWAS/Roman_WAS_obseq_11_1_23.fits',\n",
       " 'nasa-irsa-simulations/openuniverse2024/roman/preview/RomanWAS/Roman_WAS_obseq_11_1_23_radec.fits',\n",
       " 'nasa-irsa-simulations/openuniverse2024/roman/preview/RomanWAS/images',\n",
       " 'nasa-irsa-simulations/openuniverse2024/roman/preview/RomanWAS/truth',\n",
       " 'nasa-irsa-simulations/openuniverse2024/roman/preview/RomanWAS/was.yaml']"
      ]
     },
     "execution_count": 16,
     "metadata": {},
     "output_type": "execute_result"
    }
   ],
   "source": [
    "s3.ls(f\"{BUCKET_NAME1}/{ROMANWAS_PREFIX1}\")"
   ]
  },
  {
   "cell_type": "code",
   "execution_count": 44,
   "id": "9820a76f-870d-48e3-82c1-de63cbd34f7e",
   "metadata": {},
   "outputs": [
    {
     "data": {
      "text/plain": [
       "['nasa-irsa-simulations/openuniverse2024/roman/preview/roman_rubin_cats_v1.1.2_faint/galaxy_10307.parquet',\n",
       " 'nasa-irsa-simulations/openuniverse2024/roman/preview/roman_rubin_cats_v1.1.2_faint/galaxy_flux_10307.parquet',\n",
       " 'nasa-irsa-simulations/openuniverse2024/roman/preview/roman_rubin_cats_v1.1.2_faint/galaxy_sed_10307.hdf5',\n",
       " 'nasa-irsa-simulations/openuniverse2024/roman/preview/roman_rubin_cats_v1.1.2_faint/pointsource_10307.parquet',\n",
       " 'nasa-irsa-simulations/openuniverse2024/roman/preview/roman_rubin_cats_v1.1.2_faint/pointsource_flux_10307.parquet',\n",
       " 'nasa-irsa-simulations/openuniverse2024/roman/preview/roman_rubin_cats_v1.1.2_faint/snana_10307.hdf5',\n",
       " 'nasa-irsa-simulations/openuniverse2024/roman/preview/roman_rubin_cats_v1.1.2_faint/snana_10307.parquet']"
      ]
     },
     "execution_count": 44,
     "metadata": {},
     "output_type": "execute_result"
    }
   ],
   "source": [
    "s3.ls(f\"{BUCKET_NAME1}/{CATALOG_PREFIX1}\")"
   ]
  },
  {
   "cell_type": "code",
   "execution_count": 40,
   "id": "89733d06-f05b-4e3e-b2b7-375641663662",
   "metadata": {},
   "outputs": [],
   "source": [
    "BUCKET_NAME2 = \"nasa-irsa-simulations/openuniverse2024/rubin/preview\"\n",
    "IMAGES_PREFIX2 = \"LSSTCam/raw/all/raw\"\n",
    "CATALOG_PREFIX2 = \"u/descdm/preview_data_step3_2877_19_w_2024_12/20240403T150003Z/deepCoadd_forced_src/2877/19\""
   ]
  },
  {
   "cell_type": "code",
   "execution_count": 42,
   "id": "00570ef3-8237-4f61-a1a3-4b073c6f883d",
   "metadata": {},
   "outputs": [
    {
     "data": {
      "text/plain": [
       "['nasa-irsa-simulations/openuniverse2024/rubin/preview/LSSTCam',\n",
       " 'nasa-irsa-simulations/openuniverse2024/rubin/preview/refcats',\n",
       " 'nasa-irsa-simulations/openuniverse2024/rubin/preview/roman-desc-sims_preview_data_export.yaml',\n",
       " 'nasa-irsa-simulations/openuniverse2024/rubin/preview/skymaps',\n",
       " 'nasa-irsa-simulations/openuniverse2024/rubin/preview/u']"
      ]
     },
     "execution_count": 42,
     "metadata": {},
     "output_type": "execute_result"
    }
   ],
   "source": [
    "s3.ls(f\"{BUCKET_NAME2}\")"
   ]
  },
  {
   "cell_type": "code",
   "execution_count": 41,
   "id": "f56ae731-9ce5-4862-ae8a-cf97abc9e0b7",
   "metadata": {},
   "outputs": [
    {
     "data": {
      "text/plain": [
       "['nasa-irsa-simulations/openuniverse2024/rubin/preview/u/descdm/preview_data_step3_2877_19_w_2024_12/20240403T150003Z/deepCoadd_forced_src/2877/19/g',\n",
       " 'nasa-irsa-simulations/openuniverse2024/rubin/preview/u/descdm/preview_data_step3_2877_19_w_2024_12/20240403T150003Z/deepCoadd_forced_src/2877/19/i',\n",
       " 'nasa-irsa-simulations/openuniverse2024/rubin/preview/u/descdm/preview_data_step3_2877_19_w_2024_12/20240403T150003Z/deepCoadd_forced_src/2877/19/r',\n",
       " 'nasa-irsa-simulations/openuniverse2024/rubin/preview/u/descdm/preview_data_step3_2877_19_w_2024_12/20240403T150003Z/deepCoadd_forced_src/2877/19/u',\n",
       " 'nasa-irsa-simulations/openuniverse2024/rubin/preview/u/descdm/preview_data_step3_2877_19_w_2024_12/20240403T150003Z/deepCoadd_forced_src/2877/19/y',\n",
       " 'nasa-irsa-simulations/openuniverse2024/rubin/preview/u/descdm/preview_data_step3_2877_19_w_2024_12/20240403T150003Z/deepCoadd_forced_src/2877/19/z']"
      ]
     },
     "execution_count": 41,
     "metadata": {},
     "output_type": "execute_result"
    }
   ],
   "source": [
    "s3.ls(f\"{BUCKET_NAME2}/{CATALOG_PREFIX2}\")"
   ]
  },
  {
   "cell_type": "code",
   "execution_count": 45,
   "id": "1b1acede-0d00-4fff-9049-b649fd93e7bd",
   "metadata": {},
   "outputs": [
    {
     "data": {
      "text/plain": [
       "['nasa-irsa-simulations/openuniverse2024/rubin/preview/u/descdm/preview_data_step3_2877_19_w_2024_12/20240403T150003Z/deepCoadd_forced_src/2877/19/g/deepCoadd_forced_src_2877_19_g_DC2_u_descdm_preview_data_step3_2877_19_w_2024_12_20240403T150003Z.fits']"
      ]
     },
     "execution_count": 45,
     "metadata": {},
     "output_type": "execute_result"
    }
   ],
   "source": [
    "s3.ls(f\"{BUCKET_NAME2}/{CATALOG_PREFIX2}/g\")"
   ]
  },
  {
   "cell_type": "code",
   "execution_count": 46,
   "id": "13cbeea4-a63c-4ef7-996a-29ec637849ef",
   "metadata": {},
   "outputs": [],
   "source": [
    "filename_root = \"deepCoadd_forced_src_2877_19_g_DC2_u_descdm_preview_data_step3_2877_19_w_2024_12_20240403T150003Z.fits\""
   ]
  },
  {
   "cell_type": "code",
   "execution_count": 47,
   "id": "e7214a14-01c3-4904-9d9a-f582ae2416f4",
   "metadata": {},
   "outputs": [],
   "source": [
    "s3_uri = f\"s3://{BUCKET_NAME2}/{CATALOG_PREFIX2}/g/{filename_root}\""
   ]
  },
  {
   "cell_type": "code",
   "execution_count": 48,
   "id": "7a82845f-149c-4f64-8228-df0fb9b07543",
   "metadata": {},
   "outputs": [
    {
     "data": {
      "text/plain": [
       "['nasa-irsa-simulations/openuniverse2024/rubin/preview/u/descdm/preview_data_step3_2877_19_w_2024_12/20240403T150003Z/deepCoadd_forced_src/2877/19/g/deepCoadd_forced_src_2877_19_g_DC2_u_descdm_preview_data_step3_2877_19_w_2024_12_20240403T150003Z.fits']"
      ]
     },
     "execution_count": 48,
     "metadata": {},
     "output_type": "execute_result"
    }
   ],
   "source": [
    "s3.ls(s3_uri)"
   ]
  },
  {
   "cell_type": "code",
   "execution_count": 51,
   "id": "83c6c8b0-c4be-4302-871b-ca1b7c474cd3",
   "metadata": {},
   "outputs": [
    {
     "name": "stdout",
     "output_type": "stream",
     "text": [
      "Filename: <class 's3fs.core.S3File'>\n",
      "No.    Name      Ver    Type      Cards   Dimensions   Format\n",
      "  0  PRIMARY       1 PrimaryHDU       6   ()      \n",
      "  1                1 BinTableHDU   2222   26524R x 298C   [342X, 1K, 1D, 1D, 1K, 1J, 1D, 1D, 1E, 1E, 1D, 1D, 1J, 1D, 1D, 1D, 1E, 1E, 1E, 1D, 1D, 1D, 1D, 1D, 1D, 1D, 1E, 1E, 1E, 1D, 1D, 1D, 1D, 1D, 1D, 1D, 1D, 1D, 1D, 1D, 1D, 1D, 1D, 1D, 1D, 1D, 1D, 1D, 1D, 1D, 1D, 1D, 1D, 1D, 1D, 1D, 1D, 1D, 1D, 1D, 1D, 1D, 1D, 1D, 1D, 1D, 1D, 1D, 1D, 1D, 1D, 1D, 1D, 1D, 1D, 1D, 1D, 1E, 1E, 1J, 1D, 1D, 1D, 1D, 1D, 1D, 1D, 1D, 1D, 1D, 1D, 1D, 1D, 1D, 1D, 1D, 1D, 1D, 1D, 1D, 1D, 1D, 1E, 1E, 1E, 1E, 1D, 1D, 1D, 1D, 1D, 1D, 1D, 1D, 1D, 1D, 1D, 1D, 1D, 1D, 1D, 1D, 1D, 1D, 1D, 1D, 1D, 1D, 1D, 1D, 1D, 1D, 1D, 1D, 1D, 1D, 1D, 1D, 1D, 1D, 1D, 1D, 1D, 1D, 1D, 1D, 1D, 1D, 1D, 1D, 1D, 1D, 1D, 1D, 1D, 1D, 1D, 1D, 1D, 1D, 1D, 1D, 1D, 1D, 1D, 1D, 1D, 1D, 1D, 1D, 1D, 1D, 1D, 1D, 1E, 1E, 1J, 1D, 1D, 1D, 1D, 1D, 1D, 1D, 1D, 1D, 1D, 1D, 1D, 1D, 1D, 1D, 1D, 1D, 1D, 1D, 1D, 1D, 1E, 1E, 1E, 1E, 1D, 1D, 1D, 1D, 1D, 1D, 1D, 1D, 1D, 1D, 1D, 1D, 1D, 1D, 1D, 1D, 1D, 1D, 1D, 1D, 1D, 1D, 1D, 1D, 1D, 1D, 1D, 1D, 1D, 1D, 1D, 1D, 1D, 1D, 1D, 1D, 1D, 1D, 1D, 1D, 1D, 1D, 1D, 1D, 1D, 1D, 1D, 1D, 1D, 1D, 1D, 1D, 1D, 1D, 1D, 1D, 1D, 1D, 1D, 1D, 1D, 1D, 1D, 1D, 1D, 1D, 1D, 1D, 1D, 1D, 1D, 1D, 1D, 1D, 1D, 1D, 1D, 1D, 1D, 1D, 1D, 1D, 1D, 1D, 1D, 1D, 1D, 1D, 1D, 1D, 1D, 1D, 1D, 1D, 1D, 1J]   \n",
      "  2  ARCHIVE_INDEX    1 BinTableHDU     41   24057R x 7C   [1J, 1J, 1J, 1J, 1J, 64A, 64A]   \n",
      "  3  Footprint     1 BinTableHDU     17   8019R x 1C   [1J]   \n",
      "  4  SpanSet       1 BinTableHDU     28   254810R x 3C   [1J, 1J, 1J]   \n",
      "  5  Footprint     1 BinTableHDU     59   18704R x 7C   [7X, 1K, 1E, 1E, 1J, 1J, 1E]   \n"
     ]
    }
   ],
   "source": [
    "#Show a summary of extensions for this file.\n",
    "\n",
    "with fits.open(s3_uri, fsspec_kwargs={\"anon\": True}) as hdul:\n",
    "    hdul.info()\n"
   ]
  },
  {
   "cell_type": "code",
   "execution_count": 81,
   "id": "da8701f3-e7d8-4153-8a29-abd261fa85b6",
   "metadata": {},
   "outputs": [
    {
     "data": {
      "text/plain": [
       "SIMPLE  =                    T / file does conform to FITS standard             \n",
       "BITPIX  =                   16 / number of bits per data pixel                  \n",
       "NAXIS   =                    0 / number of data axes                            \n",
       "EXTEND  =                    T / FITS dataset may contain extensions            \n",
       "COMMENT   FITS (Flexible Image Transport System) format is defined in 'Astronomy\n",
       "COMMENT   and Astrophysics', volume 376, page 359; bibcode: 2001A&A...376..359H "
      ]
     },
     "execution_count": 81,
     "metadata": {},
     "output_type": "execute_result"
    }
   ],
   "source": [
    "hdul[0].header"
   ]
  },
  {
   "cell_type": "code",
   "execution_count": 80,
   "id": "5a608c45-6aa5-4972-93b8-90b1e5c8542d",
   "metadata": {},
   "outputs": [],
   "source": [
    "hdul[0].data"
   ]
  },
  {
   "cell_type": "code",
   "execution_count": 60,
   "id": "19080b68-1c8f-414a-a9a0-55104d3fe518",
   "metadata": {},
   "outputs": [],
   "source": [
    "#hdul[1].header"
   ]
  },
  {
   "cell_type": "code",
   "execution_count": 66,
   "id": "21f13e9a-aaf9-4b54-b8f7-28e08d35863b",
   "metadata": {},
   "outputs": [],
   "source": [
    "#hdul[2].header"
   ]
  },
  {
   "cell_type": "code",
   "execution_count": 70,
   "id": "3e4bb06c-155d-469d-a932-3c7716fd4ea2",
   "metadata": {},
   "outputs": [],
   "source": [
    "#hdul[3].header"
   ]
  },
  {
   "cell_type": "code",
   "execution_count": 73,
   "id": "fe7e8e05-cdd5-4844-8792-ec7e3877e13f",
   "metadata": {},
   "outputs": [],
   "source": [
    "#hdul[4].header"
   ]
  },
  {
   "cell_type": "code",
   "execution_count": 77,
   "id": "a3df268f-bc88-4285-9e05-eedf234fac3c",
   "metadata": {},
   "outputs": [],
   "source": [
    "#hdul[5].header"
   ]
  },
  {
   "cell_type": "code",
   "execution_count": null,
   "id": "ef64b59a-8d99-4515-89a2-c66984d20c13",
   "metadata": {},
   "outputs": [],
   "source": []
  }
 ],
 "metadata": {
  "kernelspec": {
   "display_name": "romanlsst_py311",
   "language": "python",
   "name": "romanlsst_py311"
  },
  "language_info": {
   "codemirror_mode": {
    "name": "ipython",
    "version": 3
   },
   "file_extension": ".py",
   "mimetype": "text/x-python",
   "name": "python",
   "nbconvert_exporter": "python",
   "pygments_lexer": "ipython3",
   "version": "3.11.11"
  }
 },
 "nbformat": 4,
 "nbformat_minor": 5
}
