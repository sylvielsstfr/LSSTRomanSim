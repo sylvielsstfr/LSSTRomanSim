{
 "cells": [
  {
   "cell_type": "code",
   "execution_count": 1,
   "id": "b4ba9260-3c28-4a06-8bea-c658f4b0d334",
   "metadata": {},
   "outputs": [],
   "source": [
    "import os"
   ]
  },
  {
   "cell_type": "code",
   "execution_count": 2,
   "id": "9b001bd2-42f7-469f-b550-1517aee4a80b",
   "metadata": {},
   "outputs": [],
   "source": [
    "import galsim"
   ]
  },
  {
   "cell_type": "code",
   "execution_count": 3,
   "id": "e63db0cb-63c7-485a-acf1-52291061de70",
   "metadata": {},
   "outputs": [],
   "source": [
    "# Location at NERSC of the LSST throughputs version that was used for\n",
    "# RomanDESC sims, run at ALCF, Jan 2024.\n",
    "throughputs_dir = \"/global/cfs/cdirs/descssim/imSim/lsst/data/throughputs_aug_2021\""
   ]
  },
  {
   "cell_type": "code",
   "execution_count": 5,
   "id": "2ed23397-f11c-4861-b6e0-6af9b1049ea8",
   "metadata": {},
   "outputs": [],
   "source": [
    "os.environ[\"THROUGHPUTS_DIR\"] = throughputs_dir"
   ]
  },
  {
   "cell_type": "code",
   "execution_count": 6,
   "id": "3898794e-0e89-4682-8755-d51ca4046939",
   "metadata": {},
   "outputs": [
    {
     "name": "stderr",
     "output_type": "stream",
     "text": [
      "/global/common/software/lsst/gitlab/desc-python-prod/2024-03-04-26-36/py/lib/python3.10/site-packages/galsim/table.py:475: FutureWarning: The 'delim_whitespace' keyword in pd.read_csv is deprecated and will be removed in a future version. Use ``sep='\\s+'`` instead\n",
      "  data = pandas.read_csv(file_name, comment='#', delim_whitespace=True, header=None)\n"
     ]
    },
    {
     "name": "stdout",
     "output_type": "stream",
     "text": [
      "u 13.154216481475633\n"
     ]
    },
    {
     "name": "stderr",
     "output_type": "stream",
     "text": [
      "/global/common/software/lsst/gitlab/desc-python-prod/2024-03-04-26-36/py/lib/python3.10/site-packages/galsim/table.py:475: FutureWarning: The 'delim_whitespace' keyword in pd.read_csv is deprecated and will be removed in a future version. Use ``sep='\\s+'`` instead\n",
      "  data = pandas.read_csv(file_name, comment='#', delim_whitespace=True, header=None)\n"
     ]
    },
    {
     "name": "stdout",
     "output_type": "stream",
     "text": [
      "g 14.562127424949786\n"
     ]
    },
    {
     "name": "stderr",
     "output_type": "stream",
     "text": [
      "/global/common/software/lsst/gitlab/desc-python-prod/2024-03-04-26-36/py/lib/python3.10/site-packages/galsim/table.py:475: FutureWarning: The 'delim_whitespace' keyword in pd.read_csv is deprecated and will be removed in a future version. Use ``sep='\\s+'`` instead\n",
      "  data = pandas.read_csv(file_name, comment='#', delim_whitespace=True, header=None)\n"
     ]
    },
    {
     "name": "stdout",
     "output_type": "stream",
     "text": [
      "r 14.354587987629897\n"
     ]
    },
    {
     "name": "stderr",
     "output_type": "stream",
     "text": [
      "/global/common/software/lsst/gitlab/desc-python-prod/2024-03-04-26-36/py/lib/python3.10/site-packages/galsim/table.py:475: FutureWarning: The 'delim_whitespace' keyword in pd.read_csv is deprecated and will be removed in a future version. Use ``sep='\\s+'`` instead\n",
      "  data = pandas.read_csv(file_name, comment='#', delim_whitespace=True, header=None)\n"
     ]
    },
    {
     "name": "stdout",
     "output_type": "stream",
     "text": [
      "i 14.064951243337182\n"
     ]
    },
    {
     "name": "stderr",
     "output_type": "stream",
     "text": [
      "/global/common/software/lsst/gitlab/desc-python-prod/2024-03-04-26-36/py/lib/python3.10/site-packages/galsim/table.py:475: FutureWarning: The 'delim_whitespace' keyword in pd.read_csv is deprecated and will be removed in a future version. Use ``sep='\\s+'`` instead\n",
      "  data = pandas.read_csv(file_name, comment='#', delim_whitespace=True, header=None)\n"
     ]
    },
    {
     "name": "stdout",
     "output_type": "stream",
     "text": [
      "z 13.672316495190309\n"
     ]
    },
    {
     "name": "stderr",
     "output_type": "stream",
     "text": [
      "/global/common/software/lsst/gitlab/desc-python-prod/2024-03-04-26-36/py/lib/python3.10/site-packages/galsim/table.py:475: FutureWarning: The 'delim_whitespace' keyword in pd.read_csv is deprecated and will be removed in a future version. Use ``sep='\\s+'`` instead\n",
      "  data = pandas.read_csv(file_name, comment='#', delim_whitespace=True, header=None)\n"
     ]
    },
    {
     "name": "stdout",
     "output_type": "stream",
     "text": [
      "y 12.881577415640477\n"
     ]
    }
   ],
   "source": [
    "bands = \"ugrizy\"\n",
    "for band in bands:\n",
    "    bp_file = os.path.join(os.environ['THROUGHPUTS_DIR'], 'baseline',\n",
    "                           f'total_{band}.dat')\n",
    "    lut = galsim.LookupTable.from_file(bp_file)\n",
    "    bp = galsim.Bandpass(lut, wave_type='nm')\n",
    "    bp = bp.truncate(relative_throughput=1e-3)\n",
    "    bp = bp.thin()\n",
    "    bp = bp.withZeropoint('AB')\n",
    "    print(band, bp.zeropoint)"
   ]
  },
  {
   "cell_type": "code",
   "execution_count": null,
   "id": "81be9bd7-7c2a-4a14-aaa1-8a46d72665b5",
   "metadata": {},
   "outputs": [],
   "source": []
  }
 ],
 "metadata": {
  "kernelspec": {
   "display_name": "desc-python",
   "language": "python",
   "name": "desc-python"
  },
  "language_info": {
   "codemirror_mode": {
    "name": "ipython",
    "version": 3
   },
   "file_extension": ".py",
   "mimetype": "text/x-python",
   "name": "python",
   "nbconvert_exporter": "python",
   "pygments_lexer": "ipython3",
   "version": "3.10.13"
  }
 },
 "nbformat": 4,
 "nbformat_minor": 5
}
