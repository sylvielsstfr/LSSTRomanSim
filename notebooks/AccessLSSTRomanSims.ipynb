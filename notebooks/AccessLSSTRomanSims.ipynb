{
 "cells": [
  {
   "cell_type": "markdown",
   "id": "f89ae2e2-ad6b-4598-bfd8-6ec389f8cba9",
   "metadata": {},
   "source": [
    "# Example of accessing simulated data at NERSC\n",
    "\n",
    "- author : Sylvie Dagoret-Campagne\n",
    "- afflilation : IJCLab/IN2P3/CNRS\n",
    "- creation date : 2025-03-10\n",
    "- last update : 2025-03-10\n",
    "- nersc python KERNEL : desc-python, or desc-python-bleed (better)"
   ]
  },
  {
   "cell_type": "code",
   "execution_count": 9,
   "id": "ae4b2d59-cffe-472c-b7cb-ffb6d6bdf7f7",
   "metadata": {},
   "outputs": [],
   "source": [
    "import os,glob,re"
   ]
  },
  {
   "cell_type": "code",
   "execution_count": 2,
   "id": "9b001bd2-42f7-469f-b550-1517aee4a80b",
   "metadata": {},
   "outputs": [],
   "source": [
    "import galsim"
   ]
  },
  {
   "cell_type": "code",
   "execution_count": 3,
   "id": "b2dfad48-a1d7-48f7-8c5d-f372b76ea5ae",
   "metadata": {},
   "outputs": [],
   "source": [
    "datadir = \"/global/cfs/cdirs/descssim/imSim/skyCatalogs_v1.1.2\""
   ]
  },
  {
   "cell_type": "code",
   "execution_count": 4,
   "id": "e63db0cb-63c7-485a-acf1-52291061de70",
   "metadata": {},
   "outputs": [],
   "source": [
    "# Location at NERSC of the LSST throughputs version that was used for\n",
    "# RomanDESC sims, run at ALCF, Jan 2024.\n",
    "throughputs_dir = \"/global/cfs/cdirs/descssim/imSim/lsst/data/throughputs_aug_2021\""
   ]
  },
  {
   "cell_type": "code",
   "execution_count": 5,
   "id": "2ed23397-f11c-4861-b6e0-6af9b1049ea8",
   "metadata": {},
   "outputs": [],
   "source": [
    "os.environ[\"THROUGHPUTS_DIR\"] = throughputs_dir"
   ]
  },
  {
   "cell_type": "markdown",
   "id": "8855a32c-a7fd-47d6-ab3d-2c68d9c91fd4",
   "metadata": {},
   "source": [
    "### Access to throughputs"
   ]
  },
  {
   "cell_type": "code",
   "execution_count": 6,
   "id": "3898794e-0e89-4682-8755-d51ca4046939",
   "metadata": {},
   "outputs": [
    {
     "name": "stdout",
     "output_type": "stream",
     "text": [
      "u 13.154216481475633\n",
      "g 14.562127424949786\n",
      "r 14.354587987629897\n",
      "i 14.064951243337182\n",
      "z 13.672316495190309\n",
      "y 12.881577415640477\n"
     ]
    }
   ],
   "source": [
    "bands = \"ugrizy\"\n",
    "for band in bands:\n",
    "    bp_file = os.path.join(os.environ['THROUGHPUTS_DIR'], 'baseline',\n",
    "                           f'total_{band}.dat')\n",
    "    lut = galsim.LookupTable.from_file(bp_file)\n",
    "    bp = galsim.Bandpass(lut, wave_type='nm')\n",
    "    bp = bp.truncate(relative_throughput=1e-3)\n",
    "    bp = bp.thin()\n",
    "    bp = bp.withZeropoint('AB')\n",
    "    print(band, bp.zeropoint)"
   ]
  },
  {
   "cell_type": "markdown",
   "id": "666624a4-523b-4a23-885e-ca5b9d86e305",
   "metadata": {},
   "source": [
    "### Access to data"
   ]
  },
  {
   "cell_type": "code",
   "execution_count": 7,
   "id": "009176a5-8d22-44e2-9eb0-f1146f201a7e",
   "metadata": {},
   "outputs": [],
   "source": [
    "list_files = glob.glob(os.path.join(datadir,\"*\"))"
   ]
  },
  {
   "cell_type": "code",
   "execution_count": 22,
   "id": "2c5d518a-f16b-477e-a6ea-eabbed31618b",
   "metadata": {},
   "outputs": [
    {
     "name": "stdout",
     "output_type": "stream",
     "text": [
      "/global/cfs/cdirs/descssim/imSim/skyCatalogs_v1.1.2/galaxy_10668.parquet\n",
      "/global/cfs/cdirs/descssim/imSim/skyCatalogs_v1.1.2/galaxy_10778.parquet\n",
      "/global/cfs/cdirs/descssim/imSim/skyCatalogs_v1.1.2/galaxy_flux_10305.parquet\n",
      "/global/cfs/cdirs/descssim/imSim/skyCatalogs_v1.1.2/galaxy_flux_9922.parquet\n",
      "/global/cfs/cdirs/descssim/imSim/skyCatalogs_v1.1.2/galaxy_flux_9925.parquet\n",
      "/global/cfs/cdirs/descssim/imSim/skyCatalogs_v1.1.2/galaxy_sed_9924.hdf5\n",
      "/global/cfs/cdirs/descssim/imSim/skyCatalogs_v1.1.2/galaxy_sed_10178.hdf5\n",
      "/global/cfs/cdirs/descssim/imSim/skyCatalogs_v1.1.2/galaxy_flux_10668.parquet\n",
      "/global/cfs/cdirs/descssim/imSim/skyCatalogs_v1.1.2/galaxy_10552.parquet\n",
      "/global/cfs/cdirs/descssim/imSim/skyCatalogs_v1.1.2/galaxy_sed_10306.hdf5\n",
      "/global/cfs/cdirs/descssim/imSim/skyCatalogs_v1.1.2/galaxy_flux_10549.parquet\n",
      "/global/cfs/cdirs/descssim/imSim/skyCatalogs_v1.1.2/galaxy_sed_10050.hdf5\n",
      "/global/cfs/cdirs/descssim/imSim/skyCatalogs_v1.1.2/galaxy_10180.parquet\n",
      "/global/cfs/cdirs/descssim/imSim/skyCatalogs_v1.1.2/galaxy_10432.parquet\n",
      "/global/cfs/cdirs/descssim/imSim/skyCatalogs_v1.1.2/diffsky_galaxy.txt\n",
      "/global/cfs/cdirs/descssim/imSim/skyCatalogs_v1.1.2/galaxy_sed_10779.hdf5\n",
      "/global/cfs/cdirs/descssim/imSim/skyCatalogs_v1.1.2/galaxy_sed_10179.hdf5\n",
      "/global/cfs/cdirs/descssim/imSim/skyCatalogs_v1.1.2/galaxy_sed_9921.hdf5\n",
      "/global/cfs/cdirs/descssim/imSim/skyCatalogs_v1.1.2/galaxy_flux_9924.parquet\n",
      "/global/cfs/cdirs/descssim/imSim/skyCatalogs_v1.1.2/galaxy_10667.parquet\n",
      "/global/cfs/cdirs/descssim/imSim/skyCatalogs_v1.1.2/galaxy_sed_10052.hdf5\n",
      "/global/cfs/cdirs/descssim/imSim/skyCatalogs_v1.1.2/galaxy_10430.parquet\n",
      "/global/cfs/cdirs/descssim/imSim/skyCatalogs_v1.1.2/galaxy_10666.parquet\n",
      "/global/cfs/cdirs/descssim/imSim/skyCatalogs_v1.1.2/galaxy_flux_10666.parquet\n",
      "/global/cfs/cdirs/descssim/imSim/skyCatalogs_v1.1.2/galaxy_flux_10777.parquet\n",
      "/global/cfs/cdirs/descssim/imSim/skyCatalogs_v1.1.2/galaxy_10777.parquet\n",
      "/global/cfs/cdirs/descssim/imSim/skyCatalogs_v1.1.2/galaxy_sed_10665.hdf5\n",
      "/global/cfs/cdirs/descssim/imSim/skyCatalogs_v1.1.2/galaxy_sed_10778.hdf5\n",
      "/global/cfs/cdirs/descssim/imSim/skyCatalogs_v1.1.2/galaxy_sed_10308.hdf5\n",
      "/global/cfs/cdirs/descssim/imSim/skyCatalogs_v1.1.2/galaxy_flux_10431.parquet\n",
      "/global/cfs/cdirs/descssim/imSim/skyCatalogs_v1.1.2/galaxy_9923.parquet\n",
      "/global/cfs/cdirs/descssim/imSim/skyCatalogs_v1.1.2/galaxy_9921.parquet\n",
      "/global/cfs/cdirs/descssim/imSim/skyCatalogs_v1.1.2/galaxy_sed_10181.hdf5\n",
      "/global/cfs/cdirs/descssim/imSim/skyCatalogs_v1.1.2/galaxy_flux_10429.parquet\n",
      "/global/cfs/cdirs/descssim/imSim/skyCatalogs_v1.1.2/galaxy_sed_9923.hdf5\n",
      "/global/cfs/cdirs/descssim/imSim/skyCatalogs_v1.1.2/galaxy_flux_10051.parquet\n",
      "/global/cfs/cdirs/descssim/imSim/skyCatalogs_v1.1.2/galaxy_flux_10665.parquet\n",
      "/global/cfs/cdirs/descssim/imSim/skyCatalogs_v1.1.2/galaxy_sed_10666.hdf5\n",
      "/global/cfs/cdirs/descssim/imSim/skyCatalogs_v1.1.2/galaxy_10179.parquet\n",
      "/global/cfs/cdirs/descssim/imSim/skyCatalogs_v1.1.2/galaxy_sed_10177.hdf5\n",
      "/global/cfs/cdirs/descssim/imSim/skyCatalogs_v1.1.2/galaxy_10051.parquet\n",
      "/global/cfs/cdirs/descssim/imSim/skyCatalogs_v1.1.2/galaxy_sed_10431.hdf5\n",
      "/global/cfs/cdirs/descssim/imSim/skyCatalogs_v1.1.2/galaxy_flux_10179.parquet\n",
      "/global/cfs/cdirs/descssim/imSim/skyCatalogs_v1.1.2/galaxy_9924.parquet\n",
      "/global/cfs/cdirs/descssim/imSim/skyCatalogs_v1.1.2/galaxy_flux_10052.parquet\n",
      "/global/cfs/cdirs/descssim/imSim/skyCatalogs_v1.1.2/galaxy_10779.parquet\n",
      "/global/cfs/cdirs/descssim/imSim/skyCatalogs_v1.1.2/galaxy_flux_10551.parquet\n",
      "/global/cfs/cdirs/descssim/imSim/skyCatalogs_v1.1.2/galaxy_10050.parquet\n",
      "/global/cfs/cdirs/descssim/imSim/skyCatalogs_v1.1.2/galaxy_10181.parquet\n",
      "/global/cfs/cdirs/descssim/imSim/skyCatalogs_v1.1.2/galaxy_sed_10551.hdf5\n",
      "/global/cfs/cdirs/descssim/imSim/skyCatalogs_v1.1.2/galaxy_10429.parquet\n",
      "/global/cfs/cdirs/descssim/imSim/skyCatalogs_v1.1.2/galaxy_10052.parquet\n",
      "/global/cfs/cdirs/descssim/imSim/skyCatalogs_v1.1.2/galaxy_sed_10552.hdf5\n",
      "/global/cfs/cdirs/descssim/imSim/skyCatalogs_v1.1.2/galaxy_10308.parquet\n",
      "/global/cfs/cdirs/descssim/imSim/skyCatalogs_v1.1.2/galaxy_10307.parquet\n",
      "/global/cfs/cdirs/descssim/imSim/skyCatalogs_v1.1.2/galaxy_10178.parquet\n",
      "/global/cfs/cdirs/descssim/imSim/skyCatalogs_v1.1.2/galaxy_sed_10668.hdf5\n",
      "/global/cfs/cdirs/descssim/imSim/skyCatalogs_v1.1.2/galaxy_flux_10306.parquet\n",
      "/global/cfs/cdirs/descssim/imSim/skyCatalogs_v1.1.2/galaxy_10306.parquet\n",
      "/global/cfs/cdirs/descssim/imSim/skyCatalogs_v1.1.2/galaxy_10431.parquet\n",
      "/global/cfs/cdirs/descssim/imSim/skyCatalogs_v1.1.2/galaxy_sed_10307.hdf5\n",
      "/global/cfs/cdirs/descssim/imSim/skyCatalogs_v1.1.2/galaxy_flux_10779.parquet\n",
      "/global/cfs/cdirs/descssim/imSim/skyCatalogs_v1.1.2/galaxy_flux_10667.parquet\n",
      "/global/cfs/cdirs/descssim/imSim/skyCatalogs_v1.1.2/galaxy_sed_10305.hdf5\n",
      "/global/cfs/cdirs/descssim/imSim/skyCatalogs_v1.1.2/galaxy_sed_9922.hdf5\n",
      "/global/cfs/cdirs/descssim/imSim/skyCatalogs_v1.1.2/galaxy_flux_9923.parquet\n",
      "/global/cfs/cdirs/descssim/imSim/skyCatalogs_v1.1.2/galaxy_10177.parquet\n",
      "/global/cfs/cdirs/descssim/imSim/skyCatalogs_v1.1.2/galaxy_sed_10180.hdf5\n",
      "/global/cfs/cdirs/descssim/imSim/skyCatalogs_v1.1.2/galaxy_flux_10308.parquet\n",
      "/global/cfs/cdirs/descssim/imSim/skyCatalogs_v1.1.2/galaxy_flux_10178.parquet\n",
      "/global/cfs/cdirs/descssim/imSim/skyCatalogs_v1.1.2/galaxy_flux_10053.parquet\n",
      "/global/cfs/cdirs/descssim/imSim/skyCatalogs_v1.1.2/galaxy_10551.parquet\n",
      "/global/cfs/cdirs/descssim/imSim/skyCatalogs_v1.1.2/galaxy_sed_10550.hdf5\n",
      "/global/cfs/cdirs/descssim/imSim/skyCatalogs_v1.1.2/galaxy_sed_10777.hdf5\n",
      "/global/cfs/cdirs/descssim/imSim/skyCatalogs_v1.1.2/galaxy_10665.parquet\n",
      "/global/cfs/cdirs/descssim/imSim/skyCatalogs_v1.1.2/galaxy_sed_10053.hdf5\n",
      "/global/cfs/cdirs/descssim/imSim/skyCatalogs_v1.1.2/galaxy_10549.parquet\n",
      "/global/cfs/cdirs/descssim/imSim/skyCatalogs_v1.1.2/galaxy_10550.parquet\n",
      "/global/cfs/cdirs/descssim/imSim/skyCatalogs_v1.1.2/galaxy_sed_10429.hdf5\n",
      "/global/cfs/cdirs/descssim/imSim/skyCatalogs_v1.1.2/galaxy_flux_10177.parquet\n",
      "/global/cfs/cdirs/descssim/imSim/skyCatalogs_v1.1.2/galaxy_flux_10552.parquet\n",
      "/global/cfs/cdirs/descssim/imSim/skyCatalogs_v1.1.2/galaxy_flux_9921.parquet\n",
      "/global/cfs/cdirs/descssim/imSim/skyCatalogs_v1.1.2/galaxy_flux_10307.parquet\n",
      "/global/cfs/cdirs/descssim/imSim/skyCatalogs_v1.1.2/galaxy_flux_10050.parquet\n",
      "/global/cfs/cdirs/descssim/imSim/skyCatalogs_v1.1.2/galaxy_9922.parquet\n",
      "/global/cfs/cdirs/descssim/imSim/skyCatalogs_v1.1.2/galaxy_sed_10430.hdf5\n",
      "/global/cfs/cdirs/descssim/imSim/skyCatalogs_v1.1.2/galaxy_flux_10432.parquet\n",
      "/global/cfs/cdirs/descssim/imSim/skyCatalogs_v1.1.2/galaxy_flux_10778.parquet\n",
      "/global/cfs/cdirs/descssim/imSim/skyCatalogs_v1.1.2/galaxy_sed_10667.hdf5\n",
      "/global/cfs/cdirs/descssim/imSim/skyCatalogs_v1.1.2/galaxy_sed_10051.hdf5\n",
      "/global/cfs/cdirs/descssim/imSim/skyCatalogs_v1.1.2/galaxy_10305.parquet\n",
      "/global/cfs/cdirs/descssim/imSim/skyCatalogs_v1.1.2/galaxy_flux_10181.parquet\n",
      "/global/cfs/cdirs/descssim/imSim/skyCatalogs_v1.1.2/galaxy_9925.parquet\n",
      "/global/cfs/cdirs/descssim/imSim/skyCatalogs_v1.1.2/galaxy_flux_10550.parquet\n",
      "/global/cfs/cdirs/descssim/imSim/skyCatalogs_v1.1.2/galaxy_sed_10549.hdf5\n",
      "/global/cfs/cdirs/descssim/imSim/skyCatalogs_v1.1.2/galaxy_flux_10180.parquet\n",
      "/global/cfs/cdirs/descssim/imSim/skyCatalogs_v1.1.2/galaxy_flux_10430.parquet\n",
      "/global/cfs/cdirs/descssim/imSim/skyCatalogs_v1.1.2/galaxy_sed_9925.hdf5\n",
      "/global/cfs/cdirs/descssim/imSim/skyCatalogs_v1.1.2/galaxy_10053.parquet\n",
      "/global/cfs/cdirs/descssim/imSim/skyCatalogs_v1.1.2/galaxy_sed_10432.hdf5\n"
     ]
    }
   ],
   "source": [
    "selected_files = []\n",
    "selected_numbers = []\n",
    "for file in list_files:\n",
    "    if \"galaxy\" in file:\n",
    "         print(file)\n",
    "         bn = os.path.basename(file)\n",
    "         if \"galaxy_flux\" in bn:\n",
    "             selected_files.append(bn)\n",
    "             num_str = re.findall(\"^galaxy_flux_(.*)[.]parquet$\",bn)[0]\n",
    "             num = int(num_str)\n",
    "             selected_numbers.append(num) \n",
    "             "
   ]
  },
  {
   "cell_type": "code",
   "execution_count": 21,
   "id": "879c8967-5371-487e-bbb3-d80aac4425c8",
   "metadata": {},
   "outputs": [
    {
     "data": {
      "text/plain": [
       "['10305']"
      ]
     },
     "execution_count": 21,
     "metadata": {},
     "output_type": "execute_result"
    }
   ],
   "source": [
    "re.findall(\"^galaxy_flux_(.*)[.]parquet$\",selected_files[0])"
   ]
  },
  {
   "cell_type": "code",
   "execution_count": 24,
   "id": "c94f9144-41de-480d-88ac-79fa44e463c1",
   "metadata": {},
   "outputs": [
    {
     "name": "stdout",
     "output_type": "stream",
     "text": [
      "[9921, 9922, 9923, 9924, 9925, 10050, 10051, 10052, 10053, 10177, 10178, 10179, 10180, 10181, 10305, 10306, 10307, 10308, 10429, 10430, 10431, 10432, 10549, 10550, 10551, 10552, 10665, 10666, 10667, 10668, 10777, 10778, 10779]\n"
     ]
    }
   ],
   "source": [
    "selected_numbers = sorted(selected_numbers)\n",
    "print(selected_numbers)"
   ]
  },
  {
   "cell_type": "code",
   "execution_count": null,
   "id": "c8555e37-0e53-44ac-a6a5-6de4143d80a4",
   "metadata": {},
   "outputs": [],
   "source": []
  }
 ],
 "metadata": {
  "kernelspec": {
   "display_name": "desc-python-bleed",
   "language": "python",
   "name": "desc-python-bleed"
  },
  "language_info": {
   "codemirror_mode": {
    "name": "ipython",
    "version": 3
   },
   "file_extension": ".py",
   "mimetype": "text/x-python",
   "name": "python",
   "nbconvert_exporter": "python",
   "pygments_lexer": "ipython3",
   "version": "3.12.8"
  }
 },
 "nbformat": 4,
 "nbformat_minor": 5
}
