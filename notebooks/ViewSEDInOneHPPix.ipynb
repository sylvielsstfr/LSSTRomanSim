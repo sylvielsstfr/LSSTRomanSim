{
 "cells": [
  {
   "cell_type": "markdown",
   "id": "d9f21d06-0770-4404-839e-eabc62f7f421",
   "metadata": {},
   "source": [
    "## View SED Galaxies in one HP\n",
    "- author : Sylvie Dagoret-Campagne\n",
    "- afflilation : IJCLab/IN2P3/CNRS\n",
    "- creation date : 2025-03-10\n",
    "- last update : 2025-03-10\n",
    "- nersc python KERNEL : desc-python, or desc-python-bleed"
   ]
  },
  {
   "cell_type": "code",
   "execution_count": null,
   "id": "a4be57c0-d4c9-47c2-86fa-dfc8a3ead46c",
   "metadata": {},
   "outputs": [],
   "source": [
    "import galsim\n",
    "import os\n",
    "import pandas as pd\n",
    "import h5py\n",
    "\n",
    "import numpy as np\n",
    "import matplotlib as mpl\n",
    "import matplotlib.pyplot as plt\n",
    "%matplotlib inline\n",
    "\n",
    "props = dict(boxstyle='round', facecolor=\"white\", alpha=0.1)\n",
    "\n",
    "\n",
    "import matplotlib.colors as colors\n",
    "import matplotlib.cm as cmx"
   ]
  },
  {
   "cell_type": "code",
   "execution_count": null,
   "id": "c4e445f1-9dfc-4dc5-8a6e-297553acd40d",
   "metadata": {},
   "outputs": [],
   "source": [
    "plt.rcParams[\"figure.figsize\"] = (4,3)\n",
    "plt.rcParams[\"axes.labelsize\"] = 'xx-large'\n",
    "plt.rcParams['axes.titlesize'] = 'xx-large'\n",
    "plt.rcParams['xtick.labelsize']= 'xx-large'\n",
    "plt.rcParams['ytick.labelsize']= 'xx-large'"
   ]
  },
  {
   "cell_type": "code",
   "execution_count": null,
   "id": "aa953042-c4b1-46f6-abff-85d095dc0a45",
   "metadata": {},
   "outputs": [],
   "source": [
    "datadir = \"/global/cfs/cdirs/descssim/imSim/skyCatalogs_v1.1.2\"\n",
    "throughputs_dir = \"/global/cfs/cdirs/descssim/imSim/lsst/data/throughputs_aug_2021\""
   ]
  },
  {
   "cell_type": "code",
   "execution_count": null,
   "id": "31a5c795-a787-4aff-802c-d5ba25a0a4c4",
   "metadata": {},
   "outputs": [],
   "source": [
    "os.environ[\"THROUGHPUTS_DIR\"] = throughputs_dir"
   ]
  },
  {
   "cell_type": "markdown",
   "id": "05ae0519-76c2-4e7c-ac77-5d84e3b9e617",
   "metadata": {},
   "source": [
    "### Select one HP "
   ]
  },
  {
   "cell_type": "code",
   "execution_count": null,
   "id": "8237251c-f287-4e10-a7fe-c7dca0defc17",
   "metadata": {},
   "outputs": [],
   "source": [
    "hpnum = 10552\n",
    "data_name = f\"skyCatalogs_v1.1.2 hp={hpnum}\""
   ]
  },
  {
   "cell_type": "code",
   "execution_count": null,
   "id": "fc35d3f6-e1cd-42ab-9502-a5ec444ab75d",
   "metadata": {},
   "outputs": [],
   "source": [
    "fn_sed = f\"galaxy_sed_{hpnum}.hdf5\"\n",
    "fn_galaxy = f\"galaxy_{hpnum}.parquet\"\n",
    "fn_flux = f\"galaxy_flux_{hpnum}.parquet\""
   ]
  },
  {
   "cell_type": "code",
   "execution_count": null,
   "id": "0800671b-4071-4da1-9491-84c7547f990e",
   "metadata": {},
   "outputs": [],
   "source": [
    "ffn_sed = os.path.join(datadir,fn_sed)\n",
    "if not os.path.exists(ffn_sed):\n",
    "    raise Exception(f\"File {ffn_sed} DOES NOT exists\")\n",
    "else:\n",
    "    with h5py.File(ffn_sed, \"r\") as f:\n",
    "        print(\"all keys = \",f.keys())\n",
    "        meta = f[\"meta\"]\n",
    "        print(meta)\n",
    "        a_group_key0 = list(f.keys())[0]\n",
    "        a_group_key1 = list(f.keys())[1]\n",
    "        print(\"a_group_key0 =  = \",a_group_key0)\n",
    "        print(\"a_group_key1 =  = \",a_group_key1)\n",
    "        data0 = list(f[a_group_key0])\n",
    "        data1 = list(f[a_group_key1])\n",
    "        print(\"data0 = \",data0[0])\n",
    "        print(\"data1 = \",data1[0])"
   ]
  },
  {
   "cell_type": "code",
   "execution_count": null,
   "id": "a32f64c0-f15c-44f9-9c5e-5a85cc81cbe5",
   "metadata": {},
   "outputs": [],
   "source": [
    "ffn_galaxy = os.path.join(datadir,fn_galaxy)\n",
    "if not os.path.exists(ffn_sed):\n",
    "    raise Exception(f\"File {ffn_galaxy} DOES NOT exists\")\n",
    "else:\n",
    "    df_g = pd.read_parquet(ffn_galaxy)"
   ]
  },
  {
   "cell_type": "code",
   "execution_count": null,
   "id": "44338b8d-e1ed-4862-86ee-c691565e3110",
   "metadata": {},
   "outputs": [],
   "source": [
    "df_g .head()"
   ]
  },
  {
   "cell_type": "code",
   "execution_count": null,
   "id": "c80e7f64-13f4-4122-a129-a39c7a6e2768",
   "metadata": {},
   "outputs": [],
   "source": [
    "len(df_g)"
   ]
  },
  {
   "cell_type": "code",
   "execution_count": null,
   "id": "4b50ed61-65a9-47bd-9a44-9ad33ccfec8b",
   "metadata": {},
   "outputs": [],
   "source": [
    "fig, ax = plt.subplots(1,1)\n",
    "df_g[\"redshift\"].hist(bins=100,ax=ax)\n",
    "ax.set_xlabel(\"redshift\")\n",
    "ax.set_title(data_name)"
   ]
  },
  {
   "cell_type": "code",
   "execution_count": null,
   "id": "958e6729-f42a-4c82-ae80-1948943360e5",
   "metadata": {},
   "outputs": [],
   "source": [
    "ffn_flux = os.path.join(datadir,fn_flux)\n",
    "if not os.path.exists(ffn_flux):\n",
    "    raise Exception(f\"File {ffn_fluxy} DOES NOT exists\")\n",
    "else:\n",
    "    df_f = pd.read_parquet(ffn_flux)"
   ]
  },
  {
   "cell_type": "code",
   "execution_count": null,
   "id": "14f13085-d519-4c8b-b421-8f55608abc1c",
   "metadata": {},
   "outputs": [],
   "source": [
    "df_f .head()"
   ]
  },
  {
   "cell_type": "code",
   "execution_count": null,
   "id": "5f049921-b5db-456a-b2a8-b215f376ed3c",
   "metadata": {},
   "outputs": [],
   "source": [
    "len(df_f)"
   ]
  },
  {
   "cell_type": "code",
   "execution_count": null,
   "id": "d980b2fd-507c-4c7e-89a1-e1703d05074c",
   "metadata": {},
   "outputs": [],
   "source": [
    "#with h5py.File(ffn_sed, 'r') as file:\n",
    "    # Function to recursively print the HDF5 dataset hierarchy\n",
    "#    def print_hdf5_item(name, obj):\n",
    "        # name is in path format like /group1/group2/dataset\n",
    "#        if isinstance(obj, h5py.Group):\n",
    "            # Do something like creating a dictionary entry\n",
    "#            print(f'Group: {name}')\n",
    "        #elif isinstance(obj, h5py.Dataset):\n",
    "        #    # Do something with obj like converting to a pandas.Series \n",
    "            # and storing to a dictionary entry\n",
    "        #    print(f'Dataset: {name}')\n",
    "        #    break;\n",
    "\n",
    "    # Visit all items in the HDF5 file and print their names\n",
    "#    file.visititems(print_hdf5_item)\n"
   ]
  },
  {
   "cell_type": "code",
   "execution_count": null,
   "id": "2ea5453e-03a2-4468-bdc4-03c972c802d3",
   "metadata": {},
   "outputs": [],
   "source": [
    "ffn_sed = os.path.join(datadir,fn_sed)\n",
    "if not os.path.exists(ffn_sed):\n",
    "    raise Exception(f\"File {ffn_sed} DOES NOT exists\")\n",
    "\n",
    "f = h5py.File(ffn_sed, \"r\")\n",
    "\n",
    "group_wl = f[\"meta\"]\n",
    "wl = group_wl[\"wave_list\"][()]\n",
    "\n",
    "group_gal = f[\"galaxy\"]"
   ]
  },
  {
   "cell_type": "code",
   "execution_count": null,
   "id": "14b33210-e7d3-45ae-b677-e0553d6b918e",
   "metadata": {},
   "outputs": [],
   "source": [
    "print(\"subgroups - galaxies : \",group_gal.keys())"
   ]
  },
  {
   "cell_type": "code",
   "execution_count": null,
   "id": "b1fa672e-c25d-4b5a-a46c-8e65c897657f",
   "metadata": {},
   "outputs": [],
   "source": [
    "list_of_subgroups_gal = list(group_gal.keys())\n",
    "for idx_sg, subgroup_name in enumerate(list_of_subgroups_gal):\n",
    "    print(f\"{idx_sg}::{subgroup_name}\")\n",
    "    subgroup = group_gal[subgroup_name]\n",
    "    list_of_ids_gal = list(subgroup.keys())\n",
    "    for idx_gal,gal_num in enumerate(list_of_ids_gal):\n",
    "        print(f\"\\t {idx_gal}::{gal_num}\")\n",
    "        the_dataset = subgroup[gal_num][()]\n",
    "        break\n",
    "    break"
   ]
  },
  {
   "cell_type": "code",
   "execution_count": null,
   "id": "e000ad03-7135-42ba-b680-511a6f083065",
   "metadata": {},
   "outputs": [],
   "source": [
    "the_colors = [\"r\",\"b\",\"g\"]\n",
    "the_labels = [\"disk\", \"bulge\", \"knot\" ] \n",
    "Units = \"fnu\"\n",
    "\n",
    "fig,ax = plt.subplots(1,1,figsize=(12,6))\n",
    "for idx in range(3):\n",
    "    ax.plot(wl/10,the_dataset[idx,:],color=the_colors[idx],label=the_labels[idx],lw=3)\n",
    "ax.legend() \n",
    "ax.set_xlabel(\"$\\lambda$ (nm)\")\n",
    "ax.set_ylabel(Units)\n",
    "ax.set_yscale(\"log\")\n",
    "ax.set_xscale(\"log\")\n",
    "plt.show()"
   ]
  },
  {
   "cell_type": "code",
   "execution_count": null,
   "id": "d1aa6e00-3227-4019-9ea6-78de6287dc23",
   "metadata": {},
   "outputs": [],
   "source": [
    "group_number = 105520000\n",
    "gal_number = 10552000000000"
   ]
  },
  {
   "cell_type": "code",
   "execution_count": null,
   "id": "d8ccb7cb-c512-4f6f-a107-45a30140ccce",
   "metadata": {},
   "outputs": [],
   "source": [
    "gal_number//group_number"
   ]
  },
  {
   "cell_type": "code",
   "execution_count": null,
   "id": "e0665782-a75c-4f92-a809-91e182412429",
   "metadata": {},
   "outputs": [],
   "source": [
    "def retrievedatafromspectrum(ffn_sed,number_gal):\n",
    "    \"\"\"\n",
    "    Parameters\n",
    "    - ffn_sed : fullfinename\n",
    "    \"\"\"\n",
    "    \n",
    "    group_number = number_gal // 100_000\n",
    "\n",
    "    if not os.path.exists(ffn_sed):\n",
    "        raise Exception(f\"File {ffn_sed} DOES NOT exists\")\n",
    "\n",
    "    try:\n",
    "        f = h5py.File(ffn_sed, \"r\")\n",
    "    except:\n",
    "        raise Exception(f\"File {ffn_sed} failed to be open as h5 file by h5py\")\n",
    "\n",
    "    # top level groups\n",
    "\n",
    "    ## group providing wavelength\n",
    "    try:\n",
    "        group_wl = f[\"meta\"]\n",
    "        wl = group_wl[\"wave_list\"][()]\n",
    "    except:\n",
    "        raise Exception(f\"File {ffn_sed} :: h5py cannot retrieve meta/wave_list dataset\")\n",
    "\n",
    "    ## group containing all galaxies data\n",
    "    try:\n",
    "        group_gal = f[\"galaxy\"]\n",
    "    except:\n",
    "        raise Exception(f\"File {ffn_sed} :: h5py cannot retrieve galaxy group\")\n",
    "\n",
    "    ## subgroup indexed by group_number\n",
    "    try:\n",
    "        subgroup_name = f\"{group_number}\"\n",
    "        subgroup = group_gal[subgroup_name]\n",
    "    except:\n",
    "        raise Exception(f\"File {ffn_sed} :: h5py cannot retrieve galaxy/{subgroup_name} subgroup\")\n",
    "\n",
    "    ## subgroup of the galaxy\n",
    "    subgroup_gal_name = f\"{number_gal}\"\n",
    "    try:\n",
    "        subsubgroup = subgroup[subgroup_gal_name]\n",
    "        ## retrieve the fnu fluxes (3 arrays for disk, bulge and knot)\n",
    "        dataset = subsubgroup[()]\n",
    "    except:\n",
    "        raise Exception(f\"File {ffn_sed} :: h5py cannot retrieve galaxy/{subgroup_name}/{subgroup_gal_name} dataset\")\n",
    "    \n",
    "    return wl,dataset"
   ]
  },
  {
   "cell_type": "code",
   "execution_count": null,
   "id": "64502fd0-2b71-4668-884f-0376111de393",
   "metadata": {},
   "outputs": [],
   "source": [
    "wl, fnusarr = retrievedatafromspectrum(ffn_sed ,gal_number)"
   ]
  },
  {
   "cell_type": "code",
   "execution_count": null,
   "id": "0582bf49-c030-46b4-b993-1316c6cce99f",
   "metadata": {},
   "outputs": [],
   "source": [
    "title = f\"{ffn_sed} : \\n {gal_number}\""
   ]
  },
  {
   "cell_type": "code",
   "execution_count": null,
   "id": "7124e98e-c2c0-46ec-93d1-c72aaf83cd13",
   "metadata": {},
   "outputs": [],
   "source": [
    "the_colors = [\"r\",\"b\",\"g\"]\n",
    "the_labels = [\"disk\", \"bulge\", \"knot\" ] \n",
    "Units = \"fnu\"\n",
    "\n",
    "fig,ax = plt.subplots(1,1,figsize=(12,6))\n",
    "for idx in range(3):\n",
    "    ax.plot(wl/10,fnusarr [idx,:],color=the_colors[idx],label=the_labels[idx],lw=3)\n",
    "ax.legend() \n",
    "ax.set_xlabel(\"$\\lambda$ (nm)\")\n",
    "ax.set_ylabel(Units)\n",
    "ax.set_yscale(\"log\")\n",
    "ax.set_xscale(\"log\")\n",
    "ax.set_title(title)\n",
    "plt.show()"
   ]
  },
  {
   "cell_type": "code",
   "execution_count": null,
   "id": "311781a3-fe1f-4fc1-8fd0-e6fd490f9f01",
   "metadata": {},
   "outputs": [],
   "source": []
  }
 ],
 "metadata": {
  "kernelspec": {
   "display_name": "desc-python-bleed",
   "language": "python",
   "name": "desc-python-bleed"
  },
  "language_info": {
   "codemirror_mode": {
    "name": "ipython",
    "version": 3
   },
   "file_extension": ".py",
   "mimetype": "text/x-python",
   "name": "python",
   "nbconvert_exporter": "python",
   "pygments_lexer": "ipython3",
   "version": "3.12.8"
  }
 },
 "nbformat": 4,
 "nbformat_minor": 5
}
