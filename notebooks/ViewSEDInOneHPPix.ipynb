{
 "cells": [
  {
   "cell_type": "markdown",
   "id": "d9f21d06-0770-4404-839e-eabc62f7f421",
   "metadata": {},
   "source": [
    "## View Galaxies in one HP\n",
    "- author : Sylvie Dagoret-Campagne\n",
    "- afflilation : IJCLab/IN2P3/CNRS\n",
    "- creation date : 2025-03-10\n",
    "- last update : 2025-03-10\n",
    "- nersc python KERNEL : desc-python, or desc-python-bleed"
   ]
  },
  {
   "cell_type": "code",
   "execution_count": 1,
   "id": "a4be57c0-d4c9-47c2-86fa-dfc8a3ead46c",
   "metadata": {},
   "outputs": [],
   "source": [
    "import galsim\n",
    "import os\n",
    "import pandas as pd\n",
    "import h5py\n",
    "\n",
    "import numpy as np\n",
    "import matplotlib as mpl\n",
    "import matplotlib.pyplot as plt\n",
    "%matplotlib inline\n",
    "\n",
    "props = dict(boxstyle='round', facecolor=\"white\", alpha=0.1)\n",
    "\n",
    "\n",
    "import matplotlib.colors as colors\n",
    "import matplotlib.cm as cmx"
   ]
  },
  {
   "cell_type": "code",
   "execution_count": 2,
   "id": "aa953042-c4b1-46f6-abff-85d095dc0a45",
   "metadata": {},
   "outputs": [],
   "source": [
    "datadir = \"/global/cfs/cdirs/descssim/imSim/skyCatalogs_v1.1.2\"\n",
    "throughputs_dir = \"/global/cfs/cdirs/descssim/imSim/lsst/data/throughputs_aug_2021\""
   ]
  },
  {
   "cell_type": "code",
   "execution_count": 3,
   "id": "31a5c795-a787-4aff-802c-d5ba25a0a4c4",
   "metadata": {},
   "outputs": [],
   "source": [
    "os.environ[\"THROUGHPUTS_DIR\"] = throughputs_dir"
   ]
  },
  {
   "cell_type": "markdown",
   "id": "05ae0519-76c2-4e7c-ac77-5d84e3b9e617",
   "metadata": {},
   "source": [
    "### Select one HP "
   ]
  },
  {
   "cell_type": "code",
   "execution_count": 4,
   "id": "8237251c-f287-4e10-a7fe-c7dca0defc17",
   "metadata": {},
   "outputs": [],
   "source": [
    "hpnum = 10552\n",
    "data_name = f\"skyCatalogs_v1.1.2 hp={hpnum}\""
   ]
  },
  {
   "cell_type": "code",
   "execution_count": 5,
   "id": "fc35d3f6-e1cd-42ab-9502-a5ec444ab75d",
   "metadata": {},
   "outputs": [],
   "source": [
    "fn_sed = f\"galaxy_sed_{hpnum}.hdf5\"\n",
    "fn_galaxy = f\"galaxy_{hpnum}.parquet\"\n",
    "fn_flux = f\"galaxy_flux_{hpnum}.parquet\""
   ]
  },
  {
   "cell_type": "code",
   "execution_count": 6,
   "id": "0800671b-4071-4da1-9491-84c7547f990e",
   "metadata": {},
   "outputs": [
    {
     "name": "stdout",
     "output_type": "stream",
     "text": [
      "galaxy\n",
      "105520000\n"
     ]
    }
   ],
   "source": [
    "ffn_sed = os.path.join(datadir,fn_sed)\n",
    "if not os.path.exists(ffn_sed):\n",
    "    raise Exception(f\"File {ffn_sed} DOES NOT exists\")\n",
    "else:\n",
    "    with h5py.File(ffn_sed, \"r\") as f:\n",
    "        a_group_key = list(f.keys())[0]\n",
    "        print(a_group_key)\n",
    "        data = list(f[a_group_key])\n",
    "        print(data[0])"
   ]
  },
  {
   "cell_type": "code",
   "execution_count": 7,
   "id": "a32f64c0-f15c-44f9-9c5e-5a85cc81cbe5",
   "metadata": {},
   "outputs": [],
   "source": [
    "ffn_galaxy = os.path.join(datadir,fn_galaxy)\n",
    "if not os.path.exists(ffn_sed):\n",
    "    raise Exception(f\"File {ffn_galaxy} DOES NOT exists\")\n",
    "else:\n",
    "    df_g = pd.read_parquet(ffn_galaxy)"
   ]
  },
  {
   "cell_type": "code",
   "execution_count": 8,
   "id": "44338b8d-e1ed-4862-86ee-c691565e3110",
   "metadata": {},
   "outputs": [
    {
     "data": {
      "text/html": [
       "<div>\n",
       "<style scoped>\n",
       "    .dataframe tbody tr th:only-of-type {\n",
       "        vertical-align: middle;\n",
       "    }\n",
       "\n",
       "    .dataframe tbody tr th {\n",
       "        vertical-align: top;\n",
       "    }\n",
       "\n",
       "    .dataframe thead th {\n",
       "        text-align: right;\n",
       "    }\n",
       "</style>\n",
       "<table border=\"1\" class=\"dataframe\">\n",
       "  <thead>\n",
       "    <tr style=\"text-align: right;\">\n",
       "      <th></th>\n",
       "      <th>galaxy_id</th>\n",
       "      <th>ra</th>\n",
       "      <th>dec</th>\n",
       "      <th>redshift</th>\n",
       "      <th>redshiftHubble</th>\n",
       "      <th>peculiarVelocity</th>\n",
       "      <th>shear1</th>\n",
       "      <th>shear2</th>\n",
       "      <th>convergence</th>\n",
       "      <th>spheroidHalfLightRadiusArcsec</th>\n",
       "      <th>diskHalfLightRadiusArcsec</th>\n",
       "      <th>diskEllipticity1</th>\n",
       "      <th>diskEllipticity2</th>\n",
       "      <th>spheroidEllipticity1</th>\n",
       "      <th>spheroidEllipticity2</th>\n",
       "      <th>um_source_galaxy_obs_sm</th>\n",
       "      <th>MW_rv</th>\n",
       "      <th>MW_av</th>\n",
       "    </tr>\n",
       "  </thead>\n",
       "  <tbody>\n",
       "    <tr>\n",
       "      <th>0</th>\n",
       "      <td>10552000641759</td>\n",
       "      <td>14.027356</td>\n",
       "      <td>-45.894913</td>\n",
       "      <td>0.988409</td>\n",
       "      <td>0.987509</td>\n",
       "      <td>135.722885</td>\n",
       "      <td>-0.000339</td>\n",
       "      <td>0.004834</td>\n",
       "      <td>-0.011072</td>\n",
       "      <td>0.085181</td>\n",
       "      <td>0.172449</td>\n",
       "      <td>0.559845</td>\n",
       "      <td>-0.316807</td>\n",
       "      <td>0.143754</td>\n",
       "      <td>-0.081348</td>\n",
       "      <td>2.713609e+08</td>\n",
       "      <td>3.1</td>\n",
       "      <td>0.028705</td>\n",
       "    </tr>\n",
       "    <tr>\n",
       "      <th>1</th>\n",
       "      <td>10552000641760</td>\n",
       "      <td>14.046155</td>\n",
       "      <td>-46.120298</td>\n",
       "      <td>0.984433</td>\n",
       "      <td>0.986193</td>\n",
       "      <td>-265.799133</td>\n",
       "      <td>-0.010552</td>\n",
       "      <td>-0.008909</td>\n",
       "      <td>-0.010174</td>\n",
       "      <td>0.095955</td>\n",
       "      <td>0.188054</td>\n",
       "      <td>-0.482565</td>\n",
       "      <td>-0.434454</td>\n",
       "      <td>-0.415784</td>\n",
       "      <td>-0.374330</td>\n",
       "      <td>2.489032e+09</td>\n",
       "      <td>3.1</td>\n",
       "      <td>0.031167</td>\n",
       "    </tr>\n",
       "    <tr>\n",
       "      <th>2</th>\n",
       "      <td>10552000641762</td>\n",
       "      <td>14.118341</td>\n",
       "      <td>-45.953655</td>\n",
       "      <td>0.983952</td>\n",
       "      <td>0.983818</td>\n",
       "      <td>20.259741</td>\n",
       "      <td>-0.003541</td>\n",
       "      <td>-0.002860</td>\n",
       "      <td>-0.004289</td>\n",
       "      <td>0.039816</td>\n",
       "      <td>0.082794</td>\n",
       "      <td>0.334760</td>\n",
       "      <td>-0.057840</td>\n",
       "      <td>0.036426</td>\n",
       "      <td>-0.006294</td>\n",
       "      <td>3.144186e+07</td>\n",
       "      <td>3.1</td>\n",
       "      <td>0.027680</td>\n",
       "    </tr>\n",
       "    <tr>\n",
       "      <th>3</th>\n",
       "      <td>10552000641763</td>\n",
       "      <td>15.107370</td>\n",
       "      <td>-46.702310</td>\n",
       "      <td>0.976181</td>\n",
       "      <td>0.975548</td>\n",
       "      <td>95.939423</td>\n",
       "      <td>0.013209</td>\n",
       "      <td>0.008118</td>\n",
       "      <td>-0.008900</td>\n",
       "      <td>0.049019</td>\n",
       "      <td>0.102367</td>\n",
       "      <td>-0.050486</td>\n",
       "      <td>-0.205594</td>\n",
       "      <td>-0.011172</td>\n",
       "      <td>-0.045495</td>\n",
       "      <td>1.317728e+08</td>\n",
       "      <td>3.1</td>\n",
       "      <td>0.029542</td>\n",
       "    </tr>\n",
       "    <tr>\n",
       "      <th>4</th>\n",
       "      <td>10552000641766</td>\n",
       "      <td>14.054153</td>\n",
       "      <td>-45.740775</td>\n",
       "      <td>0.953813</td>\n",
       "      <td>0.960345</td>\n",
       "      <td>-1000.463501</td>\n",
       "      <td>0.002223</td>\n",
       "      <td>-0.010178</td>\n",
       "      <td>0.001170</td>\n",
       "      <td>0.052712</td>\n",
       "      <td>0.110844</td>\n",
       "      <td>-0.061919</td>\n",
       "      <td>0.001511</td>\n",
       "      <td>-0.039471</td>\n",
       "      <td>0.000963</td>\n",
       "      <td>1.256056e+08</td>\n",
       "      <td>3.1</td>\n",
       "      <td>0.036054</td>\n",
       "    </tr>\n",
       "  </tbody>\n",
       "</table>\n",
       "</div>"
      ],
      "text/plain": [
       "        galaxy_id         ra        dec  redshift  redshiftHubble  \\\n",
       "0  10552000641759  14.027356 -45.894913  0.988409        0.987509   \n",
       "1  10552000641760  14.046155 -46.120298  0.984433        0.986193   \n",
       "2  10552000641762  14.118341 -45.953655  0.983952        0.983818   \n",
       "3  10552000641763  15.107370 -46.702310  0.976181        0.975548   \n",
       "4  10552000641766  14.054153 -45.740775  0.953813        0.960345   \n",
       "\n",
       "   peculiarVelocity    shear1    shear2  convergence  \\\n",
       "0        135.722885 -0.000339  0.004834    -0.011072   \n",
       "1       -265.799133 -0.010552 -0.008909    -0.010174   \n",
       "2         20.259741 -0.003541 -0.002860    -0.004289   \n",
       "3         95.939423  0.013209  0.008118    -0.008900   \n",
       "4      -1000.463501  0.002223 -0.010178     0.001170   \n",
       "\n",
       "   spheroidHalfLightRadiusArcsec  diskHalfLightRadiusArcsec  diskEllipticity1  \\\n",
       "0                       0.085181                   0.172449          0.559845   \n",
       "1                       0.095955                   0.188054         -0.482565   \n",
       "2                       0.039816                   0.082794          0.334760   \n",
       "3                       0.049019                   0.102367         -0.050486   \n",
       "4                       0.052712                   0.110844         -0.061919   \n",
       "\n",
       "   diskEllipticity2  spheroidEllipticity1  spheroidEllipticity2  \\\n",
       "0         -0.316807              0.143754             -0.081348   \n",
       "1         -0.434454             -0.415784             -0.374330   \n",
       "2         -0.057840              0.036426             -0.006294   \n",
       "3         -0.205594             -0.011172             -0.045495   \n",
       "4          0.001511             -0.039471              0.000963   \n",
       "\n",
       "   um_source_galaxy_obs_sm  MW_rv     MW_av  \n",
       "0             2.713609e+08    3.1  0.028705  \n",
       "1             2.489032e+09    3.1  0.031167  \n",
       "2             3.144186e+07    3.1  0.027680  \n",
       "3             1.317728e+08    3.1  0.029542  \n",
       "4             1.256056e+08    3.1  0.036054  "
      ]
     },
     "execution_count": 8,
     "metadata": {},
     "output_type": "execute_result"
    }
   ],
   "source": [
    "df_g .head()"
   ]
  },
  {
   "cell_type": "code",
   "execution_count": 9,
   "id": "c80e7f64-13f4-4122-a129-a39c7a6e2768",
   "metadata": {},
   "outputs": [
    {
     "data": {
      "text/plain": [
       "2384710"
      ]
     },
     "execution_count": 9,
     "metadata": {},
     "output_type": "execute_result"
    }
   ],
   "source": [
    "len(df_g)"
   ]
  },
  {
   "cell_type": "code",
   "execution_count": 10,
   "id": "4b50ed61-65a9-47bd-9a44-9ad33ccfec8b",
   "metadata": {},
   "outputs": [
    {
     "data": {
      "text/plain": [
       "Text(0.5, 1.0, 'skyCatalogs_v1.1.2 hp=10552')"
      ]
     },
     "execution_count": 10,
     "metadata": {},
     "output_type": "execute_result"
    },
    {
     "data": {
      "image/png": "[encoded data removed]",
      "text/plain": [
       "<Figure size 640x480 with 1 Axes>"
      ]
     },
     "metadata": {},
     "output_type": "display_data"
    }
   ],
   "source": [
    "fig, ax = plt.subplots(1,1)\n",
    "df_g[\"redshift\"].hist(bins=100,ax=ax)\n",
    "ax.set_xlabel(\"redshift\")\n",
    "ax.set_title(data_name)"
   ]
  },
  {
   "cell_type": "code",
   "execution_count": 11,
   "id": "958e6729-f42a-4c82-ae80-1948943360e5",
   "metadata": {},
   "outputs": [],
   "source": [
    "ffn_flux = os.path.join(datadir,fn_flux)\n",
    "if not os.path.exists(ffn_flux):\n",
    "    raise Exception(f\"File {ffn_fluxy} DOES NOT exists\")\n",
    "else:\n",
    "    df_f = pd.read_parquet(ffn_flux)"
   ]
  },
  {
   "cell_type": "code",
   "execution_count": 12,
   "id": "14f13085-d519-4c8b-b421-8f55608abc1c",
   "metadata": {},
   "outputs": [
    {
     "data": {
      "text/html": [
       "<div>\n",
       "<style scoped>\n",
       "    .dataframe tbody tr th:only-of-type {\n",
       "        vertical-align: middle;\n",
       "    }\n",
       "\n",
       "    .dataframe tbody tr th {\n",
       "        vertical-align: top;\n",
       "    }\n",
       "\n",
       "    .dataframe thead th {\n",
       "        text-align: right;\n",
       "    }\n",
       "</style>\n",
       "<table border=\"1\" class=\"dataframe\">\n",
       "  <thead>\n",
       "    <tr style=\"text-align: right;\">\n",
       "      <th></th>\n",
       "      <th>galaxy_id</th>\n",
       "      <th>lsst_flux_u</th>\n",
       "      <th>lsst_flux_g</th>\n",
       "      <th>lsst_flux_r</th>\n",
       "      <th>lsst_flux_i</th>\n",
       "      <th>lsst_flux_z</th>\n",
       "      <th>lsst_flux_y</th>\n",
       "      <th>roman_flux_W146</th>\n",
       "      <th>roman_flux_R062</th>\n",
       "      <th>roman_flux_Z087</th>\n",
       "      <th>roman_flux_Y106</th>\n",
       "      <th>roman_flux_J129</th>\n",
       "      <th>roman_flux_H158</th>\n",
       "      <th>roman_flux_F184</th>\n",
       "      <th>roman_flux_K213</th>\n",
       "    </tr>\n",
       "  </thead>\n",
       "  <tbody>\n",
       "    <tr>\n",
       "      <th>0</th>\n",
       "      <td>10552000641759</td>\n",
       "      <td>7.238643e-06</td>\n",
       "      <td>0.000037</td>\n",
       "      <td>0.000034</td>\n",
       "      <td>0.000035</td>\n",
       "      <td>0.000033</td>\n",
       "      <td>0.000018</td>\n",
       "      <td>0.000478</td>\n",
       "      <td>0.000085</td>\n",
       "      <td>0.000117</td>\n",
       "      <td>0.000135</td>\n",
       "      <td>0.000147</td>\n",
       "      <td>0.000158</td>\n",
       "      <td>0.000123</td>\n",
       "      <td>0.000116</td>\n",
       "    </tr>\n",
       "    <tr>\n",
       "      <th>1</th>\n",
       "      <td>10552000641760</td>\n",
       "      <td>1.186614e-05</td>\n",
       "      <td>0.000063</td>\n",
       "      <td>0.000064</td>\n",
       "      <td>0.000075</td>\n",
       "      <td>0.000079</td>\n",
       "      <td>0.000046</td>\n",
       "      <td>0.001435</td>\n",
       "      <td>0.000161</td>\n",
       "      <td>0.000275</td>\n",
       "      <td>0.000352</td>\n",
       "      <td>0.000424</td>\n",
       "      <td>0.000506</td>\n",
       "      <td>0.000411</td>\n",
       "      <td>0.000412</td>\n",
       "    </tr>\n",
       "    <tr>\n",
       "      <th>2</th>\n",
       "      <td>10552000641762</td>\n",
       "      <td>1.188626e-06</td>\n",
       "      <td>0.000006</td>\n",
       "      <td>0.000006</td>\n",
       "      <td>0.000006</td>\n",
       "      <td>0.000006</td>\n",
       "      <td>0.000003</td>\n",
       "      <td>0.000087</td>\n",
       "      <td>0.000014</td>\n",
       "      <td>0.000021</td>\n",
       "      <td>0.000024</td>\n",
       "      <td>0.000026</td>\n",
       "      <td>0.000029</td>\n",
       "      <td>0.000023</td>\n",
       "      <td>0.000022</td>\n",
       "    </tr>\n",
       "    <tr>\n",
       "      <th>3</th>\n",
       "      <td>10552000641763</td>\n",
       "      <td>8.450239e-07</td>\n",
       "      <td>0.000004</td>\n",
       "      <td>0.000004</td>\n",
       "      <td>0.000004</td>\n",
       "      <td>0.000004</td>\n",
       "      <td>0.000002</td>\n",
       "      <td>0.000062</td>\n",
       "      <td>0.000010</td>\n",
       "      <td>0.000015</td>\n",
       "      <td>0.000017</td>\n",
       "      <td>0.000019</td>\n",
       "      <td>0.000021</td>\n",
       "      <td>0.000016</td>\n",
       "      <td>0.000015</td>\n",
       "    </tr>\n",
       "    <tr>\n",
       "      <th>4</th>\n",
       "      <td>10552000641766</td>\n",
       "      <td>5.162143e-07</td>\n",
       "      <td>0.000003</td>\n",
       "      <td>0.000002</td>\n",
       "      <td>0.000003</td>\n",
       "      <td>0.000002</td>\n",
       "      <td>0.000001</td>\n",
       "      <td>0.000035</td>\n",
       "      <td>0.000006</td>\n",
       "      <td>0.000009</td>\n",
       "      <td>0.000010</td>\n",
       "      <td>0.000011</td>\n",
       "      <td>0.000012</td>\n",
       "      <td>0.000009</td>\n",
       "      <td>0.000009</td>\n",
       "    </tr>\n",
       "  </tbody>\n",
       "</table>\n",
       "</div>"
      ],
      "text/plain": [
       "        galaxy_id   lsst_flux_u  lsst_flux_g  lsst_flux_r  lsst_flux_i  \\\n",
       "0  10552000641759  7.238643e-06     0.000037     0.000034     0.000035   \n",
       "1  10552000641760  1.186614e-05     0.000063     0.000064     0.000075   \n",
       "2  10552000641762  1.188626e-06     0.000006     0.000006     0.000006   \n",
       "3  10552000641763  8.450239e-07     0.000004     0.000004     0.000004   \n",
       "4  10552000641766  5.162143e-07     0.000003     0.000002     0.000003   \n",
       "\n",
       "   lsst_flux_z  lsst_flux_y  roman_flux_W146  roman_flux_R062  \\\n",
       "0     0.000033     0.000018         0.000478         0.000085   \n",
       "1     0.000079     0.000046         0.001435         0.000161   \n",
       "2     0.000006     0.000003         0.000087         0.000014   \n",
       "3     0.000004     0.000002         0.000062         0.000010   \n",
       "4     0.000002     0.000001         0.000035         0.000006   \n",
       "\n",
       "   roman_flux_Z087  roman_flux_Y106  roman_flux_J129  roman_flux_H158  \\\n",
       "0         0.000117         0.000135         0.000147         0.000158   \n",
       "1         0.000275         0.000352         0.000424         0.000506   \n",
       "2         0.000021         0.000024         0.000026         0.000029   \n",
       "3         0.000015         0.000017         0.000019         0.000021   \n",
       "4         0.000009         0.000010         0.000011         0.000012   \n",
       "\n",
       "   roman_flux_F184  roman_flux_K213  \n",
       "0         0.000123         0.000116  \n",
       "1         0.000411         0.000412  \n",
       "2         0.000023         0.000022  \n",
       "3         0.000016         0.000015  \n",
       "4         0.000009         0.000009  "
      ]
     },
     "execution_count": 12,
     "metadata": {},
     "output_type": "execute_result"
    }
   ],
   "source": [
    "df_f .head()"
   ]
  },
  {
   "cell_type": "code",
   "execution_count": 13,
   "id": "5f049921-b5db-456a-b2a8-b215f376ed3c",
   "metadata": {},
   "outputs": [
    {
     "data": {
      "text/plain": [
       "2384710"
      ]
     },
     "execution_count": 13,
     "metadata": {},
     "output_type": "execute_result"
    }
   ],
   "source": [
    "len(df_f)"
   ]
  },
  {
   "cell_type": "code",
   "execution_count": null,
   "id": "2ea5453e-03a2-4468-bdc4-03c972c802d3",
   "metadata": {},
   "outputs": [],
   "source": []
  }
 ],
 "metadata": {
  "kernelspec": {
   "display_name": "desc-python-bleed",
   "language": "python",
   "name": "desc-python-bleed"
  },
  "language_info": {
   "codemirror_mode": {
    "name": "ipython",
    "version": 3
   },
   "file_extension": ".py",
   "mimetype": "text/x-python",
   "name": "python",
   "nbconvert_exporter": "python",
   "pygments_lexer": "ipython3",
   "version": "3.12.8"
  }
 },
 "nbformat": 4,
 "nbformat_minor": 5
}
